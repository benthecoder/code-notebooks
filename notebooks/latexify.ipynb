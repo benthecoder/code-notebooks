{
 "cells": [
  {
   "cell_type": "code",
   "execution_count": 3,
   "metadata": {},
   "outputs": [
    {
     "name": "stdout",
     "output_type": "stream",
     "text": [
      "Requirement already satisfied: latexify-py==0.2.0 in /Users/benedictneo/miniforge3/lib/python3.9/site-packages (0.2.0)\n",
      "Requirement already satisfied: dill>=0.3.2 in /Users/benedictneo/miniforge3/lib/python3.9/site-packages (from latexify-py==0.2.0) (0.3.6)\n",
      "\n",
      "\u001b[1m[\u001b[0m\u001b[34;49mnotice\u001b[0m\u001b[1;39;49m]\u001b[0m\u001b[39;49m A new release of pip available: \u001b[0m\u001b[31;49m22.2.2\u001b[0m\u001b[39;49m -> \u001b[0m\u001b[32;49m22.3.1\u001b[0m\n",
      "\u001b[1m[\u001b[0m\u001b[34;49mnotice\u001b[0m\u001b[1;39;49m]\u001b[0m\u001b[39;49m To update, run: \u001b[0m\u001b[32;49mpip install --upgrade pip\u001b[0m\n",
      "Note: you may need to restart the kernel to use updated packages.\n"
     ]
    }
   ],
   "source": [
    "%pip install latexify-py==0.2.0"
   ]
  },
  {
   "cell_type": "code",
   "execution_count": 40,
   "metadata": {},
   "outputs": [
    {
     "data": {
      "text/plain": [
       "'0.2.0'"
      ]
     },
     "execution_count": 40,
     "metadata": {},
     "output_type": "execute_result"
    }
   ],
   "source": [
    "import math\n",
    "import latexify\n",
    "\n",
    "latexify.__version__"
   ]
  },
  {
   "cell_type": "code",
   "execution_count": 34,
   "metadata": {},
   "outputs": [
    {
     "data": {
      "text/latex": [
       "$$ \\displaystyle \\mathrm{sigmoid}(x) = \\frac{{1}}{{1} + \\exp{\\left({-x}\\right)}} $$"
      ],
      "text/plain": [
       "<latexify.frontend.LatexifiedFunction at 0x10c596eb0>"
      ]
     },
     "execution_count": 34,
     "metadata": {},
     "output_type": "execute_result"
    }
   ],
   "source": [
    "@latexify.function\n",
    "def sigmoid(x):\n",
    "  return 1 / (1 + math.exp(-x))\n",
    "\n",
    "sigmoid"
   ]
  },
  {
   "cell_type": "code",
   "execution_count": 35,
   "metadata": {},
   "outputs": [
    {
     "name": "stdout",
     "output_type": "stream",
     "text": [
      "\\mathrm{sigmoid}(x) = \\frac{{1}}{{1} + \\exp{\\left({-x}\\right)}}\n"
     ]
    }
   ],
   "source": [
    "print(sigmoid)"
   ]
  },
  {
   "cell_type": "code",
   "execution_count": 36,
   "metadata": {},
   "outputs": [
    {
     "data": {
      "text/plain": [
       "0.7310585786300049"
      ]
     },
     "execution_count": 36,
     "metadata": {},
     "output_type": "execute_result"
    }
   ],
   "source": [
    "sigmoid(1)"
   ]
  },
  {
   "cell_type": "code",
   "execution_count": 94,
   "metadata": {},
   "outputs": [
    {
     "data": {
      "text/latex": [
       "$$ \\displaystyle \\frac{{1}}{{1} + \\exp{\\left({-x}\\right)}} $$"
      ],
      "text/plain": [
       "<latexify.frontend.LatexifiedFunction at 0x10d2a9190>"
      ]
     },
     "execution_count": 94,
     "metadata": {},
     "output_type": "execute_result"
    }
   ],
   "source": [
    "@latexify.expression\n",
    "def sigmoid(x):\n",
    "  return 1 / (1 + math.exp(-x))\n",
    "\n",
    "sigmoid"
   ]
  },
  {
   "cell_type": "code",
   "execution_count": 38,
   "metadata": {},
   "outputs": [
    {
     "name": "stdout",
     "output_type": "stream",
     "text": [
      "\\frac{{1}}{{1} + \\exp{\\left({-x}\\right)}}\n"
     ]
    }
   ],
   "source": [
    "print(sigmoid)"
   ]
  },
  {
   "cell_type": "code",
   "execution_count": 39,
   "metadata": {},
   "outputs": [
    {
     "data": {
      "text/plain": [
       "'\\\\mathrm{sigmoid}(x) = \\\\frac{{1}}{{1} + \\\\exp{\\\\left({-x}\\\\right)}}'"
      ]
     },
     "execution_count": 39,
     "metadata": {},
     "output_type": "execute_result"
    }
   ],
   "source": [
    "def sigmoid(x):\n",
    "  return 1 / (1 + math.exp(-x))\n",
    "\n",
    "latexify.get_latex(sigmoid)"
   ]
  },
  {
   "cell_type": "code",
   "execution_count": 43,
   "metadata": {},
   "outputs": [
    {
     "data": {
      "text/latex": [
       "$$ \\displaystyle \\mathrm{relu}(x) = \\left\\{ \\begin{array}{ll} x, & \\mathrm{if} \\ {x > {0}} \\\\ {0}, & \\mathrm{otherwise} \\end{array} \\right. $$"
      ],
      "text/plain": [
       "<latexify.frontend.LatexifiedFunction at 0x10d18c310>"
      ]
     },
     "execution_count": 43,
     "metadata": {},
     "output_type": "execute_result"
    }
   ],
   "source": [
    "@latexify.function\n",
    "def relu(x):\n",
    "    if x > 0:\n",
    "        return x\n",
    "    else:\n",
    "        return 0\n",
    "\n",
    "relu"
   ]
  },
  {
   "cell_type": "code",
   "execution_count": 87,
   "metadata": {},
   "outputs": [
    {
     "data": {
      "text/latex": [
       "$$ \\displaystyle w x + {\\beta} $$"
      ],
      "text/plain": [
       "<latexify.frontend.LatexifiedFunction at 0x10d2f96a0>"
      ]
     },
     "execution_count": 87,
     "metadata": {},
     "output_type": "execute_result"
    }
   ],
   "source": [
    "@latexify.function(use_math_symbols=True, use_signature=False)\n",
    "def linear_regression(x, w, beta):\n",
    "    return w * x + beta\n",
    "\n",
    "linear_regression"
   ]
  },
  {
   "cell_type": "code",
   "execution_count": 76,
   "metadata": {},
   "outputs": [
    {
     "data": {
      "text/latex": [
       "$$ \\displaystyle \\mathrm{y}(x, W, {\\beta}) = W x + {\\beta} $$"
      ],
      "text/plain": [
       "<latexify.frontend.LatexifiedFunction at 0x10c985d30>"
      ]
     },
     "execution_count": 76,
     "metadata": {},
     "output_type": "execute_result"
    }
   ],
   "source": [
    "identifiers = {\n",
    "    \"linear_regression\": \"y\", \n",
    "    \"w\": \"W\"\n",
    "}\n",
    "\n",
    "@latexify.function(use_math_symbols=True, identifiers=identifiers)\n",
    "def linear_regression(x, w, beta):\n",
    "    return w * x + beta\n",
    "\n",
    "\n",
    "linear_regression"
   ]
  },
  {
   "cell_type": "code",
   "execution_count": 104,
   "metadata": {},
   "outputs": [
    {
     "data": {
      "text/latex": [
       "$$ \\displaystyle \\mathrm{jaccard_similarity}(a, b) = \\frac{\\mathrm{len}\\left(a \\cap b\\right)}{\\mathrm{len}\\left(a \\cup b\\right)} $$"
      ],
      "text/plain": [
       "<latexify.frontend.LatexifiedFunction at 0x10d193a00>"
      ]
     },
     "execution_count": 104,
     "metadata": {},
     "output_type": "execute_result"
    }
   ],
   "source": [
    "@latexify.function(use_set_symbols=True)\n",
    "def jaccard_similarity(a, b):\n",
    "    return len(a & b) / len(a | b)\n",
    "\n",
    "jaccard_similarity"
   ]
  },
  {
   "cell_type": "code",
   "execution_count": 86,
   "metadata": {},
   "outputs": [
    {
     "data": {
      "text/latex": [
       "$$ \\displaystyle \\mathrm{J}(A, B) = \\frac{\\mathrm{cardinality}\\left(A \\cap B\\right)}{\\mathrm{cardinality}\\left(A \\cup B\\right)} $$"
      ],
      "text/plain": [
       "<latexify.frontend.LatexifiedFunction at 0x10d2ed250>"
      ]
     },
     "execution_count": 86,
     "metadata": {},
     "output_type": "execute_result"
    }
   ],
   "source": [
    "identifiers = {\n",
    "    \"jaccard_similarity\": \"J\", \n",
    "    \"a\": \"A\",\n",
    "    \"b\": \"B\",\n",
    "    \"len\": \"cardinality\"\n",
    "}\n",
    "\n",
    "@latexify.function(use_set_symbols=True, identifiers=identifiers)\n",
    "def jaccard_similarity(a, b):\n",
    "    return len(a & b) / len(a | b)\n",
    "\n",
    "jaccard_similarity"
   ]
  },
  {
   "cell_type": "code",
   "execution_count": 91,
   "metadata": {},
   "outputs": [
    {
     "data": {
      "text/latex": [
       "$$ \\displaystyle \\mathrm{logit}(p) = \\log{\\left({\\frac{p}{{1} - p}}\\right)} $$"
      ],
      "text/plain": [
       "<latexify.frontend.LatexifiedFunction at 0x10d2ed640>"
      ]
     },
     "execution_count": 91,
     "metadata": {},
     "output_type": "execute_result"
    }
   ],
   "source": [
    "# logit function\n",
    "@latexify.function(reduce_assignments=True)\n",
    "def logit(p):\n",
    "    nominator = p\n",
    "    denominator = 1 - p\n",
    "    return math.log(nominator / denominator)\n",
    "\n",
    "logit"
   ]
  }
 ],
 "metadata": {
  "kernelspec": {
   "display_name": "Python 3.9.10 ('base')",
   "language": "python",
   "name": "python3"
  },
  "language_info": {
   "codemirror_mode": {
    "name": "ipython",
    "version": 3
   },
   "file_extension": ".py",
   "mimetype": "text/x-python",
   "name": "python",
   "nbconvert_exporter": "python",
   "pygments_lexer": "ipython3",
   "version": "3.9.10"
  },
  "orig_nbformat": 4,
  "vscode": {
   "interpreter": {
    "hash": "0f1e841692445df6c0f476977380d4c26cc40d52508098a18c340919add514d9"
   }
  }
 },
 "nbformat": 4,
 "nbformat_minor": 2
}
