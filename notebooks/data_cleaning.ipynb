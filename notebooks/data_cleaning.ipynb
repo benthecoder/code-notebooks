{
  "nbformat": 4,
  "nbformat_minor": 0,
  "metadata": {
    "kernelspec": {
      "display_name": "Python 3",
      "language": "python",
      "name": "python3"
    },
    "language_info": {
      "codemirror_mode": {
        "name": "ipython",
        "version": 3
      },
      "file_extension": ".py",
      "mimetype": "text/x-python",
      "name": "python",
      "nbconvert_exporter": "python",
      "pygments_lexer": "ipython3",
      "version": "3.8.6"
    },
    "colab": {
      "name": "data-cleaning.ipynb",
      "provenance": []
    }
  },
  "cells": [
    {
      "cell_type": "markdown",
      "metadata": {
        "id": "FbiDm1IrguxP"
      },
      "source": [
        "# data-cleaning\n",
        "\n",
        "Use the \"Run\" button to execute the code."
      ]
    },
    {
      "cell_type": "code",
      "metadata": {
        "id": "gteuOmNNguxR"
      },
      "source": [
        "import pandas as pd\n",
        "import seaborn as sns\n",
        "import numpy as np\n",
        "import matplotlib.pyplot as plt\n",
        "\n",
        "plt.style.use('fivethirtyeight')\n",
        "\n",
        "%matplotlib inline"
      ],
      "execution_count": null,
      "outputs": []
    },
    {
      "cell_type": "code",
      "metadata": {
        "id": "nvwRPqQnguxR"
      },
      "source": [
        "airbnb_url = 'https://raw.githubusercontent.com/ManarOmar/New-York-Airbnb-2019/master/AB_NYC_2019.csv'\n",
        "\n",
        "airbnb_ori = pd.read_csv(airbnb_url)\n",
        "airbnb = airbnb_ori.copy()"
      ],
      "execution_count": null,
      "outputs": []
    },
    {
      "cell_type": "code",
      "metadata": {
        "id": "wdBO4fVdguxS",
        "outputId": "b8569e7d-a957-4d8a-bcbc-a15cc5c363bc"
      },
      "source": [
        "airbnb.head()"
      ],
      "execution_count": null,
      "outputs": [
        {
          "output_type": "execute_result",
          "data": {
            "text/html": [
              "<div>\n",
              "<style scoped>\n",
              "    .dataframe tbody tr th:only-of-type {\n",
              "        vertical-align: middle;\n",
              "    }\n",
              "\n",
              "    .dataframe tbody tr th {\n",
              "        vertical-align: top;\n",
              "    }\n",
              "\n",
              "    .dataframe thead th {\n",
              "        text-align: right;\n",
              "    }\n",
              "</style>\n",
              "<table border=\"1\" class=\"dataframe\">\n",
              "  <thead>\n",
              "    <tr style=\"text-align: right;\">\n",
              "      <th></th>\n",
              "      <th>id</th>\n",
              "      <th>name</th>\n",
              "      <th>host_id</th>\n",
              "      <th>host_name</th>\n",
              "      <th>neighbourhood_group</th>\n",
              "      <th>neighbourhood</th>\n",
              "      <th>latitude</th>\n",
              "      <th>longitude</th>\n",
              "      <th>room_type</th>\n",
              "      <th>price</th>\n",
              "      <th>minimum_nights</th>\n",
              "      <th>number_of_reviews</th>\n",
              "      <th>last_review</th>\n",
              "      <th>reviews_per_month</th>\n",
              "      <th>calculated_host_listings_count</th>\n",
              "      <th>availability_365</th>\n",
              "    </tr>\n",
              "  </thead>\n",
              "  <tbody>\n",
              "    <tr>\n",
              "      <th>0</th>\n",
              "      <td>2539</td>\n",
              "      <td>Clean &amp; quiet apt home by the park</td>\n",
              "      <td>2787</td>\n",
              "      <td>John</td>\n",
              "      <td>Brooklyn</td>\n",
              "      <td>Kensington</td>\n",
              "      <td>40.64749</td>\n",
              "      <td>-73.97237</td>\n",
              "      <td>Private room</td>\n",
              "      <td>149</td>\n",
              "      <td>1</td>\n",
              "      <td>9</td>\n",
              "      <td>2018-10-19</td>\n",
              "      <td>0.21</td>\n",
              "      <td>6</td>\n",
              "      <td>365</td>\n",
              "    </tr>\n",
              "    <tr>\n",
              "      <th>1</th>\n",
              "      <td>2595</td>\n",
              "      <td>Skylit Midtown Castle</td>\n",
              "      <td>2845</td>\n",
              "      <td>Jennifer</td>\n",
              "      <td>Manhattan</td>\n",
              "      <td>Midtown</td>\n",
              "      <td>40.75362</td>\n",
              "      <td>-73.98377</td>\n",
              "      <td>Entire home/apt</td>\n",
              "      <td>225</td>\n",
              "      <td>1</td>\n",
              "      <td>45</td>\n",
              "      <td>2019-05-21</td>\n",
              "      <td>0.38</td>\n",
              "      <td>2</td>\n",
              "      <td>355</td>\n",
              "    </tr>\n",
              "    <tr>\n",
              "      <th>2</th>\n",
              "      <td>3647</td>\n",
              "      <td>THE VILLAGE OF HARLEM....NEW YORK !</td>\n",
              "      <td>4632</td>\n",
              "      <td>Elisabeth</td>\n",
              "      <td>Manhattan</td>\n",
              "      <td>Harlem</td>\n",
              "      <td>40.80902</td>\n",
              "      <td>-73.94190</td>\n",
              "      <td>Private room</td>\n",
              "      <td>150</td>\n",
              "      <td>3</td>\n",
              "      <td>0</td>\n",
              "      <td>NaN</td>\n",
              "      <td>NaN</td>\n",
              "      <td>1</td>\n",
              "      <td>365</td>\n",
              "    </tr>\n",
              "    <tr>\n",
              "      <th>3</th>\n",
              "      <td>3831</td>\n",
              "      <td>Cozy Entire Floor of Brownstone</td>\n",
              "      <td>4869</td>\n",
              "      <td>LisaRoxanne</td>\n",
              "      <td>Brooklyn</td>\n",
              "      <td>Clinton Hill</td>\n",
              "      <td>40.68514</td>\n",
              "      <td>-73.95976</td>\n",
              "      <td>Entire home/apt</td>\n",
              "      <td>89</td>\n",
              "      <td>1</td>\n",
              "      <td>270</td>\n",
              "      <td>2019-07-05</td>\n",
              "      <td>4.64</td>\n",
              "      <td>1</td>\n",
              "      <td>194</td>\n",
              "    </tr>\n",
              "    <tr>\n",
              "      <th>4</th>\n",
              "      <td>5022</td>\n",
              "      <td>Entire Apt: Spacious Studio/Loft by central park</td>\n",
              "      <td>7192</td>\n",
              "      <td>Laura</td>\n",
              "      <td>Manhattan</td>\n",
              "      <td>East Harlem</td>\n",
              "      <td>40.79851</td>\n",
              "      <td>-73.94399</td>\n",
              "      <td>Entire home/apt</td>\n",
              "      <td>80</td>\n",
              "      <td>10</td>\n",
              "      <td>9</td>\n",
              "      <td>2018-11-19</td>\n",
              "      <td>0.10</td>\n",
              "      <td>1</td>\n",
              "      <td>0</td>\n",
              "    </tr>\n",
              "  </tbody>\n",
              "</table>\n",
              "</div>"
            ],
            "text/plain": [
              "     id                                              name  host_id  \\\n",
              "0  2539                Clean & quiet apt home by the park     2787   \n",
              "1  2595                             Skylit Midtown Castle     2845   \n",
              "2  3647               THE VILLAGE OF HARLEM....NEW YORK !     4632   \n",
              "3  3831                   Cozy Entire Floor of Brownstone     4869   \n",
              "4  5022  Entire Apt: Spacious Studio/Loft by central park     7192   \n",
              "\n",
              "     host_name neighbourhood_group neighbourhood  latitude  longitude  \\\n",
              "0         John            Brooklyn    Kensington  40.64749  -73.97237   \n",
              "1     Jennifer           Manhattan       Midtown  40.75362  -73.98377   \n",
              "2    Elisabeth           Manhattan        Harlem  40.80902  -73.94190   \n",
              "3  LisaRoxanne            Brooklyn  Clinton Hill  40.68514  -73.95976   \n",
              "4        Laura           Manhattan   East Harlem  40.79851  -73.94399   \n",
              "\n",
              "         room_type  price  minimum_nights  number_of_reviews last_review  \\\n",
              "0     Private room    149               1                  9  2018-10-19   \n",
              "1  Entire home/apt    225               1                 45  2019-05-21   \n",
              "2     Private room    150               3                  0         NaN   \n",
              "3  Entire home/apt     89               1                270  2019-07-05   \n",
              "4  Entire home/apt     80              10                  9  2018-11-19   \n",
              "\n",
              "   reviews_per_month  calculated_host_listings_count  availability_365  \n",
              "0               0.21                               6               365  \n",
              "1               0.38                               2               355  \n",
              "2                NaN                               1               365  \n",
              "3               4.64                               1               194  \n",
              "4               0.10                               1                 0  "
            ]
          },
          "metadata": {
            "tags": []
          },
          "execution_count": 6
        }
      ]
    },
    {
      "cell_type": "code",
      "metadata": {
        "id": "59qH7_wXguxS",
        "outputId": "f6d124bb-49d1-430c-d66a-15f172b21f86"
      },
      "source": [
        "airbnb.info()"
      ],
      "execution_count": null,
      "outputs": [
        {
          "output_type": "stream",
          "text": [
            "<class 'pandas.core.frame.DataFrame'>\n",
            "RangeIndex: 48895 entries, 0 to 48894\n",
            "Data columns (total 16 columns):\n",
            " #   Column                          Non-Null Count  Dtype  \n",
            "---  ------                          --------------  -----  \n",
            " 0   id                              48895 non-null  int64  \n",
            " 1   name                            48879 non-null  object \n",
            " 2   host_id                         48895 non-null  int64  \n",
            " 3   host_name                       48874 non-null  object \n",
            " 4   neighbourhood_group             48895 non-null  object \n",
            " 5   neighbourhood                   48895 non-null  object \n",
            " 6   latitude                        48895 non-null  float64\n",
            " 7   longitude                       48895 non-null  float64\n",
            " 8   room_type                       48895 non-null  object \n",
            " 9   price                           48895 non-null  int64  \n",
            " 10  minimum_nights                  48895 non-null  int64  \n",
            " 11  number_of_reviews               48895 non-null  int64  \n",
            " 12  last_review                     38843 non-null  object \n",
            " 13  reviews_per_month               38843 non-null  float64\n",
            " 14  calculated_host_listings_count  48895 non-null  int64  \n",
            " 15  availability_365                48895 non-null  int64  \n",
            "dtypes: float64(3), int64(7), object(6)\n",
            "memory usage: 6.0+ MB\n"
          ],
          "name": "stdout"
        }
      ]
    },
    {
      "cell_type": "code",
      "metadata": {
        "id": "nO0cpd5sguxS",
        "outputId": "cb7f3f3d-6f2a-4cb8-b0d1-5fa2d74577af"
      },
      "source": [
        "cat_df = airbnb.select_dtypes(include=['object'])\n",
        "num_df = airbnb.select_dtypes(exclude=['object'])\n",
        "\n",
        "def printColumnTypes(non_numeric_df, numeric_df):\n",
        "    '''separates non-numeric and numeric columns'''\n",
        "    print(\"Non-Numeric columns:\")\n",
        "    for col in non_numeric_df:\n",
        "        print(f\"{col}\")\n",
        "\n",
        "    print(\"\")\n",
        "\n",
        "    print(\"Numeric columns:\")\n",
        "    for col in numeric_df:\n",
        "        print(f\"{col}\")\n",
        "        \n",
        "printColumnTypes(cat_df, num_df)"
      ],
      "execution_count": null,
      "outputs": [
        {
          "output_type": "stream",
          "text": [
            "Non-Numeric columns:\n",
            "name\n",
            "host_name\n",
            "neighbourhood_group\n",
            "neighbourhood\n",
            "room_type\n",
            "last_review\n",
            "\n",
            "Numeric columns:\n",
            "id\n",
            "host_id\n",
            "latitude\n",
            "longitude\n",
            "price\n",
            "minimum_nights\n",
            "number_of_reviews\n",
            "reviews_per_month\n",
            "calculated_host_listings_count\n",
            "availability_365\n"
          ],
          "name": "stdout"
        }
      ]
    },
    {
      "cell_type": "markdown",
      "metadata": {
        "id": "8LxlWCctguxS"
      },
      "source": [
        "## Visualize missing values"
      ]
    },
    {
      "cell_type": "code",
      "metadata": {
        "id": "ijyyZVPuguxS",
        "outputId": "dfa4b11a-07bd-4024-b5de-0ca9cc29253f"
      },
      "source": [
        "def missing_cols(df):\n",
        "    '''prints out columns with its amount of missing values'''\n",
        "    total = 0\n",
        "    for col in df.columns:\n",
        "        missing_vals = df[col].isnull().sum()\n",
        "        total += missing_vals\n",
        "        if missing_vals != 0:\n",
        "            print(f\"{col} => {df[col].isnull().sum()}\")\n",
        "    \n",
        "    if total == 0:\n",
        "        print(\"no missing values left\")\n",
        "            \n",
        "missing_cols(airbnb)"
      ],
      "execution_count": null,
      "outputs": [
        {
          "output_type": "stream",
          "text": [
            "name => 16\n",
            "host_name => 21\n",
            "last_review => 10052\n",
            "reviews_per_month => 10052\n"
          ],
          "name": "stdout"
        }
      ]
    },
    {
      "cell_type": "code",
      "metadata": {
        "id": "bZdepP73guxT",
        "outputId": "9994db15-156c-4b08-f056-c38a79aa0a80"
      },
      "source": [
        "def perc_missing(df):\n",
        "    '''prints out columns with missing values with its %'''\n",
        "    for col in df.columns:\n",
        "        pct = df[col].isna().mean() * 100\n",
        "        if (pct != 0):\n",
        "            print('{} => {}%'.format(col, round(pct, 2)))\n",
        "    \n",
        "perc_missing(airbnb)"
      ],
      "execution_count": null,
      "outputs": [
        {
          "output_type": "stream",
          "text": [
            "name => 0.03%\n",
            "host_name => 0.04%\n",
            "last_review => 20.56%\n",
            "reviews_per_month => 20.56%\n"
          ],
          "name": "stdout"
        }
      ]
    },
    {
      "cell_type": "code",
      "metadata": {
        "id": "BgYJQ1HrguxT",
        "outputId": "a106800f-d108-4c82-df01-6c792a9d78b9"
      },
      "source": [
        "plt.figure(figsize=(10, 6))\n",
        "sns.heatmap(airbnb.isnull(), yticklabels=False, cmap='viridis', cbar=False)"
      ],
      "execution_count": null,
      "outputs": [
        {
          "output_type": "execute_result",
          "data": {
            "text/plain": [
              "<AxesSubplot:>"
            ]
          },
          "metadata": {
            "tags": []
          },
          "execution_count": 11
        },
        {
          "output_type": "display_data",
          "data": {
            "image/png": "[encoded data removed]",
            "text/plain": [
              "<Figure size 720x432 with 1 Axes>"
            ]
          },
          "metadata": {
            "tags": [],
            "needs_background": "light"
          }
        }
      ]
    },
    {
      "cell_type": "markdown",
      "metadata": {
        "id": "Pjy96h8eguxT"
      },
      "source": [
        "## Dropping feature"
      ]
    },
    {
      "cell_type": "code",
      "metadata": {
        "id": "2m3VqtsgguxT",
        "outputId": "b89295bc-22bd-4ef9-fa32-9fb20413f612"
      },
      "source": [
        "# Drop unnecessary columns that are not important\n",
        "colsToDrop = ['id','host_name','last_review']\n",
        "\n",
        "airbnb.drop(colsToDrop, axis=1, inplace=True)\n",
        "\n",
        "missing_cols(airbnb)"
      ],
      "execution_count": null,
      "outputs": [
        {
          "output_type": "stream",
          "text": [
            "name => 16\n",
            "reviews_per_month => 10052\n"
          ],
          "name": "stdout"
        }
      ]
    },
    {
      "cell_type": "markdown",
      "metadata": {
        "id": "9Sw6nj5OguxT"
      },
      "source": [
        "## Replace"
      ]
    },
    {
      "cell_type": "code",
      "metadata": {
        "id": "IXFzZHSIguxT",
        "outputId": "117058e5-66d4-4ff0-a7c1-abd8a1e076bb"
      },
      "source": [
        "# replace null values in reviews_per_month with 0 \n",
        "airbnb.fillna({'reviews_per_month':0}, inplace=True)\n",
        "\n",
        "missing_cols(airbnb)"
      ],
      "execution_count": null,
      "outputs": [
        {
          "output_type": "stream",
          "text": [
            "name => 16\n"
          ],
          "name": "stdout"
        }
      ]
    },
    {
      "cell_type": "code",
      "metadata": {
        "id": "owcNQQzZguxT",
        "outputId": "025df810-e1af-4f2e-ef81-21a0e3bc9eff"
      },
      "source": [
        "# replace null values in name with 'None'\n",
        "airbnb.fillna({'name':'None'}, inplace=True)\n",
        "\n",
        "missing_cols(airbnb)"
      ],
      "execution_count": null,
      "outputs": [
        {
          "output_type": "stream",
          "text": [
            "no missing values left\n"
          ],
          "name": "stdout"
        }
      ]
    },
    {
      "cell_type": "code",
      "metadata": {
        "scrolled": true,
        "id": "46uj6_09guxU",
        "outputId": "e3285c57-334e-4c61-af64-2e2fc8ad57f3"
      },
      "source": [
        "airbnb.head()"
      ],
      "execution_count": null,
      "outputs": [
        {
          "output_type": "execute_result",
          "data": {
            "text/html": [
              "<div>\n",
              "<style scoped>\n",
              "    .dataframe tbody tr th:only-of-type {\n",
              "        vertical-align: middle;\n",
              "    }\n",
              "\n",
              "    .dataframe tbody tr th {\n",
              "        vertical-align: top;\n",
              "    }\n",
              "\n",
              "    .dataframe thead th {\n",
              "        text-align: right;\n",
              "    }\n",
              "</style>\n",
              "<table border=\"1\" class=\"dataframe\">\n",
              "  <thead>\n",
              "    <tr style=\"text-align: right;\">\n",
              "      <th></th>\n",
              "      <th>name</th>\n",
              "      <th>host_id</th>\n",
              "      <th>neighbourhood_group</th>\n",
              "      <th>neighbourhood</th>\n",
              "      <th>latitude</th>\n",
              "      <th>longitude</th>\n",
              "      <th>room_type</th>\n",
              "      <th>price</th>\n",
              "      <th>minimum_nights</th>\n",
              "      <th>number_of_reviews</th>\n",
              "      <th>reviews_per_month</th>\n",
              "      <th>calculated_host_listings_count</th>\n",
              "      <th>availability_365</th>\n",
              "    </tr>\n",
              "  </thead>\n",
              "  <tbody>\n",
              "    <tr>\n",
              "      <th>0</th>\n",
              "      <td>Clean &amp; quiet apt home by the park</td>\n",
              "      <td>2787</td>\n",
              "      <td>Brooklyn</td>\n",
              "      <td>Kensington</td>\n",
              "      <td>40.64749</td>\n",
              "      <td>-73.97237</td>\n",
              "      <td>Private room</td>\n",
              "      <td>149</td>\n",
              "      <td>1</td>\n",
              "      <td>9</td>\n",
              "      <td>0.21</td>\n",
              "      <td>6</td>\n",
              "      <td>365</td>\n",
              "    </tr>\n",
              "    <tr>\n",
              "      <th>1</th>\n",
              "      <td>Skylit Midtown Castle</td>\n",
              "      <td>2845</td>\n",
              "      <td>Manhattan</td>\n",
              "      <td>Midtown</td>\n",
              "      <td>40.75362</td>\n",
              "      <td>-73.98377</td>\n",
              "      <td>Entire home/apt</td>\n",
              "      <td>225</td>\n",
              "      <td>1</td>\n",
              "      <td>45</td>\n",
              "      <td>0.38</td>\n",
              "      <td>2</td>\n",
              "      <td>355</td>\n",
              "    </tr>\n",
              "    <tr>\n",
              "      <th>2</th>\n",
              "      <td>THE VILLAGE OF HARLEM....NEW YORK !</td>\n",
              "      <td>4632</td>\n",
              "      <td>Manhattan</td>\n",
              "      <td>Harlem</td>\n",
              "      <td>40.80902</td>\n",
              "      <td>-73.94190</td>\n",
              "      <td>Private room</td>\n",
              "      <td>150</td>\n",
              "      <td>3</td>\n",
              "      <td>0</td>\n",
              "      <td>0.00</td>\n",
              "      <td>1</td>\n",
              "      <td>365</td>\n",
              "    </tr>\n",
              "    <tr>\n",
              "      <th>3</th>\n",
              "      <td>Cozy Entire Floor of Brownstone</td>\n",
              "      <td>4869</td>\n",
              "      <td>Brooklyn</td>\n",
              "      <td>Clinton Hill</td>\n",
              "      <td>40.68514</td>\n",
              "      <td>-73.95976</td>\n",
              "      <td>Entire home/apt</td>\n",
              "      <td>89</td>\n",
              "      <td>1</td>\n",
              "      <td>270</td>\n",
              "      <td>4.64</td>\n",
              "      <td>1</td>\n",
              "      <td>194</td>\n",
              "    </tr>\n",
              "    <tr>\n",
              "      <th>4</th>\n",
              "      <td>Entire Apt: Spacious Studio/Loft by central park</td>\n",
              "      <td>7192</td>\n",
              "      <td>Manhattan</td>\n",
              "      <td>East Harlem</td>\n",
              "      <td>40.79851</td>\n",
              "      <td>-73.94399</td>\n",
              "      <td>Entire home/apt</td>\n",
              "      <td>80</td>\n",
              "      <td>10</td>\n",
              "      <td>9</td>\n",
              "      <td>0.10</td>\n",
              "      <td>1</td>\n",
              "      <td>0</td>\n",
              "    </tr>\n",
              "  </tbody>\n",
              "</table>\n",
              "</div>"
            ],
            "text/plain": [
              "                                               name  host_id  \\\n",
              "0                Clean & quiet apt home by the park     2787   \n",
              "1                             Skylit Midtown Castle     2845   \n",
              "2               THE VILLAGE OF HARLEM....NEW YORK !     4632   \n",
              "3                   Cozy Entire Floor of Brownstone     4869   \n",
              "4  Entire Apt: Spacious Studio/Loft by central park     7192   \n",
              "\n",
              "  neighbourhood_group neighbourhood  latitude  longitude        room_type  \\\n",
              "0            Brooklyn    Kensington  40.64749  -73.97237     Private room   \n",
              "1           Manhattan       Midtown  40.75362  -73.98377  Entire home/apt   \n",
              "2           Manhattan        Harlem  40.80902  -73.94190     Private room   \n",
              "3            Brooklyn  Clinton Hill  40.68514  -73.95976  Entire home/apt   \n",
              "4           Manhattan   East Harlem  40.79851  -73.94399  Entire home/apt   \n",
              "\n",
              "   price  minimum_nights  number_of_reviews  reviews_per_month  \\\n",
              "0    149               1                  9               0.21   \n",
              "1    225               1                 45               0.38   \n",
              "2    150               3                  0               0.00   \n",
              "3     89               1                270               4.64   \n",
              "4     80              10                  9               0.10   \n",
              "\n",
              "   calculated_host_listings_count  availability_365  \n",
              "0                               6               365  \n",
              "1                               2               355  \n",
              "2                               1               365  \n",
              "3                               1               194  \n",
              "4                               1                 0  "
            ]
          },
          "metadata": {
            "tags": []
          },
          "execution_count": 15
        }
      ]
    },
    {
      "cell_type": "markdown",
      "metadata": {
        "id": "-_bBFQ5cguxU"
      },
      "source": [
        "## Drop rows"
      ]
    },
    {
      "cell_type": "code",
      "metadata": {
        "id": "-JQ3ZDy-guxU"
      },
      "source": [
        "# remove rows with missing values in price\n",
        "airbnb['price'].dropna(inplace=True)"
      ],
      "execution_count": null,
      "outputs": []
    },
    {
      "cell_type": "markdown",
      "metadata": {
        "id": "zItBZgvKguxU"
      },
      "source": [
        "## imputing missing values"
      ]
    },
    {
      "cell_type": "code",
      "metadata": {
        "id": "ONY2jyeCguxU"
      },
      "source": [
        "# imputing price with mean\n",
        "price_mean_value = round(airbnb['price'].mean(), 2)\n",
        "airbnb['price'].fillna(price_mean_value, inplace=True)\n",
        "\n",
        "# imputing price with median\n",
        "price_median_value = round(airbnb['price'].median(), 2)\n",
        "airbnb['price'].fillna(price_median_value, inplace=True)\n",
        "\n",
        "# imputing with bfill or ffill\n",
        "airbnb['price'].bfill(inplace=True)\n",
        "airbnb['price'].ffill(inplace=True)\n",
        "\n",
        "# imputing with SimpleImputor from the sklearn library\n",
        "from sklearn.impute import SimpleImputer\n",
        "# define the imputer\n",
        "imr = SimpleImputer(missing_values=np.nan, strategy='mean') # or median\n",
        "\n",
        "airbnb[['price']] = imr.fit_transform(airbnb[['price']])\n",
        "\n",
        "# use strategy = 'most_frequent' for categorical data"
      ],
      "execution_count": null,
      "outputs": []
    },
    {
      "cell_type": "markdown",
      "metadata": {
        "id": "iUqkvuUMguxU"
      },
      "source": [
        "## Incosistent Data"
      ]
    },
    {
      "cell_type": "code",
      "metadata": {
        "id": "oPLBZzrsguxU",
        "outputId": "1fe877bf-5cde-4e05-fb41-a01453853b6e"
      },
      "source": [
        "# example: remove rows that contain the target word\n",
        "target = '[Nn]oisy'\n",
        "\n",
        "noisy_airbnb = airbnb[airbnb['name'].str.contains(target, regex=True)]\n",
        "\n",
        "# show rows that contains the word noisy\n",
        "print(noisy_airbnb['name'])\n",
        "\n",
        "# get the index that contains the word noisy\n",
        "index_to_drop = noisy_airbnb['name'].index\n",
        "\n",
        "# print(index_to_drop)"
      ],
      "execution_count": null,
      "outputs": [
        {
          "output_type": "stream",
          "text": [
            "19733                     Noisy room next to Prospect Park\n",
            "23857               Small Homey Studio in a Big Noisy City\n",
            "35343    My wife is not used to the noisy environment. How\n",
            "Name: name, dtype: object\n"
          ],
          "name": "stdout"
        }
      ]
    },
    {
      "cell_type": "code",
      "metadata": {
        "id": "dEDF7M86guxU",
        "outputId": "4325f9dc-3285-4762-f6ce-15a4cd7dc3e5"
      },
      "source": [
        "# drop rows based on index\n",
        "airbnb.drop(index_to_drop, axis='index', inplace=True)\n",
        "\n",
        "print(len(airbnb_ori))\n",
        "print(len(airbnb))"
      ],
      "execution_count": null,
      "outputs": [
        {
          "output_type": "stream",
          "text": [
            "48895\n",
            "48892\n"
          ],
          "name": "stdout"
        }
      ]
    },
    {
      "cell_type": "code",
      "metadata": {
        "id": "m8H-erqnguxU",
        "outputId": "61d6ecad-2402-4364-84df-c6740617d467"
      },
      "source": [
        "airbnb['neighbourhood_group'].value_counts()"
      ],
      "execution_count": null,
      "outputs": [
        {
          "output_type": "execute_result",
          "data": {
            "text/plain": [
              "Manhattan        21661\n",
              "Brooklyn         20104\n",
              "Queens            5666\n",
              "Bronx             1091\n",
              "Staten Island      373\n",
              "Name: neighbourhood_group, dtype: int64"
            ]
          },
          "metadata": {
            "tags": []
          },
          "execution_count": 30
        }
      ]
    },
    {
      "cell_type": "code",
      "metadata": {
        "id": "0QuectR0guxV",
        "outputId": "2a606aae-18fb-4e7b-ea5e-f463c76a643c"
      },
      "source": [
        "random_index = airbnb.sample(2, random_state = 10).index\n",
        "\n",
        "# airbnb['neighbourhood_group'].loc[random_index]\n",
        "## we randomly selected Manhattan and Brooklyn\n",
        "\n",
        "wrong_spelling = ['manhatann', 'brookln']\n",
        "\n",
        "# replace them with the wrong spelling\n",
        "airbnb.loc[random_index,'neighbourhood_group'] = wrong_spelling\n",
        "airbnb['neighbourhood_group'].value_counts()"
      ],
      "execution_count": null,
      "outputs": [
        {
          "output_type": "execute_result",
          "data": {
            "text/plain": [
              "Manhattan        21660\n",
              "Brooklyn         20103\n",
              "Queens            5666\n",
              "Bronx             1091\n",
              "Staten Island      373\n",
              "manhatann            1\n",
              "brookln              1\n",
              "Name: neighbourhood_group, dtype: int64"
            ]
          },
          "metadata": {
            "tags": []
          },
          "execution_count": 31
        }
      ]
    },
    {
      "cell_type": "code",
      "metadata": {
        "id": "gRf79pflguxV",
        "outputId": "bc715255-027e-4a74-fbf8-524926fedec0"
      },
      "source": [
        "airbnb['neighbourhood_group'].replace(['manhatann', 'brookln'],\n",
        "                             ['Manhattan', 'Brooklyn'], inplace=True)\n",
        "airbnb['neighbourhood_group'].value_counts()"
      ],
      "execution_count": null,
      "outputs": [
        {
          "output_type": "execute_result",
          "data": {
            "text/plain": [
              "Manhattan        21661\n",
              "Brooklyn         20104\n",
              "Queens            5666\n",
              "Bronx             1091\n",
              "Staten Island      373\n",
              "Name: neighbourhood_group, dtype: int64"
            ]
          },
          "metadata": {
            "tags": []
          },
          "execution_count": 32
        }
      ]
    },
    {
      "cell_type": "code",
      "metadata": {
        "id": "atK_mGHkguxV",
        "outputId": "9c35412c-d070-40aa-9e48-177ccc478dac"
      },
      "source": [
        "new_names = {'name':'listing_name', 'latitude':'lat', 'longitude':'long'}\n",
        "\n",
        "airbnb.rename(columns=new_names, inplace=True)\n",
        "airbnb.head()"
      ],
      "execution_count": null,
      "outputs": [
        {
          "output_type": "execute_result",
          "data": {
            "text/html": [
              "<div>\n",
              "<style scoped>\n",
              "    .dataframe tbody tr th:only-of-type {\n",
              "        vertical-align: middle;\n",
              "    }\n",
              "\n",
              "    .dataframe tbody tr th {\n",
              "        vertical-align: top;\n",
              "    }\n",
              "\n",
              "    .dataframe thead th {\n",
              "        text-align: right;\n",
              "    }\n",
              "</style>\n",
              "<table border=\"1\" class=\"dataframe\">\n",
              "  <thead>\n",
              "    <tr style=\"text-align: right;\">\n",
              "      <th></th>\n",
              "      <th>listing_name</th>\n",
              "      <th>host_id</th>\n",
              "      <th>neighbourhood_group</th>\n",
              "      <th>neighbourhood</th>\n",
              "      <th>lat</th>\n",
              "      <th>long</th>\n",
              "      <th>room_type</th>\n",
              "      <th>price</th>\n",
              "      <th>minimum_nights</th>\n",
              "      <th>number_of_reviews</th>\n",
              "      <th>reviews_per_month</th>\n",
              "      <th>calculated_host_listings_count</th>\n",
              "      <th>availability_365</th>\n",
              "    </tr>\n",
              "  </thead>\n",
              "  <tbody>\n",
              "    <tr>\n",
              "      <th>0</th>\n",
              "      <td>Clean &amp; quiet apt home by the park</td>\n",
              "      <td>2787</td>\n",
              "      <td>Brooklyn</td>\n",
              "      <td>Kensington</td>\n",
              "      <td>40.64749</td>\n",
              "      <td>-73.97237</td>\n",
              "      <td>Private room</td>\n",
              "      <td>149</td>\n",
              "      <td>1</td>\n",
              "      <td>9</td>\n",
              "      <td>0.21</td>\n",
              "      <td>6</td>\n",
              "      <td>365</td>\n",
              "    </tr>\n",
              "    <tr>\n",
              "      <th>1</th>\n",
              "      <td>Skylit Midtown Castle</td>\n",
              "      <td>2845</td>\n",
              "      <td>Manhattan</td>\n",
              "      <td>Midtown</td>\n",
              "      <td>40.75362</td>\n",
              "      <td>-73.98377</td>\n",
              "      <td>Entire home/apt</td>\n",
              "      <td>225</td>\n",
              "      <td>1</td>\n",
              "      <td>45</td>\n",
              "      <td>0.38</td>\n",
              "      <td>2</td>\n",
              "      <td>355</td>\n",
              "    </tr>\n",
              "    <tr>\n",
              "      <th>2</th>\n",
              "      <td>THE VILLAGE OF HARLEM....NEW YORK !</td>\n",
              "      <td>4632</td>\n",
              "      <td>Manhattan</td>\n",
              "      <td>Harlem</td>\n",
              "      <td>40.80902</td>\n",
              "      <td>-73.94190</td>\n",
              "      <td>Private room</td>\n",
              "      <td>150</td>\n",
              "      <td>3</td>\n",
              "      <td>0</td>\n",
              "      <td>0.00</td>\n",
              "      <td>1</td>\n",
              "      <td>365</td>\n",
              "    </tr>\n",
              "    <tr>\n",
              "      <th>3</th>\n",
              "      <td>Cozy Entire Floor of Brownstone</td>\n",
              "      <td>4869</td>\n",
              "      <td>Brooklyn</td>\n",
              "      <td>Clinton Hill</td>\n",
              "      <td>40.68514</td>\n",
              "      <td>-73.95976</td>\n",
              "      <td>Entire home/apt</td>\n",
              "      <td>89</td>\n",
              "      <td>1</td>\n",
              "      <td>270</td>\n",
              "      <td>4.64</td>\n",
              "      <td>1</td>\n",
              "      <td>194</td>\n",
              "    </tr>\n",
              "    <tr>\n",
              "      <th>4</th>\n",
              "      <td>Entire Apt: Spacious Studio/Loft by central park</td>\n",
              "      <td>7192</td>\n",
              "      <td>Manhattan</td>\n",
              "      <td>East Harlem</td>\n",
              "      <td>40.79851</td>\n",
              "      <td>-73.94399</td>\n",
              "      <td>Entire home/apt</td>\n",
              "      <td>80</td>\n",
              "      <td>10</td>\n",
              "      <td>9</td>\n",
              "      <td>0.10</td>\n",
              "      <td>1</td>\n",
              "      <td>0</td>\n",
              "    </tr>\n",
              "  </tbody>\n",
              "</table>\n",
              "</div>"
            ],
            "text/plain": [
              "                                       listing_name  host_id  \\\n",
              "0                Clean & quiet apt home by the park     2787   \n",
              "1                             Skylit Midtown Castle     2845   \n",
              "2               THE VILLAGE OF HARLEM....NEW YORK !     4632   \n",
              "3                   Cozy Entire Floor of Brownstone     4869   \n",
              "4  Entire Apt: Spacious Studio/Loft by central park     7192   \n",
              "\n",
              "  neighbourhood_group neighbourhood       lat      long        room_type  \\\n",
              "0            Brooklyn    Kensington  40.64749 -73.97237     Private room   \n",
              "1           Manhattan       Midtown  40.75362 -73.98377  Entire home/apt   \n",
              "2           Manhattan        Harlem  40.80902 -73.94190     Private room   \n",
              "3            Brooklyn  Clinton Hill  40.68514 -73.95976  Entire home/apt   \n",
              "4           Manhattan   East Harlem  40.79851 -73.94399  Entire home/apt   \n",
              "\n",
              "   price  minimum_nights  number_of_reviews  reviews_per_month  \\\n",
              "0    149               1                  9               0.21   \n",
              "1    225               1                 45               0.38   \n",
              "2    150               3                  0               0.00   \n",
              "3     89               1                270               4.64   \n",
              "4     80              10                  9               0.10   \n",
              "\n",
              "   calculated_host_listings_count  availability_365  \n",
              "0                               6               365  \n",
              "1                               2               355  \n",
              "2                               1               365  \n",
              "3                               1               194  \n",
              "4                               1                 0  "
            ]
          },
          "metadata": {
            "tags": []
          },
          "execution_count": 33
        }
      ]
    },
    {
      "cell_type": "code",
      "metadata": {
        "id": "UKH_yTMTguxV",
        "outputId": "5820f2a8-403b-429d-a862-1727512bf5a2"
      },
      "source": [
        "airbnb.duplicated().any()\n",
        "\n",
        "## if true\n",
        "# airbnb.drop_duplicates()\n",
        "\n",
        "## if you want to drop duplicates at specific column\n",
        "# airbnb.drop('col_name', axis=1, inplace=True).drop_duplicates()"
      ],
      "execution_count": null,
      "outputs": [
        {
          "output_type": "execute_result",
          "data": {
            "text/plain": [
              "False"
            ]
          },
          "metadata": {
            "tags": []
          },
          "execution_count": 81
        }
      ]
    },
    {
      "cell_type": "code",
      "metadata": {
        "id": "UtVcZk2fguxV",
        "outputId": "99d24ca3-aee4-43a0-c613-65bb0b7e4a14"
      },
      "source": [
        "airbnb_ori['last_review'] = pd.to_datetime(airbnb_ori['last_review'], format='%Y-%m-%d')\n",
        "airbnb_ori.info()"
      ],
      "execution_count": null,
      "outputs": [
        {
          "output_type": "stream",
          "text": [
            "<class 'pandas.core.frame.DataFrame'>\n",
            "RangeIndex: 48895 entries, 0 to 48894\n",
            "Data columns (total 16 columns):\n",
            " #   Column                          Non-Null Count  Dtype         \n",
            "---  ------                          --------------  -----         \n",
            " 0   id                              48895 non-null  int32         \n",
            " 1   name                            48879 non-null  object        \n",
            " 2   host_id                         48895 non-null  int64         \n",
            " 3   host_name                       48874 non-null  object        \n",
            " 4   neighbourhood_group             48895 non-null  object        \n",
            " 5   neighbourhood                   48895 non-null  object        \n",
            " 6   latitude                        48895 non-null  float64       \n",
            " 7   longitude                       48895 non-null  float64       \n",
            " 8   room_type                       48895 non-null  object        \n",
            " 9   price                           48895 non-null  int64         \n",
            " 10  minimum_nights                  48895 non-null  int64         \n",
            " 11  number_of_reviews               48895 non-null  int64         \n",
            " 12  last_review                     38843 non-null  datetime64[ns]\n",
            " 13  reviews_per_month               38843 non-null  float64       \n",
            " 14  calculated_host_listings_count  48895 non-null  int64         \n",
            " 15  availability_365                48895 non-null  int64         \n",
            "dtypes: datetime64[ns](1), float64(3), int32(1), int64(6), object(5)\n",
            "memory usage: 5.8+ MB\n"
          ],
          "name": "stdout"
        }
      ]
    },
    {
      "cell_type": "code",
      "metadata": {
        "id": "joDMBGpVguxV",
        "outputId": "24fbe37b-51a4-4a16-d6f3-f5c57fadd82f"
      },
      "source": [
        "airbnb_ori['id'] = airbnb_ori['id'].astype('int32')\n",
        "airbnb_ori.info()"
      ],
      "execution_count": null,
      "outputs": [
        {
          "output_type": "stream",
          "text": [
            "<class 'pandas.core.frame.DataFrame'>\n",
            "RangeIndex: 48895 entries, 0 to 48894\n",
            "Data columns (total 16 columns):\n",
            " #   Column                          Non-Null Count  Dtype         \n",
            "---  ------                          --------------  -----         \n",
            " 0   id                              48895 non-null  int32         \n",
            " 1   name                            48879 non-null  object        \n",
            " 2   host_id                         48895 non-null  int64         \n",
            " 3   host_name                       48874 non-null  object        \n",
            " 4   neighbourhood_group             48895 non-null  object        \n",
            " 5   neighbourhood                   48895 non-null  object        \n",
            " 6   latitude                        48895 non-null  float64       \n",
            " 7   longitude                       48895 non-null  float64       \n",
            " 8   room_type                       48895 non-null  object        \n",
            " 9   price                           48895 non-null  int64         \n",
            " 10  minimum_nights                  48895 non-null  int64         \n",
            " 11  number_of_reviews               48895 non-null  int64         \n",
            " 12  last_review                     38843 non-null  datetime64[ns]\n",
            " 13  reviews_per_month               38843 non-null  float64       \n",
            " 14  calculated_host_listings_count  48895 non-null  int64         \n",
            " 15  availability_365                48895 non-null  int64         \n",
            "dtypes: datetime64[ns](1), float64(3), int32(1), int64(6), object(5)\n",
            "memory usage: 5.8+ MB\n"
          ],
          "name": "stdout"
        }
      ]
    },
    {
      "cell_type": "markdown",
      "metadata": {
        "id": "HXi3HKaeguxV"
      },
      "source": [
        "## Dealing with outliers"
      ]
    },
    {
      "cell_type": "code",
      "metadata": {
        "id": "FtbdNBQ1guxV",
        "outputId": "1c117c68-464d-45f3-9a3a-e788c19caf86"
      },
      "source": [
        "airbnb['price'].describe()"
      ],
      "execution_count": null,
      "outputs": [
        {
          "output_type": "execute_result",
          "data": {
            "text/plain": [
              "count    48895.000000\n",
              "mean       152.720687\n",
              "std        240.154170\n",
              "min          0.000000\n",
              "25%         69.000000\n",
              "50%        106.000000\n",
              "75%        175.000000\n",
              "max      10000.000000\n",
              "Name: price, dtype: float64"
            ]
          },
          "metadata": {
            "tags": []
          },
          "execution_count": 87
        }
      ]
    },
    {
      "cell_type": "code",
      "metadata": {
        "id": "XF8prVgaguxW",
        "outputId": "447ab487-3cd6-497e-8297-73cf75cbb667"
      },
      "source": [
        "plt.figure(figsize=(10, 6))\n",
        "airbnb['price'].hist(bins=100)"
      ],
      "execution_count": null,
      "outputs": [
        {
          "output_type": "execute_result",
          "data": {
            "text/plain": [
              "<AxesSubplot:>"
            ]
          },
          "metadata": {
            "tags": []
          },
          "execution_count": 126
        },
        {
          "output_type": "display_data",
          "data": {
            "image/png": "[encoded data removed]",
            "text/plain": [
              "<Figure size 720x432 with 1 Axes>"
            ]
          },
          "metadata": {
            "tags": [],
            "needs_background": "light"
          }
        }
      ]
    },
    {
      "cell_type": "code",
      "metadata": {
        "id": "tovqAXWVguxW",
        "outputId": "517a29e4-58a0-4edd-f306-2a41bd469dc8"
      },
      "source": [
        "plt.figure(figsize=(10, 6))\n",
        "airbnb.boxplot(column=['price'])"
      ],
      "execution_count": null,
      "outputs": [
        {
          "output_type": "execute_result",
          "data": {
            "text/plain": [
              "<AxesSubplot:>"
            ]
          },
          "metadata": {
            "tags": []
          },
          "execution_count": 127
        },
        {
          "output_type": "display_data",
          "data": {
            "image/png": "[encoded data removed]",
            "text/plain": [
              "<Figure size 720x432 with 1 Axes>"
            ]
          },
          "metadata": {
            "tags": [],
            "needs_background": "light"
          }
        }
      ]
    },
    {
      "cell_type": "code",
      "metadata": {
        "id": "eSeKyKEtguxW",
        "outputId": "fa4c3170-7d03-45d5-debe-62c14b70d7d1"
      },
      "source": [
        "plt.figure(figsize=(10, 6))\n",
        "airbnb['neighbourhood_group'].value_counts().plot.bar()"
      ],
      "execution_count": null,
      "outputs": [
        {
          "output_type": "execute_result",
          "data": {
            "text/plain": [
              "<AxesSubplot:>"
            ]
          },
          "metadata": {
            "tags": []
          },
          "execution_count": 128
        },
        {
          "output_type": "display_data",
          "data": {
            "image/png": "[encoded data removed]",
            "text/plain": [
              "<Figure size 720x432 with 1 Axes>"
            ]
          },
          "metadata": {
            "tags": [],
            "needs_background": "light"
          }
        }
      ]
    },
    {
      "cell_type": "code",
      "metadata": {
        "id": "F6fDEoLOguxW"
      },
      "source": [
        ""
      ],
      "execution_count": null,
      "outputs": []
    }
  ]
}