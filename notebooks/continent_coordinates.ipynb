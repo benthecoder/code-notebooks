{
 "cells": [
  {
   "cell_type": "markdown",
   "metadata": {},
   "source": [
    "## Install Libraries"
   ]
  },
  {
   "cell_type": "code",
   "execution_count": 7,
   "metadata": {},
   "outputs": [],
   "source": [
    "_ = !pip install geopy pycountry-convert -q"
   ]
  },
  {
   "cell_type": "markdown",
   "metadata": {},
   "source": [
    "## Import libraries"
   ]
  },
  {
   "cell_type": "code",
   "execution_count": 32,
   "metadata": {},
   "outputs": [],
   "source": [
    "import numpy as np\n",
    "import pandas as pd\n",
    "from geopy.geocoders import Nominatim\n",
    "from geopy.extra.rate_limiter import RateLimiter\n",
    "import pycountry_convert as pc\n",
    "\n",
    "from pprint import pprint\n",
    "from typing import Tuple\n",
    "\n",
    "from tqdm import tqdm\n",
    "tqdm.pandas()"
   ]
  },
  {
   "cell_type": "code",
   "execution_count": 33,
   "metadata": {},
   "outputs": [
    {
     "data": {
      "text/html": [
       "<div>\n",
       "<style scoped>\n",
       "    .dataframe tbody tr th:only-of-type {\n",
       "        vertical-align: middle;\n",
       "    }\n",
       "\n",
       "    .dataframe tbody tr th {\n",
       "        vertical-align: top;\n",
       "    }\n",
       "\n",
       "    .dataframe thead th {\n",
       "        text-align: right;\n",
       "    }\n",
       "</style>\n",
       "<table border=\"1\" class=\"dataframe\">\n",
       "  <thead>\n",
       "    <tr style=\"text-align: right;\">\n",
       "      <th></th>\n",
       "      <th>CUSTOMER_NAME</th>\n",
       "      <th>PLANT_NAME</th>\n",
       "      <th>LATITUDE</th>\n",
       "      <th>LONGITUDE</th>\n",
       "      <th>ELEVATION</th>\n",
       "      <th>FUEL_N2_MOL_PCT</th>\n",
       "      <th>FUEL_MW</th>\n",
       "      <th>FUEL_LHV</th>\n",
       "      <th>CO2_FUEL_RATIO</th>\n",
       "    </tr>\n",
       "  </thead>\n",
       "  <tbody>\n",
       "    <tr>\n",
       "      <th>0</th>\n",
       "      <td>SPIFFY</td>\n",
       "      <td>SPIRITUAL-POLECAT</td>\n",
       "      <td>61.170356</td>\n",
       "      <td>42.874767</td>\n",
       "      <td>112.000000</td>\n",
       "      <td>4.445063</td>\n",
       "      <td>16.572225</td>\n",
       "      <td>21514.222365</td>\n",
       "      <td>2.621803</td>\n",
       "    </tr>\n",
       "    <tr>\n",
       "      <th>1</th>\n",
       "      <td>NONCHALANT</td>\n",
       "      <td>NIFTY-ROOK</td>\n",
       "      <td>37.554515</td>\n",
       "      <td>49.908217</td>\n",
       "      <td>-29.000000</td>\n",
       "      <td>1.053145</td>\n",
       "      <td>16.166097</td>\n",
       "      <td>21526.470829</td>\n",
       "      <td>2.714870</td>\n",
       "    </tr>\n",
       "    <tr>\n",
       "      <th>2</th>\n",
       "      <td>NONCHALANT</td>\n",
       "      <td>PREHISTORIC-PETREL</td>\n",
       "      <td>29.190866</td>\n",
       "      <td>60.491702</td>\n",
       "      <td>1552.426025</td>\n",
       "      <td>10.298848</td>\n",
       "      <td>17.273122</td>\n",
       "      <td>21494.438672</td>\n",
       "      <td>2.461189</td>\n",
       "    </tr>\n",
       "    <tr>\n",
       "      <th>3</th>\n",
       "      <td>NONCHALANT</td>\n",
       "      <td>THERAPEUTIC-LIONFISH</td>\n",
       "      <td>13.253365</td>\n",
       "      <td>76.411056</td>\n",
       "      <td>867.591553</td>\n",
       "      <td>13.188814</td>\n",
       "      <td>17.619149</td>\n",
       "      <td>21485.251979</td>\n",
       "      <td>2.381895</td>\n",
       "    </tr>\n",
       "    <tr>\n",
       "      <th>4</th>\n",
       "      <td>SOFT</td>\n",
       "      <td>ABORIGINAL-PICULET</td>\n",
       "      <td>-68.632002</td>\n",
       "      <td>66.155301</td>\n",
       "      <td>1253.152832</td>\n",
       "      <td>7.581916</td>\n",
       "      <td>16.947813</td>\n",
       "      <td>21503.417436</td>\n",
       "      <td>2.535736</td>\n",
       "    </tr>\n",
       "  </tbody>\n",
       "</table>\n",
       "</div>"
      ],
      "text/plain": [
       "  CUSTOMER_NAME            PLANT_NAME   LATITUDE  LONGITUDE    ELEVATION  \\\n",
       "0        SPIFFY     SPIRITUAL-POLECAT  61.170356  42.874767   112.000000   \n",
       "1    NONCHALANT            NIFTY-ROOK  37.554515  49.908217   -29.000000   \n",
       "2    NONCHALANT    PREHISTORIC-PETREL  29.190866  60.491702  1552.426025   \n",
       "3    NONCHALANT  THERAPEUTIC-LIONFISH  13.253365  76.411056   867.591553   \n",
       "4          SOFT    ABORIGINAL-PICULET -68.632002  66.155301  1253.152832   \n",
       "\n",
       "   FUEL_N2_MOL_PCT    FUEL_MW      FUEL_LHV  CO2_FUEL_RATIO  \n",
       "0         4.445063  16.572225  21514.222365        2.621803  \n",
       "1         1.053145  16.166097  21526.470829        2.714870  \n",
       "2        10.298848  17.273122  21494.438672        2.461189  \n",
       "3        13.188814  17.619149  21485.251979        2.381895  \n",
       "4         7.581916  16.947813  21503.417436        2.535736  "
      ]
     },
     "execution_count": 33,
     "metadata": {},
     "output_type": "execute_result"
    }
   ],
   "source": [
    "site_df = pd.read_csv(\"https://gist.githubusercontent.com/benthecoder/7edb951977fdc5e80ad6a75ffb1626a1/raw/fb2f3a7a72b0dcfb2d137d691e5b64a3169281a3/site_metadata.csv\")\n",
    "site_df.head()"
   ]
  },
  {
   "cell_type": "code",
   "execution_count": 13,
   "metadata": {},
   "outputs": [
    {
     "data": {
      "text/plain": [
       "array([61.17035566, 42.87476723])"
      ]
     },
     "execution_count": 13,
     "metadata": {},
     "output_type": "execute_result"
    }
   ],
   "source": [
    "site_df[[\"LATITUDE\", \"LONGITUDE\"]].values[0]"
   ]
  },
  {
   "cell_type": "code",
   "execution_count": 59,
   "metadata": {},
   "outputs": [
    {
     "data": {
      "text/plain": [
       "Location(Октябрьское городское поселение, Ustyansky District, Arkhangelsk Oblast, Northwestern Federal District, Russia, (61.2195686, 43.11476973933877, 0.0))"
      ]
     },
     "execution_count": 59,
     "metadata": {},
     "output_type": "execute_result"
    }
   ],
   "source": [
    "locator = Nominatim(user_agent=\"test\")\n",
    "location = locator.reverse(\"61.170356,42.874767\", language=\"en\")\n",
    "location"
   ]
  },
  {
   "cell_type": "code",
   "execution_count": 60,
   "metadata": {},
   "outputs": [
    {
     "data": {
      "text/plain": [
       "{'place_id': 298376071,\n",
       " 'licence': 'Data © OpenStreetMap contributors, ODbL 1.0. https://osm.org/copyright',\n",
       " 'osm_type': 'relation',\n",
       " 'osm_id': 2062004,\n",
       " 'lat': '61.2195686',\n",
       " 'lon': '43.11476973933877',\n",
       " 'display_name': 'Октябрьское городское поселение, Ustyansky District, Arkhangelsk Oblast, Northwestern Federal District, Russia',\n",
       " 'address': {'municipality': 'Октябрьское городское поселение',\n",
       "  'county': 'Ustyansky District',\n",
       "  'state': 'Arkhangelsk Oblast',\n",
       "  'ISO3166-2-lvl4': 'RU-ARK',\n",
       "  'region': 'Northwestern Federal District',\n",
       "  'country': 'Russia',\n",
       "  'country_code': 'ru'},\n",
       " 'boundingbox': ['61.0517979', '61.3870254', '42.7976429', '43.5165438']}"
      ]
     },
     "execution_count": 60,
     "metadata": {},
     "output_type": "execute_result"
    }
   ],
   "source": [
    "location.raw"
   ]
  },
  {
   "cell_type": "code",
   "execution_count": 61,
   "metadata": {},
   "outputs": [
    {
     "name": "stdout",
     "output_type": "stream",
     "text": [
      "{'ISO3166-2-lvl4': 'RU-ARK',\n",
      " 'country': 'Russia',\n",
      " 'country_code': 'ru',\n",
      " 'county': 'Ustyansky District',\n",
      " 'municipality': 'Октябрьское городское поселение',\n",
      " 'region': 'Northwestern Federal District',\n",
      " 'state': 'Arkhangelsk Oblast'}\n"
     ]
    }
   ],
   "source": [
    "pprint(location.raw[\"address\"])"
   ]
  },
  {
   "cell_type": "code",
   "execution_count": 65,
   "metadata": {},
   "outputs": [
    {
     "data": {
      "text/plain": [
       "'EU'"
      ]
     },
     "execution_count": 65,
     "metadata": {},
     "output_type": "execute_result"
    }
   ],
   "source": [
    "pc.country_alpha2_to_continent_code(\"RU\") # only uppercase"
   ]
  },
  {
   "cell_type": "code",
   "execution_count": 34,
   "metadata": {},
   "outputs": [],
   "source": [
    "def get_continent_name(continent_code: str) -> str:\n",
    "    continent_dict = {\n",
    "        \"NA\": \"North America\",\n",
    "        \"SA\": \"South America\",\n",
    "        \"AS\": \"Asia\",\n",
    "        \"AF\": \"Africa\",\n",
    "        \"OC\": \"Oceania\",\n",
    "        \"EU\": \"Europe\",\n",
    "        \"AQ\" : \"Antarctica\"\n",
    "    }\n",
    "    return continent_dict[continent_code]\n",
    "\n",
    "def get_continent(lat: float, lon:float) -> Tuple[str, str, str]:\n",
    "    geolocator = Nominatim(user_agent=\"<username>@gmail.com\", timeout=10)\n",
    "    geocode = RateLimiter(geolocator.reverse, min_delay_seconds=1)\n",
    "\n",
    "    location = geocode(f\"{lat}, {lon}\", language=\"en\")\n",
    "\n",
    "    # for cases where the location is not found, coordinates are antarctica\n",
    "    if location is None:\n",
    "        return \"Antarctica\", \"Antarctica\"\n",
    "\n",
    "    address = location.raw[\"address\"]\n",
    "    # extract country name and code\n",
    "    country_name = address[\"country\"]\n",
    "    country_code = address[\"country_code\"].upper()\n",
    "\n",
    "    # get continent code from country code\n",
    "    continent_code = pc.country_alpha2_to_continent_code(country_code)\n",
    "    continent_name = get_continent_name(continent_code)\n",
    "    \n",
    "    return country_name, continent_name"
   ]
  },
  {
   "cell_type": "markdown",
   "metadata": {},
   "source": [
    "## Get location data"
   ]
  },
  {
   "cell_type": "code",
   "execution_count": 35,
   "metadata": {},
   "outputs": [
    {
     "name": "stderr",
     "output_type": "stream",
     "text": [
      "100%|██████████| 45/45 [00:24<00:00,  1.86it/s]\n"
     ]
    }
   ],
   "source": [
    "site_df[[\"COUNTRY\", \"CONTINENT\"]] = site_df.progress_apply(\n",
    "    lambda x: get_continent(x[\"LATITUDE\"], x[\"LONGITUDE\"]), axis=1, result_type=\"expand\"\n",
    ")"
   ]
  },
  {
   "cell_type": "code",
   "execution_count": 36,
   "metadata": {},
   "outputs": [
    {
     "data": {
      "text/html": [
       "<div>\n",
       "<style scoped>\n",
       "    .dataframe tbody tr th:only-of-type {\n",
       "        vertical-align: middle;\n",
       "    }\n",
       "\n",
       "    .dataframe tbody tr th {\n",
       "        vertical-align: top;\n",
       "    }\n",
       "\n",
       "    .dataframe thead th {\n",
       "        text-align: right;\n",
       "    }\n",
       "</style>\n",
       "<table border=\"1\" class=\"dataframe\">\n",
       "  <thead>\n",
       "    <tr style=\"text-align: right;\">\n",
       "      <th></th>\n",
       "      <th>CUSTOMER_NAME</th>\n",
       "      <th>PLANT_NAME</th>\n",
       "      <th>LATITUDE</th>\n",
       "      <th>LONGITUDE</th>\n",
       "      <th>ELEVATION</th>\n",
       "      <th>FUEL_N2_MOL_PCT</th>\n",
       "      <th>FUEL_MW</th>\n",
       "      <th>FUEL_LHV</th>\n",
       "      <th>CO2_FUEL_RATIO</th>\n",
       "      <th>COUNTRY</th>\n",
       "      <th>CONTINENT</th>\n",
       "    </tr>\n",
       "  </thead>\n",
       "  <tbody>\n",
       "    <tr>\n",
       "      <th>0</th>\n",
       "      <td>SPIFFY</td>\n",
       "      <td>SPIRITUAL-POLECAT</td>\n",
       "      <td>61.170356</td>\n",
       "      <td>42.874767</td>\n",
       "      <td>112.000000</td>\n",
       "      <td>4.445063</td>\n",
       "      <td>16.572225</td>\n",
       "      <td>21514.222365</td>\n",
       "      <td>2.621803</td>\n",
       "      <td>Russia</td>\n",
       "      <td>Europe</td>\n",
       "    </tr>\n",
       "    <tr>\n",
       "      <th>1</th>\n",
       "      <td>NONCHALANT</td>\n",
       "      <td>NIFTY-ROOK</td>\n",
       "      <td>37.554515</td>\n",
       "      <td>49.908217</td>\n",
       "      <td>-29.000000</td>\n",
       "      <td>1.053145</td>\n",
       "      <td>16.166097</td>\n",
       "      <td>21526.470829</td>\n",
       "      <td>2.714870</td>\n",
       "      <td>Iran</td>\n",
       "      <td>Asia</td>\n",
       "    </tr>\n",
       "    <tr>\n",
       "      <th>2</th>\n",
       "      <td>NONCHALANT</td>\n",
       "      <td>PREHISTORIC-PETREL</td>\n",
       "      <td>29.190866</td>\n",
       "      <td>60.491702</td>\n",
       "      <td>1552.426025</td>\n",
       "      <td>10.298848</td>\n",
       "      <td>17.273122</td>\n",
       "      <td>21494.438672</td>\n",
       "      <td>2.461189</td>\n",
       "      <td>Iran</td>\n",
       "      <td>Asia</td>\n",
       "    </tr>\n",
       "    <tr>\n",
       "      <th>3</th>\n",
       "      <td>NONCHALANT</td>\n",
       "      <td>THERAPEUTIC-LIONFISH</td>\n",
       "      <td>13.253365</td>\n",
       "      <td>76.411056</td>\n",
       "      <td>867.591553</td>\n",
       "      <td>13.188814</td>\n",
       "      <td>17.619149</td>\n",
       "      <td>21485.251979</td>\n",
       "      <td>2.381895</td>\n",
       "      <td>India</td>\n",
       "      <td>Asia</td>\n",
       "    </tr>\n",
       "    <tr>\n",
       "      <th>4</th>\n",
       "      <td>SOFT</td>\n",
       "      <td>ABORIGINAL-PICULET</td>\n",
       "      <td>-68.632002</td>\n",
       "      <td>66.155301</td>\n",
       "      <td>1253.152832</td>\n",
       "      <td>7.581916</td>\n",
       "      <td>16.947813</td>\n",
       "      <td>21503.417436</td>\n",
       "      <td>2.535736</td>\n",
       "      <td>Antarctica</td>\n",
       "      <td>Antarctica</td>\n",
       "    </tr>\n",
       "  </tbody>\n",
       "</table>\n",
       "</div>"
      ],
      "text/plain": [
       "  CUSTOMER_NAME            PLANT_NAME   LATITUDE  LONGITUDE    ELEVATION  \\\n",
       "0        SPIFFY     SPIRITUAL-POLECAT  61.170356  42.874767   112.000000   \n",
       "1    NONCHALANT            NIFTY-ROOK  37.554515  49.908217   -29.000000   \n",
       "2    NONCHALANT    PREHISTORIC-PETREL  29.190866  60.491702  1552.426025   \n",
       "3    NONCHALANT  THERAPEUTIC-LIONFISH  13.253365  76.411056   867.591553   \n",
       "4          SOFT    ABORIGINAL-PICULET -68.632002  66.155301  1253.152832   \n",
       "\n",
       "   FUEL_N2_MOL_PCT    FUEL_MW      FUEL_LHV  CO2_FUEL_RATIO     COUNTRY  \\\n",
       "0         4.445063  16.572225  21514.222365        2.621803      Russia   \n",
       "1         1.053145  16.166097  21526.470829        2.714870        Iran   \n",
       "2        10.298848  17.273122  21494.438672        2.461189        Iran   \n",
       "3        13.188814  17.619149  21485.251979        2.381895       India   \n",
       "4         7.581916  16.947813  21503.417436        2.535736  Antarctica   \n",
       "\n",
       "    CONTINENT  \n",
       "0      Europe  \n",
       "1        Asia  \n",
       "2        Asia  \n",
       "3        Asia  \n",
       "4  Antarctica  "
      ]
     },
     "execution_count": 36,
     "metadata": {},
     "output_type": "execute_result"
    }
   ],
   "source": [
    "site_df.head()"
   ]
  },
  {
   "cell_type": "code",
   "execution_count": 53,
   "metadata": {},
   "outputs": [
    {
     "data": {
      "application/vnd.plotly.v1+json": {
       "config": {
        "plotlyServerURL": "https://plot.ly"
       },
       "data": [
        {
         "customdata": [
          [
           "Russia"
          ],
          [
           "Russia"
          ],
          [
           "Russia"
          ],
          [
           "Germany"
          ],
          [
           "Russia"
          ],
          [
           "Poland"
          ],
          [
           "France"
          ],
          [
           "Russia"
          ],
          [
           "Russia"
          ],
          [
           "Finland"
          ]
         ],
         "geo": "geo",
         "hovertemplate": "CONTINENT=Europe<br>FUEL_N2_MOL_PCT=%{marker.size}<br>LATITUDE=%{lat}<br>LONGITUDE=%{lon}<br>COUNTRY=%{customdata[0]}<extra></extra>",
         "lat": [
          61.17035565541676,
          61.7731084242111,
          52.39965395823988,
          53.08878228952965,
          61.67984274594789,
          51.34683912481428,
          48.04507668845892,
          61.91222629965188,
          57.577210594305726,
          61.87576194841188
         ],
         "legendgroup": "Europe",
         "lon": [
          42.87476722769898,
          140.74313968484972,
          131.11608769552691,
          13.186017129815298,
          33.31244648719306,
          20.095591780253983,
          -0.0002588989562468,
          51.87282967560313,
          43.57886258584,
          28.36597780456617
         ],
         "marker": {
          "color": "#636efa",
          "size": [
           4.44506304774041,
           1.2034050418040825,
           6.786619816026639,
           14.938397107449433,
           8.233532713985687,
           8.919585945768805,
           3.7800230013863834,
           11.274148693700392,
           6.4080369970131565,
           0.0139451220388714
          ],
          "sizemode": "area",
          "sizeref": 0.037372467071916014,
          "symbol": "circle"
         },
         "mode": "markers",
         "name": "Europe",
         "showlegend": true,
         "type": "scattergeo"
        },
        {
         "customdata": [
          [
           "Iran"
          ],
          [
           "Iran"
          ],
          [
           "India"
          ],
          [
           "Vietnam"
          ],
          [
           "China"
          ],
          [
           "Saudi Arabia"
          ],
          [
           "China"
          ],
          [
           "Mongolia"
          ],
          [
           "Kazakhstan"
          ],
          [
           "Saudi Arabia"
          ],
          [
           "Kazakhstan"
          ]
         ],
         "geo": "geo",
         "hovertemplate": "CONTINENT=Asia<br>FUEL_N2_MOL_PCT=%{marker.size}<br>LATITUDE=%{lat}<br>LONGITUDE=%{lon}<br>COUNTRY=%{customdata[0]}<extra></extra>",
         "lat": [
          37.55451549722366,
          29.19086586941076,
          13.253365033156228,
          10.742002646789118,
          29.13324096707197,
          21.650943371253703,
          30.77194635580493,
          47.88682243192673,
          44.51034165958124,
          24.641432990648184,
          41.63113854444558
         ],
         "legendgroup": "Asia",
         "lon": [
          49.90821662683808,
          60.49170182347541,
          76.41105642809447,
          105.6524545701592,
          116.98763740843128,
          41.110107464084535,
          109.00631815650593,
          92.72821955002844,
          67.69215701925575,
          44.55161409811896,
          55.98142619557191
         ],
         "marker": {
          "color": "#EF553B",
          "size": [
           1.0531449774702362,
           10.298848060446083,
           13.188813728960108,
           13.409259677544629,
           14.710540836093996,
           0.4376646330125877,
           10.587815124618407,
           4.105205235929659,
           8.67877319613416,
           5.645317299003563,
           10.121185389204518
          ],
          "sizemode": "area",
          "sizeref": 0.037372467071916014,
          "symbol": "circle"
         },
         "mode": "markers",
         "name": "Asia",
         "showlegend": true,
         "type": "scattergeo"
        },
        {
         "customdata": [
          [
           "Antarctica"
          ],
          [
           "Antarctica"
          ]
         ],
         "geo": "geo",
         "hovertemplate": "CONTINENT=Antarctica<br>FUEL_N2_MOL_PCT=%{marker.size}<br>LATITUDE=%{lat}<br>LONGITUDE=%{lon}<br>COUNTRY=%{customdata[0]}<extra></extra>",
         "lat": [
          -68.63200204949257,
          -67.13288518116451
         ],
         "legendgroup": "Antarctica",
         "lon": [
          66.15530078737422,
          140.03823722734865
         ],
         "marker": {
          "color": "#00cc96",
          "size": [
           7.581915824443374,
           0.7494515878821295
          ],
          "sizemode": "area",
          "sizeref": 0.037372467071916014,
          "symbol": "circle"
         },
         "mode": "markers",
         "name": "Antarctica",
         "showlegend": true,
         "type": "scattergeo"
        },
        {
         "customdata": [
          [
           "New Zealand"
          ],
          [
           "Australia"
          ],
          [
           "Australia"
          ],
          [
           "Australia"
          ],
          [
           "Papua New Guinea"
          ],
          [
           "Australia"
          ]
         ],
         "geo": "geo",
         "hovertemplate": "CONTINENT=Oceania<br>FUEL_N2_MOL_PCT=%{marker.size}<br>LATITUDE=%{lat}<br>LONGITUDE=%{lon}<br>COUNTRY=%{customdata[0]}<extra></extra>",
         "lat": [
          -37.9973686323425,
          -31.15103104341091,
          -23.06755713329173,
          -31.22495920164189,
          -7.716990930235916,
          -30.204917231037527
         ],
         "legendgroup": "Oceania",
         "lon": [
          178.14485465045027,
          146.86922625712089,
          130.96213779946157,
          124.14992178092352,
          143.35684774091447,
          121.71999608637697
         ],
         "marker": {
          "color": "#ab63fa",
          "size": [
           14.60430750487416,
           2.028849599373142,
           13.924509981929104,
           0.2878744267235711,
           14.177625970949418,
           4.788440199815085
          ],
          "sizemode": "area",
          "sizeref": 0.037372467071916014,
          "symbol": "circle"
         },
         "mode": "markers",
         "name": "Oceania",
         "showlegend": true,
         "type": "scattergeo"
        },
        {
         "customdata": [
          [
           "Ecuador"
          ],
          [
           "Brazil"
          ],
          [
           "Argentina"
          ],
          [
           "Peru"
          ],
          [
           "Bolivia"
          ]
         ],
         "geo": "geo",
         "hovertemplate": "CONTINENT=South America<br>FUEL_N2_MOL_PCT=%{marker.size}<br>LATITUDE=%{lat}<br>LONGITUDE=%{lon}<br>COUNTRY=%{customdata[0]}<extra></extra>",
         "lat": [
          -0.2100842124175272,
          -2.893581407222001,
          -36.84528347698573,
          -5.825077633982005,
          -19.98746053177358
         ],
         "legendgroup": "South America",
         "lon": [
          -76.83477789594805,
          -63.05463813052691,
          -66.0697307258626,
          -79.54092741757468,
          -66.458677896226
         ],
         "marker": {
          "color": "#FFA15A",
          "size": [
           0.6444644618192341,
           0.7494849472319637,
           12.39020426323228,
           2.995607474862894,
           6.603027522149945
          ],
          "sizemode": "area",
          "sizeref": 0.037372467071916014,
          "symbol": "circle"
         },
         "mode": "markers",
         "name": "South America",
         "showlegend": true,
         "type": "scattergeo"
        },
        {
         "customdata": [
          [
           "Somalia"
          ],
          [
           "Angola"
          ],
          [
           "Somalia"
          ],
          [
           "South Africa"
          ],
          [
           "Egypt"
          ],
          [
           "Namibia"
          ]
         ],
         "geo": "geo",
         "hovertemplate": "CONTINENT=Africa<br>FUEL_N2_MOL_PCT=%{marker.size}<br>LATITUDE=%{lat}<br>LONGITUDE=%{lon}<br>COUNTRY=%{customdata[0]}<extra></extra>",
         "lat": [
          5.142945480545137,
          -12.144845924877266,
          1.7710924612257912,
          -33.29629815086906,
          23.46934473380161,
          -26.17558122248137
         ],
         "legendgroup": "Africa",
         "lon": [
          45.31517109005566,
          16.504710455389358,
          42.93938511688626,
          24.449636131675987,
          35.45780052300063,
          16.115096309919323
         ],
         "marker": {
          "color": "#19d3f3",
          "size": [
           8.70625491372022,
           1.5175426148725086,
           0.4812787849696431,
           0.695868114992873,
           7.632093689009241,
           2.934792896440623
          ],
          "sizemode": "area",
          "sizeref": 0.037372467071916014,
          "symbol": "circle"
         },
         "mode": "markers",
         "name": "Africa",
         "showlegend": true,
         "type": "scattergeo"
        },
        {
         "customdata": [
          [
           "Canada"
          ],
          [
           "Canada"
          ],
          [
           "Canada"
          ],
          [
           "United States"
          ],
          [
           "Canada"
          ]
         ],
         "geo": "geo",
         "hovertemplate": "CONTINENT=North America<br>FUEL_N2_MOL_PCT=%{marker.size}<br>LATITUDE=%{lat}<br>LONGITUDE=%{lon}<br>COUNTRY=%{customdata[0]}<extra></extra>",
         "lat": [
          60.06873412810111,
          58.091531493142725,
          55.17001926886098,
          44.80646883905612,
          60.1146908897218
         ],
         "legendgroup": "North America",
         "lon": [
          -101.87591676637416,
          -71.7393748611775,
          -122.75011369152456,
          -112.39550301242788,
          -124.25899698370448
         ],
         "marker": {
          "color": "#FF6692",
          "size": [
           14.948986828766406,
           5.042750781257705,
           7.895948622989978,
           0.7237327493903162,
           7.539158140410116
          ],
          "sizemode": "area",
          "sizeref": 0.037372467071916014,
          "symbol": "circle"
         },
         "mode": "markers",
         "name": "North America",
         "showlegend": true,
         "type": "scattergeo"
        }
       ],
       "layout": {
        "coloraxis": {
         "showscale": false
        },
        "geo": {
         "center": {},
         "domain": {
          "x": [
           0,
           1
          ],
          "y": [
           0,
           1
          ]
         },
         "projection": {
          "type": "natural earth"
         }
        },
        "height": 600,
        "legend": {
         "itemsizing": "constant",
         "title": {
          "text": "CONTINENT"
         },
         "tracegroupgap": 0
        },
        "margin": {
         "b": 0,
         "l": 0,
         "r": 0,
         "t": 40
        },
        "template": {
         "data": {
          "bar": [
           {
            "error_x": {
             "color": "#2a3f5f"
            },
            "error_y": {
             "color": "#2a3f5f"
            },
            "marker": {
             "line": {
              "color": "#E5ECF6",
              "width": 0.5
             },
             "pattern": {
              "fillmode": "overlay",
              "size": 10,
              "solidity": 0.2
             }
            },
            "type": "bar"
           }
          ],
          "barpolar": [
           {
            "marker": {
             "line": {
              "color": "#E5ECF6",
              "width": 0.5
             },
             "pattern": {
              "fillmode": "overlay",
              "size": 10,
              "solidity": 0.2
             }
            },
            "type": "barpolar"
           }
          ],
          "carpet": [
           {
            "aaxis": {
             "endlinecolor": "#2a3f5f",
             "gridcolor": "white",
             "linecolor": "white",
             "minorgridcolor": "white",
             "startlinecolor": "#2a3f5f"
            },
            "baxis": {
             "endlinecolor": "#2a3f5f",
             "gridcolor": "white",
             "linecolor": "white",
             "minorgridcolor": "white",
             "startlinecolor": "#2a3f5f"
            },
            "type": "carpet"
           }
          ],
          "choropleth": [
           {
            "colorbar": {
             "outlinewidth": 0,
             "ticks": ""
            },
            "type": "choropleth"
           }
          ],
          "contour": [
           {
            "colorbar": {
             "outlinewidth": 0,
             "ticks": ""
            },
            "colorscale": [
             [
              0,
              "#0d0887"
             ],
             [
              0.1111111111111111,
              "#46039f"
             ],
             [
              0.2222222222222222,
              "#7201a8"
             ],
             [
              0.3333333333333333,
              "#9c179e"
             ],
             [
              0.4444444444444444,
              "#bd3786"
             ],
             [
              0.5555555555555556,
              "#d8576b"
             ],
             [
              0.6666666666666666,
              "#ed7953"
             ],
             [
              0.7777777777777778,
              "#fb9f3a"
             ],
             [
              0.8888888888888888,
              "#fdca26"
             ],
             [
              1,
              "#f0f921"
             ]
            ],
            "type": "contour"
           }
          ],
          "contourcarpet": [
           {
            "colorbar": {
             "outlinewidth": 0,
             "ticks": ""
            },
            "type": "contourcarpet"
           }
          ],
          "heatmap": [
           {
            "colorbar": {
             "outlinewidth": 0,
             "ticks": ""
            },
            "colorscale": [
             [
              0,
              "#0d0887"
             ],
             [
              0.1111111111111111,
              "#46039f"
             ],
             [
              0.2222222222222222,
              "#7201a8"
             ],
             [
              0.3333333333333333,
              "#9c179e"
             ],
             [
              0.4444444444444444,
              "#bd3786"
             ],
             [
              0.5555555555555556,
              "#d8576b"
             ],
             [
              0.6666666666666666,
              "#ed7953"
             ],
             [
              0.7777777777777778,
              "#fb9f3a"
             ],
             [
              0.8888888888888888,
              "#fdca26"
             ],
             [
              1,
              "#f0f921"
             ]
            ],
            "type": "heatmap"
           }
          ],
          "heatmapgl": [
           {
            "colorbar": {
             "outlinewidth": 0,
             "ticks": ""
            },
            "colorscale": [
             [
              0,
              "#0d0887"
             ],
             [
              0.1111111111111111,
              "#46039f"
             ],
             [
              0.2222222222222222,
              "#7201a8"
             ],
             [
              0.3333333333333333,
              "#9c179e"
             ],
             [
              0.4444444444444444,
              "#bd3786"
             ],
             [
              0.5555555555555556,
              "#d8576b"
             ],
             [
              0.6666666666666666,
              "#ed7953"
             ],
             [
              0.7777777777777778,
              "#fb9f3a"
             ],
             [
              0.8888888888888888,
              "#fdca26"
             ],
             [
              1,
              "#f0f921"
             ]
            ],
            "type": "heatmapgl"
           }
          ],
          "histogram": [
           {
            "marker": {
             "pattern": {
              "fillmode": "overlay",
              "size": 10,
              "solidity": 0.2
             }
            },
            "type": "histogram"
           }
          ],
          "histogram2d": [
           {
            "colorbar": {
             "outlinewidth": 0,
             "ticks": ""
            },
            "colorscale": [
             [
              0,
              "#0d0887"
             ],
             [
              0.1111111111111111,
              "#46039f"
             ],
             [
              0.2222222222222222,
              "#7201a8"
             ],
             [
              0.3333333333333333,
              "#9c179e"
             ],
             [
              0.4444444444444444,
              "#bd3786"
             ],
             [
              0.5555555555555556,
              "#d8576b"
             ],
             [
              0.6666666666666666,
              "#ed7953"
             ],
             [
              0.7777777777777778,
              "#fb9f3a"
             ],
             [
              0.8888888888888888,
              "#fdca26"
             ],
             [
              1,
              "#f0f921"
             ]
            ],
            "type": "histogram2d"
           }
          ],
          "histogram2dcontour": [
           {
            "colorbar": {
             "outlinewidth": 0,
             "ticks": ""
            },
            "colorscale": [
             [
              0,
              "#0d0887"
             ],
             [
              0.1111111111111111,
              "#46039f"
             ],
             [
              0.2222222222222222,
              "#7201a8"
             ],
             [
              0.3333333333333333,
              "#9c179e"
             ],
             [
              0.4444444444444444,
              "#bd3786"
             ],
             [
              0.5555555555555556,
              "#d8576b"
             ],
             [
              0.6666666666666666,
              "#ed7953"
             ],
             [
              0.7777777777777778,
              "#fb9f3a"
             ],
             [
              0.8888888888888888,
              "#fdca26"
             ],
             [
              1,
              "#f0f921"
             ]
            ],
            "type": "histogram2dcontour"
           }
          ],
          "mesh3d": [
           {
            "colorbar": {
             "outlinewidth": 0,
             "ticks": ""
            },
            "type": "mesh3d"
           }
          ],
          "parcoords": [
           {
            "line": {
             "colorbar": {
              "outlinewidth": 0,
              "ticks": ""
             }
            },
            "type": "parcoords"
           }
          ],
          "pie": [
           {
            "automargin": true,
            "type": "pie"
           }
          ],
          "scatter": [
           {
            "fillpattern": {
             "fillmode": "overlay",
             "size": 10,
             "solidity": 0.2
            },
            "type": "scatter"
           }
          ],
          "scatter3d": [
           {
            "line": {
             "colorbar": {
              "outlinewidth": 0,
              "ticks": ""
             }
            },
            "marker": {
             "colorbar": {
              "outlinewidth": 0,
              "ticks": ""
             }
            },
            "type": "scatter3d"
           }
          ],
          "scattercarpet": [
           {
            "marker": {
             "colorbar": {
              "outlinewidth": 0,
              "ticks": ""
             }
            },
            "type": "scattercarpet"
           }
          ],
          "scattergeo": [
           {
            "marker": {
             "colorbar": {
              "outlinewidth": 0,
              "ticks": ""
             }
            },
            "type": "scattergeo"
           }
          ],
          "scattergl": [
           {
            "marker": {
             "colorbar": {
              "outlinewidth": 0,
              "ticks": ""
             }
            },
            "type": "scattergl"
           }
          ],
          "scattermapbox": [
           {
            "marker": {
             "colorbar": {
              "outlinewidth": 0,
              "ticks": ""
             }
            },
            "type": "scattermapbox"
           }
          ],
          "scatterpolar": [
           {
            "marker": {
             "colorbar": {
              "outlinewidth": 0,
              "ticks": ""
             }
            },
            "type": "scatterpolar"
           }
          ],
          "scatterpolargl": [
           {
            "marker": {
             "colorbar": {
              "outlinewidth": 0,
              "ticks": ""
             }
            },
            "type": "scatterpolargl"
           }
          ],
          "scatterternary": [
           {
            "marker": {
             "colorbar": {
              "outlinewidth": 0,
              "ticks": ""
             }
            },
            "type": "scatterternary"
           }
          ],
          "surface": [
           {
            "colorbar": {
             "outlinewidth": 0,
             "ticks": ""
            },
            "colorscale": [
             [
              0,
              "#0d0887"
             ],
             [
              0.1111111111111111,
              "#46039f"
             ],
             [
              0.2222222222222222,
              "#7201a8"
             ],
             [
              0.3333333333333333,
              "#9c179e"
             ],
             [
              0.4444444444444444,
              "#bd3786"
             ],
             [
              0.5555555555555556,
              "#d8576b"
             ],
             [
              0.6666666666666666,
              "#ed7953"
             ],
             [
              0.7777777777777778,
              "#fb9f3a"
             ],
             [
              0.8888888888888888,
              "#fdca26"
             ],
             [
              1,
              "#f0f921"
             ]
            ],
            "type": "surface"
           }
          ],
          "table": [
           {
            "cells": {
             "fill": {
              "color": "#EBF0F8"
             },
             "line": {
              "color": "white"
             }
            },
            "header": {
             "fill": {
              "color": "#C8D4E3"
             },
             "line": {
              "color": "white"
             }
            },
            "type": "table"
           }
          ]
         },
         "layout": {
          "annotationdefaults": {
           "arrowcolor": "#2a3f5f",
           "arrowhead": 0,
           "arrowwidth": 1
          },
          "autotypenumbers": "strict",
          "coloraxis": {
           "colorbar": {
            "outlinewidth": 0,
            "ticks": ""
           }
          },
          "colorscale": {
           "diverging": [
            [
             0,
             "#8e0152"
            ],
            [
             0.1,
             "#c51b7d"
            ],
            [
             0.2,
             "#de77ae"
            ],
            [
             0.3,
             "#f1b6da"
            ],
            [
             0.4,
             "#fde0ef"
            ],
            [
             0.5,
             "#f7f7f7"
            ],
            [
             0.6,
             "#e6f5d0"
            ],
            [
             0.7,
             "#b8e186"
            ],
            [
             0.8,
             "#7fbc41"
            ],
            [
             0.9,
             "#4d9221"
            ],
            [
             1,
             "#276419"
            ]
           ],
           "sequential": [
            [
             0,
             "#0d0887"
            ],
            [
             0.1111111111111111,
             "#46039f"
            ],
            [
             0.2222222222222222,
             "#7201a8"
            ],
            [
             0.3333333333333333,
             "#9c179e"
            ],
            [
             0.4444444444444444,
             "#bd3786"
            ],
            [
             0.5555555555555556,
             "#d8576b"
            ],
            [
             0.6666666666666666,
             "#ed7953"
            ],
            [
             0.7777777777777778,
             "#fb9f3a"
            ],
            [
             0.8888888888888888,
             "#fdca26"
            ],
            [
             1,
             "#f0f921"
            ]
           ],
           "sequentialminus": [
            [
             0,
             "#0d0887"
            ],
            [
             0.1111111111111111,
             "#46039f"
            ],
            [
             0.2222222222222222,
             "#7201a8"
            ],
            [
             0.3333333333333333,
             "#9c179e"
            ],
            [
             0.4444444444444444,
             "#bd3786"
            ],
            [
             0.5555555555555556,
             "#d8576b"
            ],
            [
             0.6666666666666666,
             "#ed7953"
            ],
            [
             0.7777777777777778,
             "#fb9f3a"
            ],
            [
             0.8888888888888888,
             "#fdca26"
            ],
            [
             1,
             "#f0f921"
            ]
           ]
          },
          "colorway": [
           "#636efa",
           "#EF553B",
           "#00cc96",
           "#ab63fa",
           "#FFA15A",
           "#19d3f3",
           "#FF6692",
           "#B6E880",
           "#FF97FF",
           "#FECB52"
          ],
          "font": {
           "color": "#2a3f5f"
          },
          "geo": {
           "bgcolor": "white",
           "lakecolor": "white",
           "landcolor": "#E5ECF6",
           "showlakes": true,
           "showland": true,
           "subunitcolor": "white"
          },
          "hoverlabel": {
           "align": "left"
          },
          "hovermode": "closest",
          "mapbox": {
           "style": "light"
          },
          "paper_bgcolor": "white",
          "plot_bgcolor": "#E5ECF6",
          "polar": {
           "angularaxis": {
            "gridcolor": "white",
            "linecolor": "white",
            "ticks": ""
           },
           "bgcolor": "#E5ECF6",
           "radialaxis": {
            "gridcolor": "white",
            "linecolor": "white",
            "ticks": ""
           }
          },
          "scene": {
           "xaxis": {
            "backgroundcolor": "#E5ECF6",
            "gridcolor": "white",
            "gridwidth": 2,
            "linecolor": "white",
            "showbackground": true,
            "ticks": "",
            "zerolinecolor": "white"
           },
           "yaxis": {
            "backgroundcolor": "#E5ECF6",
            "gridcolor": "white",
            "gridwidth": 2,
            "linecolor": "white",
            "showbackground": true,
            "ticks": "",
            "zerolinecolor": "white"
           },
           "zaxis": {
            "backgroundcolor": "#E5ECF6",
            "gridcolor": "white",
            "gridwidth": 2,
            "linecolor": "white",
            "showbackground": true,
            "ticks": "",
            "zerolinecolor": "white"
           }
          },
          "shapedefaults": {
           "line": {
            "color": "#2a3f5f"
           }
          },
          "ternary": {
           "aaxis": {
            "gridcolor": "white",
            "linecolor": "white",
            "ticks": ""
           },
           "baxis": {
            "gridcolor": "white",
            "linecolor": "white",
            "ticks": ""
           },
           "bgcolor": "#E5ECF6",
           "caxis": {
            "gridcolor": "white",
            "linecolor": "white",
            "ticks": ""
           }
          },
          "title": {
           "x": 0.05
          },
          "xaxis": {
           "automargin": true,
           "gridcolor": "white",
           "linecolor": "white",
           "ticks": "",
           "title": {
            "standoff": 15
           },
           "zerolinecolor": "white",
           "zerolinewidth": 2
          },
          "yaxis": {
           "automargin": true,
           "gridcolor": "white",
           "linecolor": "white",
           "ticks": "",
           "title": {
            "standoff": 15
           },
           "zerolinecolor": "white",
           "zerolinewidth": 2
          }
         }
        },
        "width": 800
       }
      }
     },
     "metadata": {},
     "output_type": "display_data"
    }
   ],
   "source": [
    "# plot lat long from site_df with continent as color and size as\n",
    "\n",
    "import plotly.express as px\n",
    "\n",
    "fig = px.scatter_geo(\n",
    "    site_df,\n",
    "    lat=\"LATITUDE\",\n",
    "    lon=\"LONGITUDE\",\n",
    "    color=\"CONTINENT\",\n",
    "    hover_data=[\"COUNTRY\"],\n",
    "    projection=\"natural earth\",\n",
    "    size=\"FUEL_N2_MOL_PCT\",\n",
    "    width=800,\n",
    "    height=600,\n",
    ")\n",
    "\n",
    "# set dark theme\n",
    "fig.update_layout(\n",
    "    # template=\"plotly_dark\",\n",
    "    coloraxis_showscale=False,\n",
    "    margin=dict(l=0, r=0, t=40, b=0),\n",
    ")\n",
    "fig.show()"
   ]
  },
  {
   "cell_type": "code",
   "execution_count": null,
   "metadata": {},
   "outputs": [],
   "source": []
  }
 ],
 "metadata": {
  "kernelspec": {
   "display_name": "Python 3.8.12 ('streamlit')",
   "language": "python",
   "name": "python3"
  },
  "language_info": {
   "codemirror_mode": {
    "name": "ipython",
    "version": 3
   },
   "file_extension": ".py",
   "mimetype": "text/x-python",
   "name": "python",
   "nbconvert_exporter": "python",
   "pygments_lexer": "ipython3",
   "version": "3.8.12"
  },
  "orig_nbformat": 4,
  "vscode": {
   "interpreter": {
    "hash": "5f214dff87efc99681f0fd859d14f7d13c4bf653b569b0b118f764f4479fa960"
   }
  }
 },
 "nbformat": 4,
 "nbformat_minor": 2
}
