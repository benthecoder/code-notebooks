{
  "nbformat": 4,
  "nbformat_minor": 0,
  "metadata": {
    "kernelspec": {
      "display_name": "Python 3",
      "language": "python",
      "name": "python3"
    },
    "language_info": {
      "codemirror_mode": {
        "name": "ipython",
        "version": 3
      },
      "file_extension": ".py",
      "mimetype": "text/x-python",
      "name": "python",
      "nbconvert_exporter": "python",
      "pygments_lexer": "ipython3",
      "version": "3.7.3"
    },
    "colab": {
      "name": "video_popularity.ipynb",
      "provenance": [],
      "collapsed_sections": []
    }
  },
  "cells": [
    {
      "cell_type": "markdown",
      "metadata": {
        "id": "S82hYR_Ou2ZS"
      },
      "source": [
        "### This notebook demonstrates how to build a very simple model using XGBoost for Video Popularity Prediction competition"
      ]
    },
    {
      "cell_type": "code",
      "metadata": {
        "id": "ULCx9CNdu2ZV"
      },
      "source": [
        "# Load libraries\n",
        "import os\n",
        "import pandas as pd\n",
        "import numpy as np\n",
        "import math\n",
        "import random\n",
        "import collections\n",
        "import timeit\n",
        "import xgboost as xgb\n",
        "import sklearn.metrics\n",
        "\n",
        "from sklearn.feature_selection import SelectFromModel\n",
        "from sklearn.linear_model import LogisticRegression\n",
        "from sklearn.model_selection import train_test_split\n",
        "from sklearn.metrics import mean_squared_error"
      ],
      "execution_count": null,
      "outputs": []
    },
    {
      "cell_type": "code",
      "metadata": {
        "colab": {
          "base_uri": "https://localhost:8080/"
        },
        "id": "f79d9b6Zu2ZV",
        "outputId": "571a8e81-af31-4a65-d00a-040fe3bb1669"
      },
      "source": [
        "# Check current directory and list all files in the directory.\n",
        "os.getcwd()\n",
        "os.listdir()"
      ],
      "execution_count": null,
      "outputs": [
        {
          "output_type": "execute_result",
          "data": {
            "text/plain": [
              "['.config', 'drive', 'sample_data']"
            ]
          },
          "metadata": {
            "tags": []
          },
          "execution_count": 5
        }
      ]
    },
    {
      "cell_type": "code",
      "metadata": {
        "colab": {
          "base_uri": "https://localhost:8080/"
        },
        "id": "Ct-7DKHRH4M-",
        "outputId": "9596221f-b294-42a8-c00b-679b08356dd2"
      },
      "source": [
        "from google.colab import drive\n",
        "drive.mount('/content/drive')"
      ],
      "execution_count": null,
      "outputs": [
        {
          "output_type": "stream",
          "text": [
            "Drive already mounted at /content/drive; to attempt to forcibly remount, call drive.mount(\"/content/drive\", force_remount=True).\n"
          ],
          "name": "stdout"
        }
      ]
    },
    {
      "cell_type": "code",
      "metadata": {
        "colab": {
          "base_uri": "https://localhost:8080/",
          "height": 35
        },
        "id": "t2fhZpv6Sa5d",
        "outputId": "3ebc75fb-a19b-4013-f49c-966e96806e58"
      },
      "source": [
        "os.getcwd()"
      ],
      "execution_count": null,
      "outputs": [
        {
          "output_type": "execute_result",
          "data": {
            "application/vnd.google.colaboratory.intrinsic+json": {
              "type": "string"
            },
            "text/plain": [
              "'/content'"
            ]
          },
          "metadata": {
            "tags": []
          },
          "execution_count": 7
        }
      ]
    },
    {
      "cell_type": "code",
      "metadata": {
        "colab": {
          "base_uri": "https://localhost:8080/"
        },
        "id": "RgPO986Eu2ZW",
        "outputId": "6e4166b9-de81-4231-9d02-cf2c530a90eb"
      },
      "source": [
        "# Load training datasets\n",
        "desc_train = pd.read_csv('/content/drive/MyDrive/Dataset/Description Data/train_desc_df.csv')\n",
        "meta_train = pd.read_csv('/content/drive/MyDrive/Dataset/Metadata/train_meta_df.csv')\n",
        "image_train = pd.read_csv('/content/drive/MyDrive/Dataset/Image Data/train_image_df.csv')\n",
        "title_train = pd.read_csv('/content/drive/MyDrive/Dataset/Title Data/train_title_df.csv')\n",
        "\n",
        "# Load public datasets (datasets used for the rankings)\n",
        "desc_test = pd.read_csv('/content/drive/MyDrive/Dataset/Description Data/public_desc_df.csv')\n",
        "meta_test = pd.read_csv('/content/drive/MyDrive/Dataset/Metadata/public_meta_df.csv')\n",
        "image_test = pd.read_csv('/content/drive/MyDrive/Dataset/Image Data/public_image_df.csv')\n",
        "title_test = pd.read_csv('/content/drive/MyDrive/Dataset/Title Data/public_title_df.csv')\n",
        "\n",
        "print('Dimension of train description data is', desc_train.shape)\n",
        "print('Dimension of train meta data is', meta_train.shape)\n",
        "print('Dimension of train image data is', image_train.shape)\n",
        "print('Dimension of train title data is', title_train.shape)\n",
        "\n",
        "print('')\n",
        "\n",
        "print('Dimension of test description data is', desc_test.shape)\n",
        "print('Dimension of test meta data is', meta_test.shape)\n",
        "print('Dimension of test image data is', meta_test.shape)\n",
        "print('Dimension of test title data is', title_test.shape)"
      ],
      "execution_count": null,
      "outputs": [
        {
          "output_type": "stream",
          "text": [
            "Dimension of train description data is (3000, 51)\n",
            "Dimension of train meta data is (3000, 14)\n",
            "Dimension of train image data is (3000, 4001)\n",
            "Dimension of train title data is (3000, 51)\n",
            "\n",
            "Dimension of test description data is (986, 51)\n",
            "Dimension of test meta data is (986, 13)\n",
            "Dimension of test image data is (986, 13)\n",
            "Dimension of test title data is (986, 51)\n"
          ],
          "name": "stdout"
        }
      ]
    },
    {
      "cell_type": "code",
      "metadata": {
        "scrolled": true,
        "id": "WfQYJyODu2ZW",
        "colab": {
          "base_uri": "https://localhost:8080/",
          "height": 224
        },
        "outputId": "4f250c6b-ec07-42d5-aa79-60d412a0238e"
      },
      "source": [
        "meta_train.head()"
      ],
      "execution_count": null,
      "outputs": [
        {
          "output_type": "execute_result",
          "data": {
            "text/html": [
              "<div>\n",
              "<style scoped>\n",
              "    .dataframe tbody tr th:only-of-type {\n",
              "        vertical-align: middle;\n",
              "    }\n",
              "\n",
              "    .dataframe tbody tr th {\n",
              "        vertical-align: top;\n",
              "    }\n",
              "\n",
              "    .dataframe thead th {\n",
              "        text-align: right;\n",
              "    }\n",
              "</style>\n",
              "<table border=\"1\" class=\"dataframe\">\n",
              "  <thead>\n",
              "    <tr style=\"text-align: right;\">\n",
              "      <th></th>\n",
              "      <th>comp_id</th>\n",
              "      <th>ad_blocked</th>\n",
              "      <th>embed</th>\n",
              "      <th>ratio</th>\n",
              "      <th>duration</th>\n",
              "      <th>language</th>\n",
              "      <th>partner</th>\n",
              "      <th>partner_active</th>\n",
              "      <th>n_likes</th>\n",
              "      <th>views</th>\n",
              "      <th>n_tags</th>\n",
              "      <th>n_formats</th>\n",
              "      <th>dayofweek</th>\n",
              "      <th>hour</th>\n",
              "    </tr>\n",
              "  </thead>\n",
              "  <tbody>\n",
              "    <tr>\n",
              "      <th>0</th>\n",
              "      <td>1</td>\n",
              "      <td>False</td>\n",
              "      <td>True</td>\n",
              "      <td>1.77778</td>\n",
              "      <td>86</td>\n",
              "      <td>3</td>\n",
              "      <td>True</td>\n",
              "      <td>False</td>\n",
              "      <td>0</td>\n",
              "      <td>290</td>\n",
              "      <td>3</td>\n",
              "      <td>0</td>\n",
              "      <td>5</td>\n",
              "      <td>6</td>\n",
              "    </tr>\n",
              "    <tr>\n",
              "      <th>1</th>\n",
              "      <td>2</td>\n",
              "      <td>False</td>\n",
              "      <td>True</td>\n",
              "      <td>1.33333</td>\n",
              "      <td>1129</td>\n",
              "      <td>2</td>\n",
              "      <td>True</td>\n",
              "      <td>False</td>\n",
              "      <td>0</td>\n",
              "      <td>1443</td>\n",
              "      <td>0</td>\n",
              "      <td>2</td>\n",
              "      <td>5</td>\n",
              "      <td>6</td>\n",
              "    </tr>\n",
              "    <tr>\n",
              "      <th>2</th>\n",
              "      <td>3</td>\n",
              "      <td>False</td>\n",
              "      <td>True</td>\n",
              "      <td>1.76667</td>\n",
              "      <td>1163</td>\n",
              "      <td>2</td>\n",
              "      <td>True</td>\n",
              "      <td>False</td>\n",
              "      <td>0</td>\n",
              "      <td>329</td>\n",
              "      <td>0</td>\n",
              "      <td>1</td>\n",
              "      <td>5</td>\n",
              "      <td>6</td>\n",
              "    </tr>\n",
              "    <tr>\n",
              "      <th>3</th>\n",
              "      <td>4</td>\n",
              "      <td>False</td>\n",
              "      <td>True</td>\n",
              "      <td>1.77778</td>\n",
              "      <td>1326</td>\n",
              "      <td>2</td>\n",
              "      <td>True</td>\n",
              "      <td>False</td>\n",
              "      <td>0</td>\n",
              "      <td>63</td>\n",
              "      <td>0</td>\n",
              "      <td>3</td>\n",
              "      <td>5</td>\n",
              "      <td>6</td>\n",
              "    </tr>\n",
              "    <tr>\n",
              "      <th>4</th>\n",
              "      <td>5</td>\n",
              "      <td>False</td>\n",
              "      <td>True</td>\n",
              "      <td>1.77273</td>\n",
              "      <td>2612</td>\n",
              "      <td>2</td>\n",
              "      <td>True</td>\n",
              "      <td>False</td>\n",
              "      <td>3</td>\n",
              "      <td>37</td>\n",
              "      <td>0</td>\n",
              "      <td>0</td>\n",
              "      <td>5</td>\n",
              "      <td>6</td>\n",
              "    </tr>\n",
              "  </tbody>\n",
              "</table>\n",
              "</div>"
            ],
            "text/plain": [
              "   comp_id  ad_blocked  embed    ratio  ...  n_tags  n_formats  dayofweek  hour\n",
              "0        1       False   True  1.77778  ...       3          0          5     6\n",
              "1        2       False   True  1.33333  ...       0          2          5     6\n",
              "2        3       False   True  1.76667  ...       0          1          5     6\n",
              "3        4       False   True  1.77778  ...       0          3          5     6\n",
              "4        5       False   True  1.77273  ...       0          0          5     6\n",
              "\n",
              "[5 rows x 14 columns]"
            ]
          },
          "metadata": {
            "tags": []
          },
          "execution_count": 9
        }
      ]
    },
    {
      "cell_type": "code",
      "metadata": {
        "scrolled": true,
        "id": "OcTagYlGu2ZW",
        "colab": {
          "base_uri": "https://localhost:8080/",
          "height": 224
        },
        "outputId": "87c1f9ad-f76d-4db2-b6fb-7401b8dda109"
      },
      "source": [
        "# Now look at the data structure.\n",
        "desc_train.head()"
      ],
      "execution_count": null,
      "outputs": [
        {
          "output_type": "execute_result",
          "data": {
            "text/html": [
              "<div>\n",
              "<style scoped>\n",
              "    .dataframe tbody tr th:only-of-type {\n",
              "        vertical-align: middle;\n",
              "    }\n",
              "\n",
              "    .dataframe tbody tr th {\n",
              "        vertical-align: top;\n",
              "    }\n",
              "\n",
              "    .dataframe thead th {\n",
              "        text-align: right;\n",
              "    }\n",
              "</style>\n",
              "<table border=\"1\" class=\"dataframe\">\n",
              "  <thead>\n",
              "    <tr style=\"text-align: right;\">\n",
              "      <th></th>\n",
              "      <th>comp_id</th>\n",
              "      <th>desc_1</th>\n",
              "      <th>desc_2</th>\n",
              "      <th>desc_3</th>\n",
              "      <th>desc_4</th>\n",
              "      <th>desc_5</th>\n",
              "      <th>desc_6</th>\n",
              "      <th>desc_7</th>\n",
              "      <th>desc_8</th>\n",
              "      <th>desc_9</th>\n",
              "      <th>desc_10</th>\n",
              "      <th>desc_11</th>\n",
              "      <th>desc_12</th>\n",
              "      <th>desc_13</th>\n",
              "      <th>desc_14</th>\n",
              "      <th>desc_15</th>\n",
              "      <th>desc_16</th>\n",
              "      <th>desc_17</th>\n",
              "      <th>desc_18</th>\n",
              "      <th>desc_19</th>\n",
              "      <th>desc_20</th>\n",
              "      <th>desc_21</th>\n",
              "      <th>desc_22</th>\n",
              "      <th>desc_23</th>\n",
              "      <th>desc_24</th>\n",
              "      <th>desc_25</th>\n",
              "      <th>desc_26</th>\n",
              "      <th>desc_27</th>\n",
              "      <th>desc_28</th>\n",
              "      <th>desc_29</th>\n",
              "      <th>desc_30</th>\n",
              "      <th>desc_31</th>\n",
              "      <th>desc_32</th>\n",
              "      <th>desc_33</th>\n",
              "      <th>desc_34</th>\n",
              "      <th>desc_35</th>\n",
              "      <th>desc_36</th>\n",
              "      <th>desc_37</th>\n",
              "      <th>desc_38</th>\n",
              "      <th>desc_39</th>\n",
              "      <th>desc_40</th>\n",
              "      <th>desc_41</th>\n",
              "      <th>desc_42</th>\n",
              "      <th>desc_43</th>\n",
              "      <th>desc_44</th>\n",
              "      <th>desc_45</th>\n",
              "      <th>desc_46</th>\n",
              "      <th>desc_47</th>\n",
              "      <th>desc_48</th>\n",
              "      <th>desc_49</th>\n",
              "      <th>desc_50</th>\n",
              "    </tr>\n",
              "  </thead>\n",
              "  <tbody>\n",
              "    <tr>\n",
              "      <th>0</th>\n",
              "      <td>1</td>\n",
              "      <td>-0.009555</td>\n",
              "      <td>0.002479</td>\n",
              "      <td>0.002927</td>\n",
              "      <td>0.015774</td>\n",
              "      <td>-0.008177</td>\n",
              "      <td>-0.016036</td>\n",
              "      <td>0.026697</td>\n",
              "      <td>-0.000106</td>\n",
              "      <td>0.025788</td>\n",
              "      <td>0.052237</td>\n",
              "      <td>0.028440</td>\n",
              "      <td>-0.085249</td>\n",
              "      <td>0.007856</td>\n",
              "      <td>-0.000305</td>\n",
              "      <td>0.008731</td>\n",
              "      <td>-0.068400</td>\n",
              "      <td>0.003454</td>\n",
              "      <td>0.001329</td>\n",
              "      <td>0.013231</td>\n",
              "      <td>-0.007687</td>\n",
              "      <td>0.030407</td>\n",
              "      <td>-0.001134</td>\n",
              "      <td>0.000494</td>\n",
              "      <td>-6.461385</td>\n",
              "      <td>0.038131</td>\n",
              "      <td>0.026232</td>\n",
              "      <td>-0.001567</td>\n",
              "      <td>0.009113</td>\n",
              "      <td>0.016394</td>\n",
              "      <td>-0.005538</td>\n",
              "      <td>-0.009708</td>\n",
              "      <td>-0.013093</td>\n",
              "      <td>-0.005617</td>\n",
              "      <td>0.006824</td>\n",
              "      <td>0.012795</td>\n",
              "      <td>-0.021388</td>\n",
              "      <td>-0.105503</td>\n",
              "      <td>0.006901</td>\n",
              "      <td>0.000284</td>\n",
              "      <td>0.027454</td>\n",
              "      <td>-0.029430</td>\n",
              "      <td>-0.029423</td>\n",
              "      <td>0.052256</td>\n",
              "      <td>0.007814</td>\n",
              "      <td>0.023472</td>\n",
              "      <td>-0.021134</td>\n",
              "      <td>0.003324</td>\n",
              "      <td>-0.004393</td>\n",
              "      <td>0.004294</td>\n",
              "      <td>-0.002223</td>\n",
              "    </tr>\n",
              "    <tr>\n",
              "      <th>1</th>\n",
              "      <td>2</td>\n",
              "      <td>-0.009555</td>\n",
              "      <td>0.002479</td>\n",
              "      <td>0.002927</td>\n",
              "      <td>0.015774</td>\n",
              "      <td>-0.008177</td>\n",
              "      <td>-0.016036</td>\n",
              "      <td>0.026697</td>\n",
              "      <td>-0.000106</td>\n",
              "      <td>0.025788</td>\n",
              "      <td>0.052237</td>\n",
              "      <td>0.028440</td>\n",
              "      <td>-0.085249</td>\n",
              "      <td>0.007856</td>\n",
              "      <td>-0.000305</td>\n",
              "      <td>0.008731</td>\n",
              "      <td>-0.068400</td>\n",
              "      <td>0.003454</td>\n",
              "      <td>0.001329</td>\n",
              "      <td>0.013231</td>\n",
              "      <td>-0.007687</td>\n",
              "      <td>0.030407</td>\n",
              "      <td>-0.001134</td>\n",
              "      <td>0.000494</td>\n",
              "      <td>-6.461385</td>\n",
              "      <td>0.038131</td>\n",
              "      <td>0.026232</td>\n",
              "      <td>-0.001567</td>\n",
              "      <td>0.009113</td>\n",
              "      <td>0.016394</td>\n",
              "      <td>-0.005538</td>\n",
              "      <td>-0.009708</td>\n",
              "      <td>-0.013093</td>\n",
              "      <td>-0.005617</td>\n",
              "      <td>0.006824</td>\n",
              "      <td>0.012795</td>\n",
              "      <td>-0.021388</td>\n",
              "      <td>-0.105503</td>\n",
              "      <td>0.006901</td>\n",
              "      <td>0.000284</td>\n",
              "      <td>0.027454</td>\n",
              "      <td>-0.029430</td>\n",
              "      <td>-0.029423</td>\n",
              "      <td>0.052256</td>\n",
              "      <td>0.007814</td>\n",
              "      <td>0.023472</td>\n",
              "      <td>-0.021134</td>\n",
              "      <td>0.003324</td>\n",
              "      <td>-0.004393</td>\n",
              "      <td>0.004294</td>\n",
              "      <td>-0.002223</td>\n",
              "    </tr>\n",
              "    <tr>\n",
              "      <th>2</th>\n",
              "      <td>3</td>\n",
              "      <td>-0.356706</td>\n",
              "      <td>0.213562</td>\n",
              "      <td>0.252663</td>\n",
              "      <td>0.090735</td>\n",
              "      <td>0.328961</td>\n",
              "      <td>-0.482705</td>\n",
              "      <td>0.067300</td>\n",
              "      <td>0.384217</td>\n",
              "      <td>-0.147253</td>\n",
              "      <td>-0.463378</td>\n",
              "      <td>-0.175824</td>\n",
              "      <td>2.032145</td>\n",
              "      <td>-0.143330</td>\n",
              "      <td>-0.394972</td>\n",
              "      <td>-0.157462</td>\n",
              "      <td>0.245942</td>\n",
              "      <td>0.405734</td>\n",
              "      <td>0.010298</td>\n",
              "      <td>-0.601022</td>\n",
              "      <td>-0.022109</td>\n",
              "      <td>0.284740</td>\n",
              "      <td>0.170112</td>\n",
              "      <td>-0.057594</td>\n",
              "      <td>3.057399</td>\n",
              "      <td>-0.146002</td>\n",
              "      <td>0.143649</td>\n",
              "      <td>0.914032</td>\n",
              "      <td>-0.035008</td>\n",
              "      <td>-0.156502</td>\n",
              "      <td>0.083768</td>\n",
              "      <td>0.597216</td>\n",
              "      <td>0.656176</td>\n",
              "      <td>-0.071332</td>\n",
              "      <td>0.730609</td>\n",
              "      <td>0.038204</td>\n",
              "      <td>-0.837585</td>\n",
              "      <td>-0.977806</td>\n",
              "      <td>0.663729</td>\n",
              "      <td>0.014156</td>\n",
              "      <td>0.530039</td>\n",
              "      <td>-0.626436</td>\n",
              "      <td>-0.102908</td>\n",
              "      <td>0.576792</td>\n",
              "      <td>-0.805986</td>\n",
              "      <td>0.310637</td>\n",
              "      <td>0.422263</td>\n",
              "      <td>0.403496</td>\n",
              "      <td>0.264240</td>\n",
              "      <td>7.057590</td>\n",
              "      <td>-0.252417</td>\n",
              "    </tr>\n",
              "    <tr>\n",
              "      <th>3</th>\n",
              "      <td>4</td>\n",
              "      <td>-0.294013</td>\n",
              "      <td>0.165262</td>\n",
              "      <td>0.257102</td>\n",
              "      <td>0.421037</td>\n",
              "      <td>0.463214</td>\n",
              "      <td>-0.769155</td>\n",
              "      <td>0.159450</td>\n",
              "      <td>0.236385</td>\n",
              "      <td>-0.183974</td>\n",
              "      <td>-0.357842</td>\n",
              "      <td>-0.051879</td>\n",
              "      <td>2.339253</td>\n",
              "      <td>-0.136640</td>\n",
              "      <td>-0.248848</td>\n",
              "      <td>-0.404962</td>\n",
              "      <td>0.199895</td>\n",
              "      <td>0.182226</td>\n",
              "      <td>0.033816</td>\n",
              "      <td>-0.706218</td>\n",
              "      <td>0.130868</td>\n",
              "      <td>0.501670</td>\n",
              "      <td>0.186079</td>\n",
              "      <td>-0.162675</td>\n",
              "      <td>3.070982</td>\n",
              "      <td>-0.032498</td>\n",
              "      <td>0.068264</td>\n",
              "      <td>1.034647</td>\n",
              "      <td>0.028793</td>\n",
              "      <td>-0.244596</td>\n",
              "      <td>0.037327</td>\n",
              "      <td>0.607908</td>\n",
              "      <td>0.415434</td>\n",
              "      <td>0.059239</td>\n",
              "      <td>0.319092</td>\n",
              "      <td>0.092515</td>\n",
              "      <td>-0.831052</td>\n",
              "      <td>-0.817347</td>\n",
              "      <td>0.602119</td>\n",
              "      <td>-0.067764</td>\n",
              "      <td>0.176569</td>\n",
              "      <td>-0.435836</td>\n",
              "      <td>0.052975</td>\n",
              "      <td>0.108777</td>\n",
              "      <td>-0.599593</td>\n",
              "      <td>0.408430</td>\n",
              "      <td>0.591615</td>\n",
              "      <td>0.415667</td>\n",
              "      <td>0.334706</td>\n",
              "      <td>7.025648</td>\n",
              "      <td>-0.309093</td>\n",
              "    </tr>\n",
              "    <tr>\n",
              "      <th>4</th>\n",
              "      <td>5</td>\n",
              "      <td>-0.028657</td>\n",
              "      <td>0.157017</td>\n",
              "      <td>0.282709</td>\n",
              "      <td>-2.674227</td>\n",
              "      <td>-0.711383</td>\n",
              "      <td>2.259387</td>\n",
              "      <td>-0.162175</td>\n",
              "      <td>0.605468</td>\n",
              "      <td>0.712229</td>\n",
              "      <td>0.027828</td>\n",
              "      <td>-0.529120</td>\n",
              "      <td>1.597859</td>\n",
              "      <td>1.062390</td>\n",
              "      <td>0.169534</td>\n",
              "      <td>-0.207715</td>\n",
              "      <td>-1.352804</td>\n",
              "      <td>0.181599</td>\n",
              "      <td>0.210282</td>\n",
              "      <td>0.515549</td>\n",
              "      <td>-0.411344</td>\n",
              "      <td>0.509503</td>\n",
              "      <td>0.897175</td>\n",
              "      <td>-0.348758</td>\n",
              "      <td>2.843993</td>\n",
              "      <td>-0.599135</td>\n",
              "      <td>0.031930</td>\n",
              "      <td>-0.849955</td>\n",
              "      <td>0.012406</td>\n",
              "      <td>0.019594</td>\n",
              "      <td>-0.332295</td>\n",
              "      <td>0.389301</td>\n",
              "      <td>-0.292774</td>\n",
              "      <td>0.386677</td>\n",
              "      <td>-3.005544</td>\n",
              "      <td>0.383045</td>\n",
              "      <td>-0.167495</td>\n",
              "      <td>-0.326522</td>\n",
              "      <td>0.134930</td>\n",
              "      <td>0.089576</td>\n",
              "      <td>0.669632</td>\n",
              "      <td>-1.714496</td>\n",
              "      <td>0.297421</td>\n",
              "      <td>-0.097744</td>\n",
              "      <td>0.000669</td>\n",
              "      <td>-1.639307</td>\n",
              "      <td>0.244313</td>\n",
              "      <td>0.099975</td>\n",
              "      <td>0.371806</td>\n",
              "      <td>-2.259024</td>\n",
              "      <td>-0.131085</td>\n",
              "    </tr>\n",
              "  </tbody>\n",
              "</table>\n",
              "</div>"
            ],
            "text/plain": [
              "   comp_id    desc_1    desc_2  ...   desc_48   desc_49   desc_50\n",
              "0        1 -0.009555  0.002479  ... -0.004393  0.004294 -0.002223\n",
              "1        2 -0.009555  0.002479  ... -0.004393  0.004294 -0.002223\n",
              "2        3 -0.356706  0.213562  ...  0.264240  7.057590 -0.252417\n",
              "3        4 -0.294013  0.165262  ...  0.334706  7.025648 -0.309093\n",
              "4        5 -0.028657  0.157017  ...  0.371806 -2.259024 -0.131085\n",
              "\n",
              "[5 rows x 51 columns]"
            ]
          },
          "metadata": {
            "tags": []
          },
          "execution_count": 10
        }
      ]
    },
    {
      "cell_type": "code",
      "metadata": {
        "colab": {
          "base_uri": "https://localhost:8080/"
        },
        "id": "1mX6PR_GWedv",
        "outputId": "b3a84940-0335-43c0-c3ab-b8078c141ff8"
      },
      "source": [
        "meta_train.isnull().sum()"
      ],
      "execution_count": null,
      "outputs": [
        {
          "output_type": "execute_result",
          "data": {
            "text/plain": [
              "comp_id           0\n",
              "ad_blocked        0\n",
              "embed             0\n",
              "ratio             0\n",
              "duration          0\n",
              "language          0\n",
              "partner           0\n",
              "partner_active    0\n",
              "n_likes           0\n",
              "views             0\n",
              "n_tags            0\n",
              "n_formats         0\n",
              "dayofweek         0\n",
              "hour              0\n",
              "dtype: int64"
            ]
          },
          "metadata": {
            "tags": []
          },
          "execution_count": 16
        }
      ]
    },
    {
      "cell_type": "code",
      "metadata": {
        "colab": {
          "base_uri": "https://localhost:8080/"
        },
        "id": "8a5OU61I3RA0",
        "outputId": "47c2c801-6e29-4879-9d0a-86de6d9fe4b3"
      },
      "source": [
        "meta_train.dtypes"
      ],
      "execution_count": null,
      "outputs": [
        {
          "output_type": "execute_result",
          "data": {
            "text/plain": [
              "comp_id             int64\n",
              "ad_blocked           bool\n",
              "embed                bool\n",
              "ratio             float64\n",
              "duration            int64\n",
              "language            int64\n",
              "partner              bool\n",
              "partner_active       bool\n",
              "n_likes             int64\n",
              "views               int64\n",
              "n_tags              int64\n",
              "n_formats           int64\n",
              "dayofweek           int64\n",
              "hour                int64\n",
              "dtype: object"
            ]
          },
          "metadata": {
            "tags": []
          },
          "execution_count": 17
        }
      ]
    },
    {
      "cell_type": "code",
      "metadata": {
        "colab": {
          "base_uri": "https://localhost:8080/",
          "height": 282
        },
        "id": "G5tbdbJCWkli",
        "outputId": "3126daca-d4dd-41fa-bac2-5d91e0bd2297"
      },
      "source": [
        "meta_train['hour'].hist(bins=24)"
      ],
      "execution_count": null,
      "outputs": [
        {
          "output_type": "execute_result",
          "data": {
            "text/plain": [
              "<matplotlib.axes._subplots.AxesSubplot at 0x7f45f0384b90>"
            ]
          },
          "metadata": {
            "tags": []
          },
          "execution_count": 18
        },
        {
          "output_type": "display_data",
          "data": {
            "image/png": "[encoded data removed]",
            "text/plain": [
              "<Figure size 432x288 with 1 Axes>"
            ]
          },
          "metadata": {
            "tags": [],
            "needs_background": "light"
          }
        }
      ]
    },
    {
      "cell_type": "code",
      "metadata": {
        "colab": {
          "base_uri": "https://localhost:8080/",
          "height": 282
        },
        "id": "LVF8iFJ0W82o",
        "outputId": "d0646a1c-f6fe-42a9-c051-af67d294792f"
      },
      "source": [
        "meta_train['dayofweek'].hist(bins=7)"
      ],
      "execution_count": null,
      "outputs": [
        {
          "output_type": "execute_result",
          "data": {
            "text/plain": [
              "<matplotlib.axes._subplots.AxesSubplot at 0x7f45efe979d0>"
            ]
          },
          "metadata": {
            "tags": []
          },
          "execution_count": 19
        },
        {
          "output_type": "display_data",
          "data": {
            "image/png": "[encoded data removed]",
            "text/plain": [
              "<Figure size 432x288 with 1 Axes>"
            ]
          },
          "metadata": {
            "tags": [],
            "needs_background": "light"
          }
        }
      ]
    },
    {
      "cell_type": "code",
      "metadata": {
        "colab": {
          "base_uri": "https://localhost:8080/",
          "height": 285
        },
        "id": "vIDGBBbWbq4A",
        "outputId": "29120a4e-55d6-4674-c110-b4ec5c4dac78"
      },
      "source": [
        "meta_train['views'].hist(bins=20)"
      ],
      "execution_count": null,
      "outputs": [
        {
          "output_type": "execute_result",
          "data": {
            "text/plain": [
              "<matplotlib.axes._subplots.AxesSubplot at 0x7f45efe10ad0>"
            ]
          },
          "metadata": {
            "tags": []
          },
          "execution_count": 20
        },
        {
          "output_type": "display_data",
          "data": {
            "image/png": "[encoded data removed]",
            "text/plain": [
              "<Figure size 432x288 with 1 Axes>"
            ]
          },
          "metadata": {
            "tags": [],
            "needs_background": "light"
          }
        }
      ]
    },
    {
      "cell_type": "code",
      "metadata": {
        "colab": {
          "base_uri": "https://localhost:8080/",
          "height": 282
        },
        "id": "nqrdCEv-cHN-",
        "outputId": "598a9a61-054a-4f8c-94f4-366e4e7fa0a3"
      },
      "source": [
        "np.log10(meta_train['views']).hist(bins=20)"
      ],
      "execution_count": null,
      "outputs": [
        {
          "output_type": "execute_result",
          "data": {
            "text/plain": [
              "<matplotlib.axes._subplots.AxesSubplot at 0x7f45efb0da50>"
            ]
          },
          "metadata": {
            "tags": []
          },
          "execution_count": 22
        },
        {
          "output_type": "display_data",
          "data": {
            "image/png": "[encoded data removed]",
            "text/plain": [
              "<Figure size 432x288 with 1 Axes>"
            ]
          },
          "metadata": {
            "tags": [],
            "needs_background": "light"
          }
        }
      ]
    },
    {
      "cell_type": "code",
      "metadata": {
        "colab": {
          "base_uri": "https://localhost:8080/",
          "height": 282
        },
        "id": "BPoEqQH3dR5V",
        "outputId": "15d124ed-5cb7-47e6-9abb-7403484e088e"
      },
      "source": [
        "meta_train['duration'].hist(bins=20)"
      ],
      "execution_count": null,
      "outputs": [
        {
          "output_type": "execute_result",
          "data": {
            "text/plain": [
              "<matplotlib.axes._subplots.AxesSubplot at 0x7f45efad3cd0>"
            ]
          },
          "metadata": {
            "tags": []
          },
          "execution_count": 23
        },
        {
          "output_type": "display_data",
          "data": {
            "image/png": "[encoded data removed]",
            "text/plain": [
              "<Figure size 432x288 with 1 Axes>"
            ]
          },
          "metadata": {
            "tags": [],
            "needs_background": "light"
          }
        }
      ]
    },
    {
      "cell_type": "code",
      "metadata": {
        "colab": {
          "base_uri": "https://localhost:8080/",
          "height": 316
        },
        "id": "HIuV5wsldVUc",
        "outputId": "303663b8-b3d6-42f4-d0a8-737595b564ca"
      },
      "source": [
        "duration_log = np.log10(meta_train['duration']).replace(-np.inf, 0)\n",
        "duration_log.hist(bins=20)"
      ],
      "execution_count": null,
      "outputs": [
        {
          "output_type": "stream",
          "text": [
            "/usr/local/lib/python3.7/dist-packages/pandas/core/series.py:726: RuntimeWarning: divide by zero encountered in log10\n",
            "  result = getattr(ufunc, method)(*inputs, **kwargs)\n"
          ],
          "name": "stderr"
        },
        {
          "output_type": "execute_result",
          "data": {
            "text/plain": [
              "<matplotlib.axes._subplots.AxesSubplot at 0x7f45ef9bb490>"
            ]
          },
          "metadata": {
            "tags": []
          },
          "execution_count": 25
        },
        {
          "output_type": "display_data",
          "data": {
            "image/png": "[encoded data removed]",
            "text/plain": [
              "<Figure size 432x288 with 1 Axes>"
            ]
          },
          "metadata": {
            "tags": [],
            "needs_background": "light"
          }
        }
      ]
    },
    {
      "cell_type": "code",
      "metadata": {
        "id": "auRN3xiFu2ZW",
        "colab": {
          "base_uri": "https://localhost:8080/"
        },
        "outputId": "943d3768-e485-41bf-f56d-c2485f79ae97"
      },
      "source": [
        "meta_train['ad_blocked'].value_counts()"
      ],
      "execution_count": null,
      "outputs": [
        {
          "output_type": "execute_result",
          "data": {
            "text/plain": [
              "False    2980\n",
              "True       20\n",
              "Name: ad_blocked, dtype: int64"
            ]
          },
          "metadata": {
            "tags": []
          },
          "execution_count": 11
        }
      ]
    },
    {
      "cell_type": "code",
      "metadata": {
        "scrolled": true,
        "id": "K3HYpowuu2ZW",
        "colab": {
          "base_uri": "https://localhost:8080/"
        },
        "outputId": "60348f16-3f30-4ba8-8d0a-e2f3e7e55b19"
      },
      "source": [
        "meta_train['embed'].value_counts()"
      ],
      "execution_count": null,
      "outputs": [
        {
          "output_type": "execute_result",
          "data": {
            "text/plain": [
              "True     2982\n",
              "False      18\n",
              "Name: embed, dtype: int64"
            ]
          },
          "metadata": {
            "tags": []
          },
          "execution_count": 12
        }
      ]
    },
    {
      "cell_type": "code",
      "metadata": {
        "id": "L8jr4w8_u2ZX",
        "colab": {
          "base_uri": "https://localhost:8080/",
          "height": 142
        },
        "outputId": "b1cd156e-c877-4372-cb3b-f53bc2be7b44"
      },
      "source": [
        "# Some of videos have inactive partners.\n",
        "pd.crosstab(meta_train.partner, meta_train.partner_active)"
      ],
      "execution_count": null,
      "outputs": [
        {
          "output_type": "execute_result",
          "data": {
            "text/html": [
              "<div>\n",
              "<style scoped>\n",
              "    .dataframe tbody tr th:only-of-type {\n",
              "        vertical-align: middle;\n",
              "    }\n",
              "\n",
              "    .dataframe tbody tr th {\n",
              "        vertical-align: top;\n",
              "    }\n",
              "\n",
              "    .dataframe thead th {\n",
              "        text-align: right;\n",
              "    }\n",
              "</style>\n",
              "<table border=\"1\" class=\"dataframe\">\n",
              "  <thead>\n",
              "    <tr style=\"text-align: right;\">\n",
              "      <th>partner_active</th>\n",
              "      <th>False</th>\n",
              "      <th>True</th>\n",
              "    </tr>\n",
              "    <tr>\n",
              "      <th>partner</th>\n",
              "      <th></th>\n",
              "      <th></th>\n",
              "    </tr>\n",
              "  </thead>\n",
              "  <tbody>\n",
              "    <tr>\n",
              "      <th>False</th>\n",
              "      <td>1194</td>\n",
              "      <td>0</td>\n",
              "    </tr>\n",
              "    <tr>\n",
              "      <th>True</th>\n",
              "      <td>1123</td>\n",
              "      <td>683</td>\n",
              "    </tr>\n",
              "  </tbody>\n",
              "</table>\n",
              "</div>"
            ],
            "text/plain": [
              "partner_active  False  True \n",
              "partner                     \n",
              "False            1194      0\n",
              "True             1123    683"
            ]
          },
          "metadata": {
            "tags": []
          },
          "execution_count": 18
        }
      ]
    },
    {
      "cell_type": "code",
      "metadata": {
        "id": "kNbXFWZYu2ZX",
        "colab": {
          "base_uri": "https://localhost:8080/"
        },
        "outputId": "ada52160-5611-4fed-9f4f-dde308a75fbc"
      },
      "source": [
        "# Correlation b/w the target and numeric variables. n_likes, language, and ratio are good candidates.\n",
        "cor_tbl_df = meta_train[['views', 'ratio', 'duration', 'language', 'n_likes', 'n_tags', \n",
        "                          'n_formats', 'dayofweek', 'hour']]\n",
        "sort_n = cor_tbl_df.corr().sort_values('views', ascending=False).index\n",
        "cor_tbl_df.corr()[sort_n].iloc[0]"
      ],
      "execution_count": null,
      "outputs": [
        {
          "output_type": "execute_result",
          "data": {
            "text/plain": [
              "views        1.000000\n",
              "n_likes      0.288940\n",
              "language     0.105701\n",
              "ratio        0.102332\n",
              "n_tags       0.081795\n",
              "duration     0.073680\n",
              "n_formats    0.034488\n",
              "hour        -0.014262\n",
              "dayofweek   -0.022092\n",
              "Name: views, dtype: float64"
            ]
          },
          "metadata": {
            "tags": []
          },
          "execution_count": 20
        }
      ]
    },
    {
      "cell_type": "code",
      "metadata": {
        "colab": {
          "base_uri": "https://localhost:8080/"
        },
        "id": "hflLG0P8D0pa",
        "outputId": "373721a2-2438-49db-fbb4-65f78d230266"
      },
      "source": [
        "meta_train['language'].value_counts()"
      ],
      "execution_count": null,
      "outputs": [
        {
          "output_type": "execute_result",
          "data": {
            "text/plain": [
              "2     2136\n",
              "4      419\n",
              "9      114\n",
              "5       87\n",
              "6       66\n",
              "3       42\n",
              "7       41\n",
              "10      36\n",
              "1       32\n",
              "8       27\n",
              "Name: language, dtype: int64"
            ]
          },
          "metadata": {
            "tags": []
          },
          "execution_count": 37
        }
      ]
    },
    {
      "cell_type": "code",
      "metadata": {
        "id": "g6wT7KA2u2ZX",
        "colab": {
          "base_uri": "https://localhost:8080/",
          "height": 309
        },
        "outputId": "0dd5cd7a-074b-4a45-c3ce-0939b3b9e07b"
      },
      "source": [
        "# With EDA above, I decided to use 'n_likes' 'language' 'ratio' and the other data points from metadata.\n",
        "# One hot encoding.\n",
        "# ad = pd.get_dummies(meta_train.ad_blocked, prefix ='ad') --- ad column in public set only has 1 value.\n",
        "embed = pd.get_dummies(meta_train.embed, prefix ='embed')\n",
        "partner = pd.get_dummies(meta_train.partner, prefix ='partner')\n",
        "partner_active = pd.get_dummies(meta_train.partner_active, prefix ='partner_a')\n",
        "\n",
        "#### JORGE\n",
        "language = pd.get_dummies(meta_train['language'], prefix='language')\n",
        "weekday = pd.get_dummies(meta_train['dayofweek'], prefix='day')\n",
        "\n",
        "sin_hour = np.sin(2*np.pi*meta_train['hour']/24.0)\n",
        "sin_hour.name = 'sin_hour'\n",
        "cos_hour = np.cos(2*np.pi*meta_train['hour']/24.0)\n",
        "cos_hour.name = 'cos_hour'\n",
        "########\n",
        "\n",
        "\n",
        "# Join all dataframes.\n",
        "meta_final_df = pd.concat([meta_train[['comp_id', 'views', 'ratio', 'language', 'n_likes', 'duration']].reset_index(drop=True),\n",
        "                           embed, partner, partner_active, language, weekday, sin_hour, cos_hour], axis=1)\n",
        "meta_final_df.head()"
      ],
      "execution_count": null,
      "outputs": [
        {
          "output_type": "execute_result",
          "data": {
            "text/html": [
              "<div>\n",
              "<style scoped>\n",
              "    .dataframe tbody tr th:only-of-type {\n",
              "        vertical-align: middle;\n",
              "    }\n",
              "\n",
              "    .dataframe tbody tr th {\n",
              "        vertical-align: top;\n",
              "    }\n",
              "\n",
              "    .dataframe thead th {\n",
              "        text-align: right;\n",
              "    }\n",
              "</style>\n",
              "<table border=\"1\" class=\"dataframe\">\n",
              "  <thead>\n",
              "    <tr style=\"text-align: right;\">\n",
              "      <th></th>\n",
              "      <th>comp_id</th>\n",
              "      <th>views</th>\n",
              "      <th>ratio</th>\n",
              "      <th>language</th>\n",
              "      <th>n_likes</th>\n",
              "      <th>duration</th>\n",
              "      <th>embed_False</th>\n",
              "      <th>embed_True</th>\n",
              "      <th>partner_False</th>\n",
              "      <th>partner_True</th>\n",
              "      <th>partner_a_False</th>\n",
              "      <th>partner_a_True</th>\n",
              "      <th>language_1</th>\n",
              "      <th>language_2</th>\n",
              "      <th>language_3</th>\n",
              "      <th>language_4</th>\n",
              "      <th>language_5</th>\n",
              "      <th>language_6</th>\n",
              "      <th>language_7</th>\n",
              "      <th>language_8</th>\n",
              "      <th>language_9</th>\n",
              "      <th>language_10</th>\n",
              "      <th>day_1</th>\n",
              "      <th>day_2</th>\n",
              "      <th>day_3</th>\n",
              "      <th>day_4</th>\n",
              "      <th>day_5</th>\n",
              "      <th>day_7</th>\n",
              "      <th>sin_hour</th>\n",
              "      <th>cos_hour</th>\n",
              "    </tr>\n",
              "  </thead>\n",
              "  <tbody>\n",
              "    <tr>\n",
              "      <th>0</th>\n",
              "      <td>1</td>\n",
              "      <td>290</td>\n",
              "      <td>1.77778</td>\n",
              "      <td>3</td>\n",
              "      <td>0</td>\n",
              "      <td>86</td>\n",
              "      <td>0</td>\n",
              "      <td>1</td>\n",
              "      <td>0</td>\n",
              "      <td>1</td>\n",
              "      <td>1</td>\n",
              "      <td>0</td>\n",
              "      <td>0</td>\n",
              "      <td>0</td>\n",
              "      <td>1</td>\n",
              "      <td>0</td>\n",
              "      <td>0</td>\n",
              "      <td>0</td>\n",
              "      <td>0</td>\n",
              "      <td>0</td>\n",
              "      <td>0</td>\n",
              "      <td>0</td>\n",
              "      <td>0</td>\n",
              "      <td>0</td>\n",
              "      <td>0</td>\n",
              "      <td>0</td>\n",
              "      <td>1</td>\n",
              "      <td>0</td>\n",
              "      <td>1.0</td>\n",
              "      <td>6.123234e-17</td>\n",
              "    </tr>\n",
              "    <tr>\n",
              "      <th>1</th>\n",
              "      <td>2</td>\n",
              "      <td>1443</td>\n",
              "      <td>1.33333</td>\n",
              "      <td>2</td>\n",
              "      <td>0</td>\n",
              "      <td>1129</td>\n",
              "      <td>0</td>\n",
              "      <td>1</td>\n",
              "      <td>0</td>\n",
              "      <td>1</td>\n",
              "      <td>1</td>\n",
              "      <td>0</td>\n",
              "      <td>0</td>\n",
              "      <td>1</td>\n",
              "      <td>0</td>\n",
              "      <td>0</td>\n",
              "      <td>0</td>\n",
              "      <td>0</td>\n",
              "      <td>0</td>\n",
              "      <td>0</td>\n",
              "      <td>0</td>\n",
              "      <td>0</td>\n",
              "      <td>0</td>\n",
              "      <td>0</td>\n",
              "      <td>0</td>\n",
              "      <td>0</td>\n",
              "      <td>1</td>\n",
              "      <td>0</td>\n",
              "      <td>1.0</td>\n",
              "      <td>6.123234e-17</td>\n",
              "    </tr>\n",
              "    <tr>\n",
              "      <th>2</th>\n",
              "      <td>3</td>\n",
              "      <td>329</td>\n",
              "      <td>1.76667</td>\n",
              "      <td>2</td>\n",
              "      <td>0</td>\n",
              "      <td>1163</td>\n",
              "      <td>0</td>\n",
              "      <td>1</td>\n",
              "      <td>0</td>\n",
              "      <td>1</td>\n",
              "      <td>1</td>\n",
              "      <td>0</td>\n",
              "      <td>0</td>\n",
              "      <td>1</td>\n",
              "      <td>0</td>\n",
              "      <td>0</td>\n",
              "      <td>0</td>\n",
              "      <td>0</td>\n",
              "      <td>0</td>\n",
              "      <td>0</td>\n",
              "      <td>0</td>\n",
              "      <td>0</td>\n",
              "      <td>0</td>\n",
              "      <td>0</td>\n",
              "      <td>0</td>\n",
              "      <td>0</td>\n",
              "      <td>1</td>\n",
              "      <td>0</td>\n",
              "      <td>1.0</td>\n",
              "      <td>6.123234e-17</td>\n",
              "    </tr>\n",
              "    <tr>\n",
              "      <th>3</th>\n",
              "      <td>4</td>\n",
              "      <td>63</td>\n",
              "      <td>1.77778</td>\n",
              "      <td>2</td>\n",
              "      <td>0</td>\n",
              "      <td>1326</td>\n",
              "      <td>0</td>\n",
              "      <td>1</td>\n",
              "      <td>0</td>\n",
              "      <td>1</td>\n",
              "      <td>1</td>\n",
              "      <td>0</td>\n",
              "      <td>0</td>\n",
              "      <td>1</td>\n",
              "      <td>0</td>\n",
              "      <td>0</td>\n",
              "      <td>0</td>\n",
              "      <td>0</td>\n",
              "      <td>0</td>\n",
              "      <td>0</td>\n",
              "      <td>0</td>\n",
              "      <td>0</td>\n",
              "      <td>0</td>\n",
              "      <td>0</td>\n",
              "      <td>0</td>\n",
              "      <td>0</td>\n",
              "      <td>1</td>\n",
              "      <td>0</td>\n",
              "      <td>1.0</td>\n",
              "      <td>6.123234e-17</td>\n",
              "    </tr>\n",
              "    <tr>\n",
              "      <th>4</th>\n",
              "      <td>5</td>\n",
              "      <td>37</td>\n",
              "      <td>1.77273</td>\n",
              "      <td>2</td>\n",
              "      <td>3</td>\n",
              "      <td>2612</td>\n",
              "      <td>0</td>\n",
              "      <td>1</td>\n",
              "      <td>0</td>\n",
              "      <td>1</td>\n",
              "      <td>1</td>\n",
              "      <td>0</td>\n",
              "      <td>0</td>\n",
              "      <td>1</td>\n",
              "      <td>0</td>\n",
              "      <td>0</td>\n",
              "      <td>0</td>\n",
              "      <td>0</td>\n",
              "      <td>0</td>\n",
              "      <td>0</td>\n",
              "      <td>0</td>\n",
              "      <td>0</td>\n",
              "      <td>0</td>\n",
              "      <td>0</td>\n",
              "      <td>0</td>\n",
              "      <td>0</td>\n",
              "      <td>1</td>\n",
              "      <td>0</td>\n",
              "      <td>1.0</td>\n",
              "      <td>6.123234e-17</td>\n",
              "    </tr>\n",
              "  </tbody>\n",
              "</table>\n",
              "</div>"
            ],
            "text/plain": [
              "   comp_id  views    ratio  language  ...  day_5  day_7  sin_hour      cos_hour\n",
              "0        1    290  1.77778         3  ...      1      0       1.0  6.123234e-17\n",
              "1        2   1443  1.33333         2  ...      1      0       1.0  6.123234e-17\n",
              "2        3    329  1.76667         2  ...      1      0       1.0  6.123234e-17\n",
              "3        4     63  1.77778         2  ...      1      0       1.0  6.123234e-17\n",
              "4        5     37  1.77273         2  ...      1      0       1.0  6.123234e-17\n",
              "\n",
              "[5 rows x 30 columns]"
            ]
          },
          "metadata": {
            "tags": []
          },
          "execution_count": 46
        }
      ]
    },
    {
      "cell_type": "code",
      "metadata": {
        "id": "qvx8zUkJu2ZX"
      },
      "source": [
        "title_train.head()"
      ],
      "execution_count": null,
      "outputs": []
    },
    {
      "cell_type": "markdown",
      "metadata": {
        "id": "GQAIv-fXu2ZX"
      },
      "source": [
        "#### Image data has 4000 columns and would be hard to be processed with a local machine. So I decided to recude the dimentionality using Lasso regression. The rest of the datasets remain unchanged and can be joined and consolidated into one big table."
      ]
    },
    {
      "cell_type": "code",
      "metadata": {
        "id": "SFCnpSfGu2ZX",
        "colab": {
          "base_uri": "https://localhost:8080/",
          "height": 338
        },
        "outputId": "db2f4169-a0ec-4130-ec14-2a863602e7de"
      },
      "source": [
        "image_train.head()"
      ],
      "execution_count": null,
      "outputs": [
        {
          "output_type": "execute_result",
          "data": {
            "text/html": [
              "<div>\n",
              "<style scoped>\n",
              "    .dataframe tbody tr th:only-of-type {\n",
              "        vertical-align: middle;\n",
              "    }\n",
              "\n",
              "    .dataframe tbody tr th {\n",
              "        vertical-align: top;\n",
              "    }\n",
              "\n",
              "    .dataframe thead th {\n",
              "        text-align: right;\n",
              "    }\n",
              "</style>\n",
              "<table border=\"1\" class=\"dataframe\">\n",
              "  <thead>\n",
              "    <tr style=\"text-align: right;\">\n",
              "      <th></th>\n",
              "      <th>comp_id</th>\n",
              "      <th>image_1</th>\n",
              "      <th>image_2</th>\n",
              "      <th>image_3</th>\n",
              "      <th>image_4</th>\n",
              "      <th>image_5</th>\n",
              "      <th>image_6</th>\n",
              "      <th>image_7</th>\n",
              "      <th>image_8</th>\n",
              "      <th>image_9</th>\n",
              "      <th>image_10</th>\n",
              "      <th>image_11</th>\n",
              "      <th>image_12</th>\n",
              "      <th>image_13</th>\n",
              "      <th>image_14</th>\n",
              "      <th>image_15</th>\n",
              "      <th>image_16</th>\n",
              "      <th>image_17</th>\n",
              "      <th>image_18</th>\n",
              "      <th>image_19</th>\n",
              "      <th>image_20</th>\n",
              "      <th>image_21</th>\n",
              "      <th>image_22</th>\n",
              "      <th>image_23</th>\n",
              "      <th>image_24</th>\n",
              "      <th>image_25</th>\n",
              "      <th>image_26</th>\n",
              "      <th>image_27</th>\n",
              "      <th>image_28</th>\n",
              "      <th>image_29</th>\n",
              "      <th>image_30</th>\n",
              "      <th>image_31</th>\n",
              "      <th>image_32</th>\n",
              "      <th>image_33</th>\n",
              "      <th>image_34</th>\n",
              "      <th>image_35</th>\n",
              "      <th>image_36</th>\n",
              "      <th>image_37</th>\n",
              "      <th>image_38</th>\n",
              "      <th>image_39</th>\n",
              "      <th>...</th>\n",
              "      <th>image_3961</th>\n",
              "      <th>image_3962</th>\n",
              "      <th>image_3963</th>\n",
              "      <th>image_3964</th>\n",
              "      <th>image_3965</th>\n",
              "      <th>image_3966</th>\n",
              "      <th>image_3967</th>\n",
              "      <th>image_3968</th>\n",
              "      <th>image_3969</th>\n",
              "      <th>image_3970</th>\n",
              "      <th>image_3971</th>\n",
              "      <th>image_3972</th>\n",
              "      <th>image_3973</th>\n",
              "      <th>image_3974</th>\n",
              "      <th>image_3975</th>\n",
              "      <th>image_3976</th>\n",
              "      <th>image_3977</th>\n",
              "      <th>image_3978</th>\n",
              "      <th>image_3979</th>\n",
              "      <th>image_3980</th>\n",
              "      <th>image_3981</th>\n",
              "      <th>image_3982</th>\n",
              "      <th>image_3983</th>\n",
              "      <th>image_3984</th>\n",
              "      <th>image_3985</th>\n",
              "      <th>image_3986</th>\n",
              "      <th>image_3987</th>\n",
              "      <th>image_3988</th>\n",
              "      <th>image_3989</th>\n",
              "      <th>image_3990</th>\n",
              "      <th>image_3991</th>\n",
              "      <th>image_3992</th>\n",
              "      <th>image_3993</th>\n",
              "      <th>image_3994</th>\n",
              "      <th>image_3995</th>\n",
              "      <th>image_3996</th>\n",
              "      <th>image_3997</th>\n",
              "      <th>image_3998</th>\n",
              "      <th>image_3999</th>\n",
              "      <th>image_4000</th>\n",
              "    </tr>\n",
              "  </thead>\n",
              "  <tbody>\n",
              "    <tr>\n",
              "      <th>0</th>\n",
              "      <td>1</td>\n",
              "      <td>0.484456</td>\n",
              "      <td>0.036087</td>\n",
              "      <td>-0.149328</td>\n",
              "      <td>0.144475</td>\n",
              "      <td>-0.617386</td>\n",
              "      <td>0.035018</td>\n",
              "      <td>0.169174</td>\n",
              "      <td>-0.005733</td>\n",
              "      <td>-0.104908</td>\n",
              "      <td>-0.041200</td>\n",
              "      <td>0.780332</td>\n",
              "      <td>-0.088374</td>\n",
              "      <td>0.321899</td>\n",
              "      <td>-0.076341</td>\n",
              "      <td>-1.193367</td>\n",
              "      <td>0.076671</td>\n",
              "      <td>0.359643</td>\n",
              "      <td>-0.087548</td>\n",
              "      <td>-0.015789</td>\n",
              "      <td>0.201758</td>\n",
              "      <td>0.064355</td>\n",
              "      <td>-0.616845</td>\n",
              "      <td>0.046767</td>\n",
              "      <td>0.392215</td>\n",
              "      <td>-0.009920</td>\n",
              "      <td>0.049990</td>\n",
              "      <td>0.018078</td>\n",
              "      <td>0.198612</td>\n",
              "      <td>1.561772</td>\n",
              "      <td>0.004040</td>\n",
              "      <td>1.115828e-14</td>\n",
              "      <td>0.245002</td>\n",
              "      <td>1.398923</td>\n",
              "      <td>0.036252</td>\n",
              "      <td>-0.094207</td>\n",
              "      <td>-0.289255</td>\n",
              "      <td>-0.061230</td>\n",
              "      <td>-0.469053</td>\n",
              "      <td>0.016973</td>\n",
              "      <td>...</td>\n",
              "      <td>0.005193</td>\n",
              "      <td>-1.364837</td>\n",
              "      <td>0.006476</td>\n",
              "      <td>0.002824</td>\n",
              "      <td>-0.147828</td>\n",
              "      <td>-0.781976</td>\n",
              "      <td>0.396359</td>\n",
              "      <td>-3.690247</td>\n",
              "      <td>0.013893</td>\n",
              "      <td>-0.195668</td>\n",
              "      <td>0.206938</td>\n",
              "      <td>0.028772</td>\n",
              "      <td>1.522198</td>\n",
              "      <td>-0.606094</td>\n",
              "      <td>0.358221</td>\n",
              "      <td>0.020232</td>\n",
              "      <td>0.658431</td>\n",
              "      <td>-0.031049</td>\n",
              "      <td>0.026947</td>\n",
              "      <td>0.179981</td>\n",
              "      <td>-0.001695</td>\n",
              "      <td>-0.269223</td>\n",
              "      <td>0.070663</td>\n",
              "      <td>-0.604360</td>\n",
              "      <td>0.046013</td>\n",
              "      <td>-0.000350</td>\n",
              "      <td>0.171488</td>\n",
              "      <td>-0.067376</td>\n",
              "      <td>-0.052903</td>\n",
              "      <td>0.111028</td>\n",
              "      <td>-0.090408</td>\n",
              "      <td>-0.032915</td>\n",
              "      <td>-0.010857</td>\n",
              "      <td>-0.015954</td>\n",
              "      <td>0.123416</td>\n",
              "      <td>0.195833</td>\n",
              "      <td>-0.066449</td>\n",
              "      <td>0.115818</td>\n",
              "      <td>-0.005140</td>\n",
              "      <td>0.017278</td>\n",
              "    </tr>\n",
              "    <tr>\n",
              "      <th>1</th>\n",
              "      <td>2</td>\n",
              "      <td>0.074533</td>\n",
              "      <td>-0.015655</td>\n",
              "      <td>-0.016286</td>\n",
              "      <td>-0.480964</td>\n",
              "      <td>0.687917</td>\n",
              "      <td>0.037131</td>\n",
              "      <td>-0.149725</td>\n",
              "      <td>-0.002098</td>\n",
              "      <td>0.099383</td>\n",
              "      <td>-0.021134</td>\n",
              "      <td>0.410953</td>\n",
              "      <td>0.029568</td>\n",
              "      <td>0.555797</td>\n",
              "      <td>0.210486</td>\n",
              "      <td>0.797866</td>\n",
              "      <td>-0.079695</td>\n",
              "      <td>-0.103046</td>\n",
              "      <td>0.008360</td>\n",
              "      <td>-0.006162</td>\n",
              "      <td>-0.820352</td>\n",
              "      <td>0.093285</td>\n",
              "      <td>-0.257368</td>\n",
              "      <td>-0.003837</td>\n",
              "      <td>-0.237525</td>\n",
              "      <td>-0.010784</td>\n",
              "      <td>-0.127445</td>\n",
              "      <td>0.003142</td>\n",
              "      <td>0.042099</td>\n",
              "      <td>0.092049</td>\n",
              "      <td>-0.015305</td>\n",
              "      <td>1.275889e-15</td>\n",
              "      <td>-0.293696</td>\n",
              "      <td>-0.173552</td>\n",
              "      <td>0.039536</td>\n",
              "      <td>-1.181006</td>\n",
              "      <td>-0.254040</td>\n",
              "      <td>0.065191</td>\n",
              "      <td>-0.769628</td>\n",
              "      <td>0.006467</td>\n",
              "      <td>...</td>\n",
              "      <td>0.034338</td>\n",
              "      <td>0.406546</td>\n",
              "      <td>-0.045887</td>\n",
              "      <td>0.008474</td>\n",
              "      <td>0.474869</td>\n",
              "      <td>-0.552040</td>\n",
              "      <td>-0.634184</td>\n",
              "      <td>0.225877</td>\n",
              "      <td>0.023105</td>\n",
              "      <td>-0.093336</td>\n",
              "      <td>0.163543</td>\n",
              "      <td>-0.101472</td>\n",
              "      <td>1.708743</td>\n",
              "      <td>-0.204869</td>\n",
              "      <td>0.513708</td>\n",
              "      <td>0.034999</td>\n",
              "      <td>-0.510086</td>\n",
              "      <td>0.032423</td>\n",
              "      <td>-0.018788</td>\n",
              "      <td>0.252818</td>\n",
              "      <td>-0.000703</td>\n",
              "      <td>-0.000187</td>\n",
              "      <td>0.083051</td>\n",
              "      <td>0.410483</td>\n",
              "      <td>-0.020481</td>\n",
              "      <td>0.020026</td>\n",
              "      <td>0.298024</td>\n",
              "      <td>0.554534</td>\n",
              "      <td>-0.054143</td>\n",
              "      <td>-0.102448</td>\n",
              "      <td>-0.625816</td>\n",
              "      <td>-0.009616</td>\n",
              "      <td>0.004558</td>\n",
              "      <td>0.008310</td>\n",
              "      <td>-0.173496</td>\n",
              "      <td>0.133518</td>\n",
              "      <td>-0.488898</td>\n",
              "      <td>0.084832</td>\n",
              "      <td>0.146566</td>\n",
              "      <td>0.007997</td>\n",
              "    </tr>\n",
              "    <tr>\n",
              "      <th>2</th>\n",
              "      <td>3</td>\n",
              "      <td>-0.396809</td>\n",
              "      <td>0.021490</td>\n",
              "      <td>-1.723037</td>\n",
              "      <td>0.666147</td>\n",
              "      <td>-0.631924</td>\n",
              "      <td>0.047724</td>\n",
              "      <td>0.336041</td>\n",
              "      <td>-0.003904</td>\n",
              "      <td>0.039683</td>\n",
              "      <td>0.002628</td>\n",
              "      <td>-0.006978</td>\n",
              "      <td>-0.116380</td>\n",
              "      <td>0.048934</td>\n",
              "      <td>-0.235391</td>\n",
              "      <td>-1.849174</td>\n",
              "      <td>0.130089</td>\n",
              "      <td>-0.451063</td>\n",
              "      <td>0.065677</td>\n",
              "      <td>-0.055431</td>\n",
              "      <td>-0.669081</td>\n",
              "      <td>0.043518</td>\n",
              "      <td>-0.561830</td>\n",
              "      <td>-0.001670</td>\n",
              "      <td>0.824120</td>\n",
              "      <td>-0.022290</td>\n",
              "      <td>0.288842</td>\n",
              "      <td>0.005356</td>\n",
              "      <td>0.034002</td>\n",
              "      <td>-1.261856</td>\n",
              "      <td>-0.010268</td>\n",
              "      <td>1.328018e-14</td>\n",
              "      <td>0.486931</td>\n",
              "      <td>-0.056531</td>\n",
              "      <td>0.020430</td>\n",
              "      <td>0.187717</td>\n",
              "      <td>-0.384779</td>\n",
              "      <td>0.012771</td>\n",
              "      <td>-0.634231</td>\n",
              "      <td>-0.038821</td>\n",
              "      <td>...</td>\n",
              "      <td>0.014662</td>\n",
              "      <td>1.867043</td>\n",
              "      <td>-0.016193</td>\n",
              "      <td>-0.002900</td>\n",
              "      <td>-0.040511</td>\n",
              "      <td>1.650881</td>\n",
              "      <td>0.843204</td>\n",
              "      <td>2.086596</td>\n",
              "      <td>-0.005560</td>\n",
              "      <td>0.032179</td>\n",
              "      <td>-0.405258</td>\n",
              "      <td>0.036758</td>\n",
              "      <td>-1.253300</td>\n",
              "      <td>-0.229919</td>\n",
              "      <td>0.206761</td>\n",
              "      <td>0.071793</td>\n",
              "      <td>-0.377193</td>\n",
              "      <td>-0.047854</td>\n",
              "      <td>0.003419</td>\n",
              "      <td>-0.539637</td>\n",
              "      <td>-0.002529</td>\n",
              "      <td>0.007692</td>\n",
              "      <td>-0.077466</td>\n",
              "      <td>0.605521</td>\n",
              "      <td>0.213865</td>\n",
              "      <td>-0.010082</td>\n",
              "      <td>-0.050623</td>\n",
              "      <td>0.105038</td>\n",
              "      <td>0.144554</td>\n",
              "      <td>-0.384109</td>\n",
              "      <td>-0.078059</td>\n",
              "      <td>0.086320</td>\n",
              "      <td>-0.005606</td>\n",
              "      <td>0.002414</td>\n",
              "      <td>-0.164493</td>\n",
              "      <td>0.218473</td>\n",
              "      <td>0.151292</td>\n",
              "      <td>-0.076860</td>\n",
              "      <td>0.008321</td>\n",
              "      <td>0.012555</td>\n",
              "    </tr>\n",
              "    <tr>\n",
              "      <th>3</th>\n",
              "      <td>4</td>\n",
              "      <td>0.995316</td>\n",
              "      <td>0.012766</td>\n",
              "      <td>0.387472</td>\n",
              "      <td>-0.684791</td>\n",
              "      <td>-0.209261</td>\n",
              "      <td>0.013654</td>\n",
              "      <td>0.138517</td>\n",
              "      <td>0.005586</td>\n",
              "      <td>0.079277</td>\n",
              "      <td>-0.004665</td>\n",
              "      <td>-0.356708</td>\n",
              "      <td>0.194370</td>\n",
              "      <td>0.147365</td>\n",
              "      <td>0.335734</td>\n",
              "      <td>0.807046</td>\n",
              "      <td>0.202777</td>\n",
              "      <td>0.111972</td>\n",
              "      <td>-0.002998</td>\n",
              "      <td>-0.047739</td>\n",
              "      <td>0.294054</td>\n",
              "      <td>-0.000040</td>\n",
              "      <td>0.169779</td>\n",
              "      <td>-0.043684</td>\n",
              "      <td>5.531464</td>\n",
              "      <td>-0.021486</td>\n",
              "      <td>0.550411</td>\n",
              "      <td>-0.002595</td>\n",
              "      <td>-0.151196</td>\n",
              "      <td>-0.647365</td>\n",
              "      <td>-0.016672</td>\n",
              "      <td>3.251479e-14</td>\n",
              "      <td>0.082928</td>\n",
              "      <td>-0.379089</td>\n",
              "      <td>-0.084236</td>\n",
              "      <td>-0.895890</td>\n",
              "      <td>0.385392</td>\n",
              "      <td>-0.028787</td>\n",
              "      <td>0.101765</td>\n",
              "      <td>0.021869</td>\n",
              "      <td>...</td>\n",
              "      <td>0.005221</td>\n",
              "      <td>-1.364425</td>\n",
              "      <td>0.007607</td>\n",
              "      <td>0.003765</td>\n",
              "      <td>0.072319</td>\n",
              "      <td>-0.414214</td>\n",
              "      <td>0.035882</td>\n",
              "      <td>-2.780271</td>\n",
              "      <td>-0.018474</td>\n",
              "      <td>0.099804</td>\n",
              "      <td>-0.217108</td>\n",
              "      <td>0.090902</td>\n",
              "      <td>-0.199446</td>\n",
              "      <td>-0.387944</td>\n",
              "      <td>0.142761</td>\n",
              "      <td>0.043976</td>\n",
              "      <td>1.334685</td>\n",
              "      <td>-0.003364</td>\n",
              "      <td>0.000313</td>\n",
              "      <td>0.206105</td>\n",
              "      <td>0.000606</td>\n",
              "      <td>-0.200762</td>\n",
              "      <td>0.049662</td>\n",
              "      <td>0.869679</td>\n",
              "      <td>-0.049231</td>\n",
              "      <td>-0.022817</td>\n",
              "      <td>0.392719</td>\n",
              "      <td>0.330957</td>\n",
              "      <td>-0.051254</td>\n",
              "      <td>0.302376</td>\n",
              "      <td>-0.190714</td>\n",
              "      <td>-0.005452</td>\n",
              "      <td>-0.003889</td>\n",
              "      <td>0.013430</td>\n",
              "      <td>0.344406</td>\n",
              "      <td>0.038220</td>\n",
              "      <td>0.210446</td>\n",
              "      <td>-0.145128</td>\n",
              "      <td>-0.019172</td>\n",
              "      <td>0.000532</td>\n",
              "    </tr>\n",
              "    <tr>\n",
              "      <th>4</th>\n",
              "      <td>5</td>\n",
              "      <td>-0.611648</td>\n",
              "      <td>0.000860</td>\n",
              "      <td>-0.572393</td>\n",
              "      <td>0.894287</td>\n",
              "      <td>-0.191228</td>\n",
              "      <td>-0.111583</td>\n",
              "      <td>-0.011111</td>\n",
              "      <td>0.003231</td>\n",
              "      <td>-0.160582</td>\n",
              "      <td>0.032804</td>\n",
              "      <td>-0.260793</td>\n",
              "      <td>0.071633</td>\n",
              "      <td>-0.488627</td>\n",
              "      <td>0.050279</td>\n",
              "      <td>-0.219198</td>\n",
              "      <td>-0.176530</td>\n",
              "      <td>1.063709</td>\n",
              "      <td>-0.068684</td>\n",
              "      <td>0.023713</td>\n",
              "      <td>0.717563</td>\n",
              "      <td>-0.104735</td>\n",
              "      <td>0.428180</td>\n",
              "      <td>-0.016618</td>\n",
              "      <td>1.603678</td>\n",
              "      <td>0.024298</td>\n",
              "      <td>-0.398335</td>\n",
              "      <td>-0.007962</td>\n",
              "      <td>-0.046635</td>\n",
              "      <td>0.292458</td>\n",
              "      <td>-0.006884</td>\n",
              "      <td>-1.487309e-15</td>\n",
              "      <td>-0.232607</td>\n",
              "      <td>0.996249</td>\n",
              "      <td>-0.110129</td>\n",
              "      <td>0.201924</td>\n",
              "      <td>0.306438</td>\n",
              "      <td>-0.068470</td>\n",
              "      <td>0.843059</td>\n",
              "      <td>-0.003373</td>\n",
              "      <td>...</td>\n",
              "      <td>-0.011783</td>\n",
              "      <td>0.282487</td>\n",
              "      <td>0.024050</td>\n",
              "      <td>0.004444</td>\n",
              "      <td>-0.117799</td>\n",
              "      <td>-0.020776</td>\n",
              "      <td>0.335877</td>\n",
              "      <td>2.269820</td>\n",
              "      <td>0.012039</td>\n",
              "      <td>0.087193</td>\n",
              "      <td>-0.129967</td>\n",
              "      <td>-0.055533</td>\n",
              "      <td>0.469091</td>\n",
              "      <td>1.325833</td>\n",
              "      <td>-0.552737</td>\n",
              "      <td>0.064178</td>\n",
              "      <td>-0.016011</td>\n",
              "      <td>-0.038678</td>\n",
              "      <td>-0.005711</td>\n",
              "      <td>-0.292988</td>\n",
              "      <td>-0.000254</td>\n",
              "      <td>-0.043102</td>\n",
              "      <td>-0.022684</td>\n",
              "      <td>0.467325</td>\n",
              "      <td>0.133324</td>\n",
              "      <td>0.006705</td>\n",
              "      <td>0.199420</td>\n",
              "      <td>0.023973</td>\n",
              "      <td>-0.075215</td>\n",
              "      <td>-0.171552</td>\n",
              "      <td>-0.040437</td>\n",
              "      <td>-0.142134</td>\n",
              "      <td>-0.022771</td>\n",
              "      <td>-0.013134</td>\n",
              "      <td>-0.024869</td>\n",
              "      <td>0.125129</td>\n",
              "      <td>0.215967</td>\n",
              "      <td>0.005288</td>\n",
              "      <td>0.145715</td>\n",
              "      <td>0.001425</td>\n",
              "    </tr>\n",
              "  </tbody>\n",
              "</table>\n",
              "<p>5 rows × 4001 columns</p>\n",
              "</div>"
            ],
            "text/plain": [
              "   comp_id   image_1   image_2  ...  image_3998  image_3999  image_4000\n",
              "0        1  0.484456  0.036087  ...    0.115818   -0.005140    0.017278\n",
              "1        2  0.074533 -0.015655  ...    0.084832    0.146566    0.007997\n",
              "2        3 -0.396809  0.021490  ...   -0.076860    0.008321    0.012555\n",
              "3        4  0.995316  0.012766  ...   -0.145128   -0.019172    0.000532\n",
              "4        5 -0.611648  0.000860  ...    0.005288    0.145715    0.001425\n",
              "\n",
              "[5 rows x 4001 columns]"
            ]
          },
          "metadata": {
            "tags": []
          },
          "execution_count": 26
        }
      ]
    },
    {
      "cell_type": "code",
      "metadata": {
        "id": "eaABfnJHu2ZX"
      },
      "source": [
        "# Set the target as well as dependent variables from image data.\n",
        "y = meta_train['views']\n",
        "x = image_train.loc[:, image_train.columns != 'comp_id']"
      ],
      "execution_count": null,
      "outputs": []
    },
    {
      "cell_type": "code",
      "metadata": {
        "id": "WkWAUXycu2ZY",
        "colab": {
          "base_uri": "https://localhost:8080/"
        },
        "outputId": "55ff856f-7b7e-40e9-a64c-1aa9362fefe8"
      },
      "source": [
        "# Run Lasso regression for feature selection.\n",
        "sel_model = SelectFromModel(LogisticRegression(C=1, penalty='l1', solver='liblinear'))\n",
        "\n",
        "start = timeit.default_timer()\n",
        "sel_model.fit(x, y)\n",
        "stop = timeit.default_timer()\n",
        "print('Time: ', stop - start) "
      ],
      "execution_count": null,
      "outputs": [
        {
          "output_type": "stream",
          "text": [
            "Time:  1365.7092927780013\n"
          ],
          "name": "stdout"
        }
      ]
    },
    {
      "cell_type": "code",
      "metadata": {
        "id": "1-Mj56wdu2ZY",
        "colab": {
          "base_uri": "https://localhost:8080/"
        },
        "outputId": "7e02443a-0070-4551-9b9f-bca6dedaa85b"
      },
      "source": [
        "# Check how many columns are selected. 1258 columns selected.\n",
        "sel_index = sel_model.get_support()\n",
        "counter = collections.Counter(sel_model.get_support())\n",
        "counter"
      ],
      "execution_count": null,
      "outputs": [
        {
          "output_type": "execute_result",
          "data": {
            "text/plain": [
              "Counter({False: 2742, True: 1258})"
            ]
          },
          "metadata": {
            "tags": []
          },
          "execution_count": 59
        }
      ]
    },
    {
      "cell_type": "code",
      "metadata": {
        "scrolled": true,
        "id": "-ASjEGPdu2ZY",
        "colab": {
          "base_uri": "https://localhost:8080/",
          "height": 253
        },
        "outputId": "6622ca78-b673-46fd-bcf2-0e7320496b79"
      },
      "source": [
        "# Reconstruct the image dataframe using the index information above.\n",
        "image_index_df = pd.DataFrame(x[x.columns[(sel_index)]])\n",
        "image_final_df = pd.concat([image_train[['comp_id']], image_index_df], axis=1)\n",
        "image_final_df.head()"
      ],
      "execution_count": null,
      "outputs": [
        {
          "output_type": "execute_result",
          "data": {
            "text/html": [
              "<div>\n",
              "<style scoped>\n",
              "    .dataframe tbody tr th:only-of-type {\n",
              "        vertical-align: middle;\n",
              "    }\n",
              "\n",
              "    .dataframe tbody tr th {\n",
              "        vertical-align: top;\n",
              "    }\n",
              "\n",
              "    .dataframe thead th {\n",
              "        text-align: right;\n",
              "    }\n",
              "</style>\n",
              "<table border=\"1\" class=\"dataframe\">\n",
              "  <thead>\n",
              "    <tr style=\"text-align: right;\">\n",
              "      <th></th>\n",
              "      <th>comp_id</th>\n",
              "      <th>image_1</th>\n",
              "      <th>image_3</th>\n",
              "      <th>image_4</th>\n",
              "      <th>image_11</th>\n",
              "      <th>image_15</th>\n",
              "      <th>image_17</th>\n",
              "      <th>image_20</th>\n",
              "      <th>image_24</th>\n",
              "      <th>image_26</th>\n",
              "      <th>image_29</th>\n",
              "      <th>image_33</th>\n",
              "      <th>image_38</th>\n",
              "      <th>image_41</th>\n",
              "      <th>image_42</th>\n",
              "      <th>image_45</th>\n",
              "      <th>image_48</th>\n",
              "      <th>image_52</th>\n",
              "      <th>image_70</th>\n",
              "      <th>image_71</th>\n",
              "      <th>image_72</th>\n",
              "      <th>image_77</th>\n",
              "      <th>image_80</th>\n",
              "      <th>image_82</th>\n",
              "      <th>image_85</th>\n",
              "      <th>image_87</th>\n",
              "      <th>image_92</th>\n",
              "      <th>image_94</th>\n",
              "      <th>image_95</th>\n",
              "      <th>image_96</th>\n",
              "      <th>image_98</th>\n",
              "      <th>image_101</th>\n",
              "      <th>image_110</th>\n",
              "      <th>image_118</th>\n",
              "      <th>image_119</th>\n",
              "      <th>image_124</th>\n",
              "      <th>image_129</th>\n",
              "      <th>image_135</th>\n",
              "      <th>image_142</th>\n",
              "      <th>image_145</th>\n",
              "      <th>...</th>\n",
              "      <th>image_3842</th>\n",
              "      <th>image_3844</th>\n",
              "      <th>image_3845</th>\n",
              "      <th>image_3848</th>\n",
              "      <th>image_3849</th>\n",
              "      <th>image_3851</th>\n",
              "      <th>image_3856</th>\n",
              "      <th>image_3862</th>\n",
              "      <th>image_3868</th>\n",
              "      <th>image_3880</th>\n",
              "      <th>image_3889</th>\n",
              "      <th>image_3890</th>\n",
              "      <th>image_3892</th>\n",
              "      <th>image_3894</th>\n",
              "      <th>image_3897</th>\n",
              "      <th>image_3899</th>\n",
              "      <th>image_3904</th>\n",
              "      <th>image_3907</th>\n",
              "      <th>image_3910</th>\n",
              "      <th>image_3916</th>\n",
              "      <th>image_3924</th>\n",
              "      <th>image_3926</th>\n",
              "      <th>image_3929</th>\n",
              "      <th>image_3932</th>\n",
              "      <th>image_3943</th>\n",
              "      <th>image_3944</th>\n",
              "      <th>image_3946</th>\n",
              "      <th>image_3947</th>\n",
              "      <th>image_3957</th>\n",
              "      <th>image_3958</th>\n",
              "      <th>image_3959</th>\n",
              "      <th>image_3960</th>\n",
              "      <th>image_3962</th>\n",
              "      <th>image_3966</th>\n",
              "      <th>image_3968</th>\n",
              "      <th>image_3973</th>\n",
              "      <th>image_3974</th>\n",
              "      <th>image_3977</th>\n",
              "      <th>image_3984</th>\n",
              "      <th>image_3990</th>\n",
              "    </tr>\n",
              "  </thead>\n",
              "  <tbody>\n",
              "    <tr>\n",
              "      <th>0</th>\n",
              "      <td>1</td>\n",
              "      <td>0.484456</td>\n",
              "      <td>-0.149328</td>\n",
              "      <td>0.144475</td>\n",
              "      <td>0.780332</td>\n",
              "      <td>-1.193367</td>\n",
              "      <td>0.359643</td>\n",
              "      <td>0.201758</td>\n",
              "      <td>0.392215</td>\n",
              "      <td>0.049990</td>\n",
              "      <td>1.561772</td>\n",
              "      <td>1.398923</td>\n",
              "      <td>-0.469053</td>\n",
              "      <td>-0.201135</td>\n",
              "      <td>0.654774</td>\n",
              "      <td>-0.010272</td>\n",
              "      <td>-2.294257</td>\n",
              "      <td>0.213377</td>\n",
              "      <td>0.363581</td>\n",
              "      <td>-0.685833</td>\n",
              "      <td>0.111829</td>\n",
              "      <td>0.674146</td>\n",
              "      <td>0.942569</td>\n",
              "      <td>0.969569</td>\n",
              "      <td>1.158182</td>\n",
              "      <td>0.195791</td>\n",
              "      <td>-0.969695</td>\n",
              "      <td>-0.477639</td>\n",
              "      <td>-0.366914</td>\n",
              "      <td>-1.913973</td>\n",
              "      <td>-0.338678</td>\n",
              "      <td>-0.023543</td>\n",
              "      <td>-1.129131</td>\n",
              "      <td>0.143965</td>\n",
              "      <td>0.677368</td>\n",
              "      <td>0.283335</td>\n",
              "      <td>-0.498193</td>\n",
              "      <td>0.270579</td>\n",
              "      <td>-0.616901</td>\n",
              "      <td>1.041734</td>\n",
              "      <td>...</td>\n",
              "      <td>-0.688167</td>\n",
              "      <td>-1.641789</td>\n",
              "      <td>-0.711524</td>\n",
              "      <td>-0.916584</td>\n",
              "      <td>0.634678</td>\n",
              "      <td>0.254656</td>\n",
              "      <td>0.295851</td>\n",
              "      <td>-0.002767</td>\n",
              "      <td>0.652335</td>\n",
              "      <td>-0.655231</td>\n",
              "      <td>-6.070977</td>\n",
              "      <td>-0.755872</td>\n",
              "      <td>1.559476</td>\n",
              "      <td>1.452236</td>\n",
              "      <td>0.453110</td>\n",
              "      <td>-0.806334</td>\n",
              "      <td>-2.051662</td>\n",
              "      <td>0.027525</td>\n",
              "      <td>1.175223</td>\n",
              "      <td>-0.257737</td>\n",
              "      <td>-1.097092</td>\n",
              "      <td>-0.375472</td>\n",
              "      <td>-0.310596</td>\n",
              "      <td>-1.836144</td>\n",
              "      <td>-7.671426</td>\n",
              "      <td>4.883176</td>\n",
              "      <td>1.104062</td>\n",
              "      <td>0.755437</td>\n",
              "      <td>-1.418211</td>\n",
              "      <td>0.571643</td>\n",
              "      <td>-0.506946</td>\n",
              "      <td>-0.162883</td>\n",
              "      <td>-1.364837</td>\n",
              "      <td>-0.781976</td>\n",
              "      <td>-3.690247</td>\n",
              "      <td>1.522198</td>\n",
              "      <td>-0.606094</td>\n",
              "      <td>0.658431</td>\n",
              "      <td>-0.604360</td>\n",
              "      <td>0.111028</td>\n",
              "    </tr>\n",
              "    <tr>\n",
              "      <th>1</th>\n",
              "      <td>2</td>\n",
              "      <td>0.074533</td>\n",
              "      <td>-0.016286</td>\n",
              "      <td>-0.480964</td>\n",
              "      <td>0.410953</td>\n",
              "      <td>0.797866</td>\n",
              "      <td>-0.103046</td>\n",
              "      <td>-0.820352</td>\n",
              "      <td>-0.237525</td>\n",
              "      <td>-0.127445</td>\n",
              "      <td>0.092049</td>\n",
              "      <td>-0.173552</td>\n",
              "      <td>-0.769628</td>\n",
              "      <td>-0.157064</td>\n",
              "      <td>-0.936632</td>\n",
              "      <td>-0.688076</td>\n",
              "      <td>-0.290775</td>\n",
              "      <td>-0.132548</td>\n",
              "      <td>1.046307</td>\n",
              "      <td>-0.152651</td>\n",
              "      <td>-3.680610</td>\n",
              "      <td>-1.277761</td>\n",
              "      <td>-0.318260</td>\n",
              "      <td>0.846168</td>\n",
              "      <td>0.580758</td>\n",
              "      <td>-0.061647</td>\n",
              "      <td>-0.162859</td>\n",
              "      <td>-0.044717</td>\n",
              "      <td>-0.623375</td>\n",
              "      <td>0.088911</td>\n",
              "      <td>0.658993</td>\n",
              "      <td>0.470742</td>\n",
              "      <td>-0.274444</td>\n",
              "      <td>-0.649374</td>\n",
              "      <td>0.249240</td>\n",
              "      <td>-0.888138</td>\n",
              "      <td>0.003847</td>\n",
              "      <td>-0.312809</td>\n",
              "      <td>-1.502790</td>\n",
              "      <td>0.103435</td>\n",
              "      <td>...</td>\n",
              "      <td>0.427027</td>\n",
              "      <td>0.016776</td>\n",
              "      <td>0.060192</td>\n",
              "      <td>0.054140</td>\n",
              "      <td>1.188652</td>\n",
              "      <td>-1.135208</td>\n",
              "      <td>0.213167</td>\n",
              "      <td>0.286731</td>\n",
              "      <td>-0.022780</td>\n",
              "      <td>-1.274276</td>\n",
              "      <td>-2.541646</td>\n",
              "      <td>-0.019520</td>\n",
              "      <td>-0.034465</td>\n",
              "      <td>0.126218</td>\n",
              "      <td>-0.679646</td>\n",
              "      <td>-0.719898</td>\n",
              "      <td>-0.798027</td>\n",
              "      <td>0.288983</td>\n",
              "      <td>0.795949</td>\n",
              "      <td>0.676574</td>\n",
              "      <td>0.198020</td>\n",
              "      <td>0.380690</td>\n",
              "      <td>-1.350619</td>\n",
              "      <td>-0.624966</td>\n",
              "      <td>-2.278313</td>\n",
              "      <td>-0.468203</td>\n",
              "      <td>0.066688</td>\n",
              "      <td>0.640690</td>\n",
              "      <td>-1.703507</td>\n",
              "      <td>0.103802</td>\n",
              "      <td>1.284343</td>\n",
              "      <td>0.019412</td>\n",
              "      <td>0.406546</td>\n",
              "      <td>-0.552040</td>\n",
              "      <td>0.225877</td>\n",
              "      <td>1.708743</td>\n",
              "      <td>-0.204869</td>\n",
              "      <td>-0.510086</td>\n",
              "      <td>0.410483</td>\n",
              "      <td>-0.102448</td>\n",
              "    </tr>\n",
              "    <tr>\n",
              "      <th>2</th>\n",
              "      <td>3</td>\n",
              "      <td>-0.396809</td>\n",
              "      <td>-1.723037</td>\n",
              "      <td>0.666147</td>\n",
              "      <td>-0.006978</td>\n",
              "      <td>-1.849174</td>\n",
              "      <td>-0.451063</td>\n",
              "      <td>-0.669081</td>\n",
              "      <td>0.824120</td>\n",
              "      <td>0.288842</td>\n",
              "      <td>-1.261856</td>\n",
              "      <td>-0.056531</td>\n",
              "      <td>-0.634231</td>\n",
              "      <td>-0.084242</td>\n",
              "      <td>-1.114264</td>\n",
              "      <td>-0.298926</td>\n",
              "      <td>-3.862903</td>\n",
              "      <td>-0.428824</td>\n",
              "      <td>1.242752</td>\n",
              "      <td>1.301610</td>\n",
              "      <td>1.750511</td>\n",
              "      <td>1.105347</td>\n",
              "      <td>-1.283686</td>\n",
              "      <td>0.756559</td>\n",
              "      <td>-0.023867</td>\n",
              "      <td>-0.028867</td>\n",
              "      <td>-0.873462</td>\n",
              "      <td>0.450887</td>\n",
              "      <td>-0.183318</td>\n",
              "      <td>0.161405</td>\n",
              "      <td>-0.540422</td>\n",
              "      <td>1.064937</td>\n",
              "      <td>-0.858482</td>\n",
              "      <td>0.613253</td>\n",
              "      <td>-0.063294</td>\n",
              "      <td>0.069435</td>\n",
              "      <td>0.253167</td>\n",
              "      <td>0.167378</td>\n",
              "      <td>-1.982087</td>\n",
              "      <td>-1.047908</td>\n",
              "      <td>...</td>\n",
              "      <td>0.561813</td>\n",
              "      <td>-1.538254</td>\n",
              "      <td>-1.140233</td>\n",
              "      <td>-1.490336</td>\n",
              "      <td>-1.057393</td>\n",
              "      <td>-0.709770</td>\n",
              "      <td>0.127387</td>\n",
              "      <td>-0.197847</td>\n",
              "      <td>-1.031728</td>\n",
              "      <td>-1.601098</td>\n",
              "      <td>-12.186877</td>\n",
              "      <td>-0.974039</td>\n",
              "      <td>0.493728</td>\n",
              "      <td>1.894651</td>\n",
              "      <td>0.715750</td>\n",
              "      <td>0.588887</td>\n",
              "      <td>-1.315847</td>\n",
              "      <td>-0.515519</td>\n",
              "      <td>-0.782052</td>\n",
              "      <td>-0.009799</td>\n",
              "      <td>0.318188</td>\n",
              "      <td>-0.651851</td>\n",
              "      <td>0.855341</td>\n",
              "      <td>-2.795952</td>\n",
              "      <td>0.263273</td>\n",
              "      <td>0.881765</td>\n",
              "      <td>-1.237637</td>\n",
              "      <td>-0.549863</td>\n",
              "      <td>0.819358</td>\n",
              "      <td>-1.341328</td>\n",
              "      <td>-0.249109</td>\n",
              "      <td>-0.389832</td>\n",
              "      <td>1.867043</td>\n",
              "      <td>1.650881</td>\n",
              "      <td>2.086596</td>\n",
              "      <td>-1.253300</td>\n",
              "      <td>-0.229919</td>\n",
              "      <td>-0.377193</td>\n",
              "      <td>0.605521</td>\n",
              "      <td>-0.384109</td>\n",
              "    </tr>\n",
              "    <tr>\n",
              "      <th>3</th>\n",
              "      <td>4</td>\n",
              "      <td>0.995316</td>\n",
              "      <td>0.387472</td>\n",
              "      <td>-0.684791</td>\n",
              "      <td>-0.356708</td>\n",
              "      <td>0.807046</td>\n",
              "      <td>0.111972</td>\n",
              "      <td>0.294054</td>\n",
              "      <td>5.531464</td>\n",
              "      <td>0.550411</td>\n",
              "      <td>-0.647365</td>\n",
              "      <td>-0.379089</td>\n",
              "      <td>0.101765</td>\n",
              "      <td>-1.159466</td>\n",
              "      <td>-0.041758</td>\n",
              "      <td>0.125642</td>\n",
              "      <td>-3.310392</td>\n",
              "      <td>-0.969488</td>\n",
              "      <td>2.218117</td>\n",
              "      <td>-0.137710</td>\n",
              "      <td>0.491617</td>\n",
              "      <td>0.312859</td>\n",
              "      <td>-0.837037</td>\n",
              "      <td>0.592292</td>\n",
              "      <td>-0.102958</td>\n",
              "      <td>0.175682</td>\n",
              "      <td>-0.490302</td>\n",
              "      <td>1.144010</td>\n",
              "      <td>0.095253</td>\n",
              "      <td>-0.355241</td>\n",
              "      <td>-1.071852</td>\n",
              "      <td>0.707317</td>\n",
              "      <td>-0.946907</td>\n",
              "      <td>-0.307078</td>\n",
              "      <td>-0.699664</td>\n",
              "      <td>-0.374121</td>\n",
              "      <td>-0.456004</td>\n",
              "      <td>0.831626</td>\n",
              "      <td>-0.362749</td>\n",
              "      <td>-1.570100</td>\n",
              "      <td>...</td>\n",
              "      <td>-0.010726</td>\n",
              "      <td>-0.972188</td>\n",
              "      <td>-0.498447</td>\n",
              "      <td>-0.833010</td>\n",
              "      <td>-0.043913</td>\n",
              "      <td>0.268160</td>\n",
              "      <td>-0.118007</td>\n",
              "      <td>0.461594</td>\n",
              "      <td>-0.793570</td>\n",
              "      <td>-0.413192</td>\n",
              "      <td>-1.251479</td>\n",
              "      <td>0.456172</td>\n",
              "      <td>-0.045441</td>\n",
              "      <td>1.432179</td>\n",
              "      <td>0.436345</td>\n",
              "      <td>-0.341799</td>\n",
              "      <td>0.597015</td>\n",
              "      <td>-0.794545</td>\n",
              "      <td>0.671484</td>\n",
              "      <td>0.701167</td>\n",
              "      <td>0.066750</td>\n",
              "      <td>0.866278</td>\n",
              "      <td>-1.337706</td>\n",
              "      <td>0.618288</td>\n",
              "      <td>0.385956</td>\n",
              "      <td>-0.200553</td>\n",
              "      <td>-0.148386</td>\n",
              "      <td>0.870408</td>\n",
              "      <td>-1.743515</td>\n",
              "      <td>0.721996</td>\n",
              "      <td>1.032519</td>\n",
              "      <td>-0.087203</td>\n",
              "      <td>-1.364425</td>\n",
              "      <td>-0.414214</td>\n",
              "      <td>-2.780271</td>\n",
              "      <td>-0.199446</td>\n",
              "      <td>-0.387944</td>\n",
              "      <td>1.334685</td>\n",
              "      <td>0.869679</td>\n",
              "      <td>0.302376</td>\n",
              "    </tr>\n",
              "    <tr>\n",
              "      <th>4</th>\n",
              "      <td>5</td>\n",
              "      <td>-0.611648</td>\n",
              "      <td>-0.572393</td>\n",
              "      <td>0.894287</td>\n",
              "      <td>-0.260793</td>\n",
              "      <td>-0.219198</td>\n",
              "      <td>1.063709</td>\n",
              "      <td>0.717563</td>\n",
              "      <td>1.603678</td>\n",
              "      <td>-0.398335</td>\n",
              "      <td>0.292458</td>\n",
              "      <td>0.996249</td>\n",
              "      <td>0.843059</td>\n",
              "      <td>-1.151790</td>\n",
              "      <td>0.423280</td>\n",
              "      <td>-0.128635</td>\n",
              "      <td>1.366067</td>\n",
              "      <td>0.701646</td>\n",
              "      <td>-0.408595</td>\n",
              "      <td>-0.794246</td>\n",
              "      <td>-1.469010</td>\n",
              "      <td>-0.686875</td>\n",
              "      <td>0.569881</td>\n",
              "      <td>0.422810</td>\n",
              "      <td>0.850048</td>\n",
              "      <td>-1.132442</td>\n",
              "      <td>-1.811421</td>\n",
              "      <td>-0.397270</td>\n",
              "      <td>0.153944</td>\n",
              "      <td>0.375570</td>\n",
              "      <td>0.296432</td>\n",
              "      <td>-0.269259</td>\n",
              "      <td>0.843784</td>\n",
              "      <td>0.871073</td>\n",
              "      <td>-0.686425</td>\n",
              "      <td>-1.177895</td>\n",
              "      <td>-0.371261</td>\n",
              "      <td>0.386908</td>\n",
              "      <td>-0.600381</td>\n",
              "      <td>-2.927396</td>\n",
              "      <td>...</td>\n",
              "      <td>-0.468932</td>\n",
              "      <td>0.250367</td>\n",
              "      <td>0.520887</td>\n",
              "      <td>-0.240850</td>\n",
              "      <td>0.873334</td>\n",
              "      <td>-0.328245</td>\n",
              "      <td>-0.517711</td>\n",
              "      <td>-0.569645</td>\n",
              "      <td>0.184169</td>\n",
              "      <td>0.378916</td>\n",
              "      <td>0.546390</td>\n",
              "      <td>-0.315490</td>\n",
              "      <td>-0.302904</td>\n",
              "      <td>-0.549437</td>\n",
              "      <td>0.282396</td>\n",
              "      <td>-0.406682</td>\n",
              "      <td>-0.688628</td>\n",
              "      <td>-0.941141</td>\n",
              "      <td>3.004868</td>\n",
              "      <td>0.015495</td>\n",
              "      <td>-0.111539</td>\n",
              "      <td>-0.154738</td>\n",
              "      <td>-1.272760</td>\n",
              "      <td>-0.595547</td>\n",
              "      <td>-1.752024</td>\n",
              "      <td>0.095486</td>\n",
              "      <td>0.239928</td>\n",
              "      <td>0.531262</td>\n",
              "      <td>0.345335</td>\n",
              "      <td>-0.882379</td>\n",
              "      <td>-0.082778</td>\n",
              "      <td>-0.765341</td>\n",
              "      <td>0.282487</td>\n",
              "      <td>-0.020776</td>\n",
              "      <td>2.269820</td>\n",
              "      <td>0.469091</td>\n",
              "      <td>1.325833</td>\n",
              "      <td>-0.016011</td>\n",
              "      <td>0.467325</td>\n",
              "      <td>-0.171552</td>\n",
              "    </tr>\n",
              "  </tbody>\n",
              "</table>\n",
              "<p>5 rows × 1259 columns</p>\n",
              "</div>"
            ],
            "text/plain": [
              "   comp_id   image_1   image_3  ...  image_3977  image_3984  image_3990\n",
              "0        1  0.484456 -0.149328  ...    0.658431   -0.604360    0.111028\n",
              "1        2  0.074533 -0.016286  ...   -0.510086    0.410483   -0.102448\n",
              "2        3 -0.396809 -1.723037  ...   -0.377193    0.605521   -0.384109\n",
              "3        4  0.995316  0.387472  ...    1.334685    0.869679    0.302376\n",
              "4        5 -0.611648 -0.572393  ...   -0.016011    0.467325   -0.171552\n",
              "\n",
              "[5 rows x 1259 columns]"
            ]
          },
          "metadata": {
            "tags": []
          },
          "execution_count": 60
        }
      ]
    },
    {
      "cell_type": "code",
      "metadata": {
        "id": "EhjtkMYCu2ZY",
        "colab": {
          "base_uri": "https://localhost:8080/"
        },
        "outputId": "99ba1a0e-b882-498d-b45b-4c3fc2b57d18"
      },
      "source": [
        "# Merge all tables.\n",
        "final_df = pd.merge(pd.merge(meta_final_df, image_final_df, on = 'comp_id'), \n",
        "                    pd.merge(desc_train, title_train, on = 'comp_id'), on = 'comp_id')\n",
        "final_df.shape"
      ],
      "execution_count": null,
      "outputs": [
        {
          "output_type": "execute_result",
          "data": {
            "text/plain": [
              "(3000, 1388)"
            ]
          },
          "metadata": {
            "tags": []
          },
          "execution_count": 61
        }
      ]
    },
    {
      "cell_type": "code",
      "metadata": {
        "id": "PISrIrJ6u2ZY"
      },
      "source": [
        "# Convert dataframe to numpy array.\n",
        "X = final_df.drop(['comp_id', 'views'], axis=1).to_numpy()\n",
        "y = final_df.loc[:, 'views'].to_numpy()"
      ],
      "execution_count": null,
      "outputs": []
    },
    {
      "cell_type": "code",
      "metadata": {
        "scrolled": true,
        "id": "vOxIfIAKu2ZY",
        "colab": {
          "base_uri": "https://localhost:8080/"
        },
        "outputId": "629f7cbe-eb76-487a-cb39-bd8449563956"
      },
      "source": [
        "# Train-Test Split\n",
        "X_train, X_test, y_train, y_test = train_test_split(X, y, test_size = 0.3, random_state = 121)\n",
        "print('Training set shape ', X_train.shape)\n",
        "print('Test set shape ', X_test.shape)"
      ],
      "execution_count": null,
      "outputs": [
        {
          "output_type": "stream",
          "text": [
            "Training set shape  (2100, 1386)\n",
            "Test set shape  (900, 1386)\n"
          ],
          "name": "stdout"
        }
      ]
    },
    {
      "cell_type": "code",
      "metadata": {
        "scrolled": true,
        "id": "dMGsJoCFu2ZY",
        "colab": {
          "base_uri": "https://localhost:8080/",
          "height": 224
        },
        "outputId": "d31117fe-ef7f-4013-8eff-ffe8c326c888"
      },
      "source": [
        "# Test set\n",
        "# public metadata\n",
        "# p_ad = pd.get_dummies(meta_test.ad_blocked, prefix ='ad') --- ad column in public set only has 1 value.\n",
        "p_embed = pd.get_dummies(meta_test.embed, prefix ='embed')\n",
        "p_partner = pd.get_dummies(meta_test.partner, prefix ='partner')\n",
        "p_partner_active = pd.get_dummies(meta_test.partner_active, prefix ='partner_a')\n",
        "\n",
        "#### JORGE\n",
        "p_language = pd.get_dummies(meta_test['language'], prefix='language')\n",
        "p_language['language_6'] = 0\n",
        "p_weekday = pd.get_dummies(meta_test['dayofweek'], prefix='day')\n",
        "p_weekday['day_3'] = 0\n",
        "p_weekday['day_4'] = 0\n",
        "p_weekday['day_5'] = 0\n",
        "\n",
        "seconds_in_day = 24*60*60\n",
        "\n",
        "p_sin_hour = np.sin(2*np.pi*meta_test['hour']/24.0)\n",
        "p_sin_hour.name = 'sin_hour'\n",
        "p_cos_hour = np.cos(2*np.pi*meta_test['hour']/24.0)\n",
        "p_cos_hour.name = 'cos_hour'\n",
        "########\n",
        "\n",
        "# Join all dataframes.\n",
        "p_meta_final_df = pd.concat([meta_test[['comp_id', 'ratio', 'language', 'n_likes', 'duration']].reset_index(drop=True),\n",
        "                             p_embed, p_partner, p_partner_active, p_language, p_weekday, p_sin_hour, p_cos_hour], axis=1)\n",
        "p_meta_final_df.head()"
      ],
      "execution_count": null,
      "outputs": [
        {
          "output_type": "execute_result",
          "data": {
            "text/html": [
              "<div>\n",
              "<style scoped>\n",
              "    .dataframe tbody tr th:only-of-type {\n",
              "        vertical-align: middle;\n",
              "    }\n",
              "\n",
              "    .dataframe tbody tr th {\n",
              "        vertical-align: top;\n",
              "    }\n",
              "\n",
              "    .dataframe thead th {\n",
              "        text-align: right;\n",
              "    }\n",
              "</style>\n",
              "<table border=\"1\" class=\"dataframe\">\n",
              "  <thead>\n",
              "    <tr style=\"text-align: right;\">\n",
              "      <th></th>\n",
              "      <th>comp_id</th>\n",
              "      <th>ratio</th>\n",
              "      <th>language</th>\n",
              "      <th>n_likes</th>\n",
              "      <th>duration</th>\n",
              "      <th>embed_False</th>\n",
              "      <th>embed_True</th>\n",
              "      <th>partner_False</th>\n",
              "      <th>partner_True</th>\n",
              "      <th>partner_a_False</th>\n",
              "      <th>partner_a_True</th>\n",
              "      <th>language_1</th>\n",
              "      <th>language_2</th>\n",
              "      <th>language_3</th>\n",
              "      <th>language_4</th>\n",
              "      <th>language_5</th>\n",
              "      <th>language_7</th>\n",
              "      <th>language_8</th>\n",
              "      <th>language_9</th>\n",
              "      <th>language_10</th>\n",
              "      <th>language_6</th>\n",
              "      <th>day_1</th>\n",
              "      <th>day_2</th>\n",
              "      <th>day_6</th>\n",
              "      <th>day_7</th>\n",
              "      <th>day_3</th>\n",
              "      <th>day_4</th>\n",
              "      <th>day_5</th>\n",
              "      <th>sin_hour</th>\n",
              "      <th>cos_hour</th>\n",
              "    </tr>\n",
              "  </thead>\n",
              "  <tbody>\n",
              "    <tr>\n",
              "      <th>0</th>\n",
              "      <td>3001</td>\n",
              "      <td>1.33333</td>\n",
              "      <td>2</td>\n",
              "      <td>0</td>\n",
              "      <td>1675</td>\n",
              "      <td>0</td>\n",
              "      <td>1</td>\n",
              "      <td>1</td>\n",
              "      <td>0</td>\n",
              "      <td>1</td>\n",
              "      <td>0</td>\n",
              "      <td>0</td>\n",
              "      <td>1</td>\n",
              "      <td>0</td>\n",
              "      <td>0</td>\n",
              "      <td>0</td>\n",
              "      <td>0</td>\n",
              "      <td>0</td>\n",
              "      <td>0</td>\n",
              "      <td>0</td>\n",
              "      <td>0</td>\n",
              "      <td>0</td>\n",
              "      <td>1</td>\n",
              "      <td>0</td>\n",
              "      <td>0</td>\n",
              "      <td>0</td>\n",
              "      <td>0</td>\n",
              "      <td>0</td>\n",
              "      <td>0.707107</td>\n",
              "      <td>0.707107</td>\n",
              "    </tr>\n",
              "    <tr>\n",
              "      <th>1</th>\n",
              "      <td>3002</td>\n",
              "      <td>1.33333</td>\n",
              "      <td>2</td>\n",
              "      <td>0</td>\n",
              "      <td>1479</td>\n",
              "      <td>0</td>\n",
              "      <td>1</td>\n",
              "      <td>1</td>\n",
              "      <td>0</td>\n",
              "      <td>1</td>\n",
              "      <td>0</td>\n",
              "      <td>0</td>\n",
              "      <td>1</td>\n",
              "      <td>0</td>\n",
              "      <td>0</td>\n",
              "      <td>0</td>\n",
              "      <td>0</td>\n",
              "      <td>0</td>\n",
              "      <td>0</td>\n",
              "      <td>0</td>\n",
              "      <td>0</td>\n",
              "      <td>0</td>\n",
              "      <td>1</td>\n",
              "      <td>0</td>\n",
              "      <td>0</td>\n",
              "      <td>0</td>\n",
              "      <td>0</td>\n",
              "      <td>0</td>\n",
              "      <td>0.707107</td>\n",
              "      <td>0.707107</td>\n",
              "    </tr>\n",
              "    <tr>\n",
              "      <th>2</th>\n",
              "      <td>3003</td>\n",
              "      <td>1.33333</td>\n",
              "      <td>2</td>\n",
              "      <td>0</td>\n",
              "      <td>1505</td>\n",
              "      <td>0</td>\n",
              "      <td>1</td>\n",
              "      <td>1</td>\n",
              "      <td>0</td>\n",
              "      <td>1</td>\n",
              "      <td>0</td>\n",
              "      <td>0</td>\n",
              "      <td>1</td>\n",
              "      <td>0</td>\n",
              "      <td>0</td>\n",
              "      <td>0</td>\n",
              "      <td>0</td>\n",
              "      <td>0</td>\n",
              "      <td>0</td>\n",
              "      <td>0</td>\n",
              "      <td>0</td>\n",
              "      <td>0</td>\n",
              "      <td>1</td>\n",
              "      <td>0</td>\n",
              "      <td>0</td>\n",
              "      <td>0</td>\n",
              "      <td>0</td>\n",
              "      <td>0</td>\n",
              "      <td>0.707107</td>\n",
              "      <td>0.707107</td>\n",
              "    </tr>\n",
              "    <tr>\n",
              "      <th>3</th>\n",
              "      <td>3004</td>\n",
              "      <td>1.77778</td>\n",
              "      <td>2</td>\n",
              "      <td>1</td>\n",
              "      <td>50</td>\n",
              "      <td>0</td>\n",
              "      <td>1</td>\n",
              "      <td>0</td>\n",
              "      <td>1</td>\n",
              "      <td>0</td>\n",
              "      <td>1</td>\n",
              "      <td>0</td>\n",
              "      <td>1</td>\n",
              "      <td>0</td>\n",
              "      <td>0</td>\n",
              "      <td>0</td>\n",
              "      <td>0</td>\n",
              "      <td>0</td>\n",
              "      <td>0</td>\n",
              "      <td>0</td>\n",
              "      <td>0</td>\n",
              "      <td>0</td>\n",
              "      <td>1</td>\n",
              "      <td>0</td>\n",
              "      <td>0</td>\n",
              "      <td>0</td>\n",
              "      <td>0</td>\n",
              "      <td>0</td>\n",
              "      <td>0.707107</td>\n",
              "      <td>0.707107</td>\n",
              "    </tr>\n",
              "    <tr>\n",
              "      <th>4</th>\n",
              "      <td>3005</td>\n",
              "      <td>1.33333</td>\n",
              "      <td>2</td>\n",
              "      <td>0</td>\n",
              "      <td>1543</td>\n",
              "      <td>0</td>\n",
              "      <td>1</td>\n",
              "      <td>1</td>\n",
              "      <td>0</td>\n",
              "      <td>1</td>\n",
              "      <td>0</td>\n",
              "      <td>0</td>\n",
              "      <td>1</td>\n",
              "      <td>0</td>\n",
              "      <td>0</td>\n",
              "      <td>0</td>\n",
              "      <td>0</td>\n",
              "      <td>0</td>\n",
              "      <td>0</td>\n",
              "      <td>0</td>\n",
              "      <td>0</td>\n",
              "      <td>0</td>\n",
              "      <td>1</td>\n",
              "      <td>0</td>\n",
              "      <td>0</td>\n",
              "      <td>0</td>\n",
              "      <td>0</td>\n",
              "      <td>0</td>\n",
              "      <td>0.707107</td>\n",
              "      <td>0.707107</td>\n",
              "    </tr>\n",
              "  </tbody>\n",
              "</table>\n",
              "</div>"
            ],
            "text/plain": [
              "   comp_id    ratio  language  n_likes  ...  day_4  day_5  sin_hour  cos_hour\n",
              "0     3001  1.33333         2        0  ...      0      0  0.707107  0.707107\n",
              "1     3002  1.33333         2        0  ...      0      0  0.707107  0.707107\n",
              "2     3003  1.33333         2        0  ...      0      0  0.707107  0.707107\n",
              "3     3004  1.77778         2        1  ...      0      0  0.707107  0.707107\n",
              "4     3005  1.33333         2        0  ...      0      0  0.707107  0.707107\n",
              "\n",
              "[5 rows x 30 columns]"
            ]
          },
          "metadata": {
            "tags": []
          },
          "execution_count": 64
        }
      ]
    },
    {
      "cell_type": "code",
      "metadata": {
        "id": "ktiRP17Mu2ZZ"
      },
      "source": [
        "# Reconstruct the test image dataframe with the index information used for the training set.\n",
        "# image_index_df = pd.DataFrame(x[x.columns[(sel_index)]])\n",
        "p_image_final_df = pd.concat([image_test[['comp_id']], image_index_df], axis=1)"
      ],
      "execution_count": null,
      "outputs": []
    },
    {
      "cell_type": "code",
      "metadata": {
        "id": "JLcTr0Atu2ZZ",
        "colab": {
          "base_uri": "https://localhost:8080/"
        },
        "outputId": "04782b17-e4e4-4a53-f13d-e480f305dab8"
      },
      "source": [
        "# Merge all test set tables.\n",
        "p_final_df = pd.merge(pd.merge(p_meta_final_df, p_image_final_df, on = 'comp_id'), \n",
        "                    pd.merge(desc_test, title_test, on = 'comp_id'), on = 'comp_id')\n",
        "p_final_df.shape"
      ],
      "execution_count": null,
      "outputs": [
        {
          "output_type": "execute_result",
          "data": {
            "text/plain": [
              "(986, 1388)"
            ]
          },
          "metadata": {
            "tags": []
          },
          "execution_count": 66
        }
      ]
    },
    {
      "cell_type": "markdown",
      "metadata": {
        "id": "k4gzShAqu2ZZ"
      },
      "source": [
        "### XGBoost"
      ]
    },
    {
      "cell_type": "code",
      "metadata": {
        "id": "xzpvsEIou2ZZ",
        "colab": {
          "base_uri": "https://localhost:8080/"
        },
        "outputId": "3ed814e6-3c2f-4b7c-c004-6a2d3a364080"
      },
      "source": [
        "### XGBoost ###\n",
        "# Create Xgboost classifier.\n",
        "# Create labels for both training and testing and convert dataframes into DMatrix.\n",
        "# Convert dataframe to numpy array.\n",
        "X = final_df.drop(['comp_id', 'views'], axis=1)\n",
        "y = final_df.loc[:, 'views']\n",
        "\n",
        "# Train-Test Split\n",
        "X_train, X_test, y_train, y_test = train_test_split(X, y, test_size = 0.25, random_state = 101)\n",
        "print('Training set shape ', X_train.shape)\n",
        "print('Test set shape ', X_test.shape)"
      ],
      "execution_count": null,
      "outputs": [
        {
          "output_type": "stream",
          "text": [
            "Training set shape  (2250, 1386)\n",
            "Test set shape  (750, 1386)\n"
          ],
          "name": "stdout"
        }
      ]
    },
    {
      "cell_type": "code",
      "metadata": {
        "id": "-V4gWs3qu2Za"
      },
      "source": [
        "trlabel = y_train\n",
        "telabel = y_test\n",
        "\n",
        "dtrain = xgb.DMatrix(X_train, label=trlabel)\n",
        "dtest  = xgb.DMatrix(X_test, label=telabel)"
      ],
      "execution_count": null,
      "outputs": []
    },
    {
      "cell_type": "code",
      "metadata": {
        "id": "pc3UusNSu2Za"
      },
      "source": [
        "# Set parameters.\n",
        "param = {'max_depth': 7, \n",
        "         'eta': 0.2,\n",
        "         'objective': 'reg:squarederror',\n",
        "         'nthread': 5,\n",
        "         'eval_metric': 'rmse'\n",
        "        }\n",
        "\n",
        "evallist = [(dtest, 'eval'), (dtrain, 'train')]"
      ],
      "execution_count": null,
      "outputs": []
    },
    {
      "cell_type": "code",
      "metadata": {
        "scrolled": true,
        "id": "Cq-b4G40u2Za",
        "colab": {
          "base_uri": "https://localhost:8080/"
        },
        "outputId": "7380e5a0-fce3-4d7e-f450-33bd09d7a337"
      },
      "source": [
        "# Train the model.\n",
        "num_round = 70\n",
        "bst = xgb.train(param, dtrain, num_round, evallist)"
      ],
      "execution_count": null,
      "outputs": [
        {
          "output_type": "stream",
          "text": [
            "[0]\teval-rmse:1246.65\ttrain-rmse:1194.55\n",
            "[1]\teval-rmse:1205.62\ttrain-rmse:1090.53\n",
            "[2]\teval-rmse:1179.74\ttrain-rmse:995.81\n",
            "[3]\teval-rmse:1162.69\ttrain-rmse:929.312\n",
            "[4]\teval-rmse:1149.05\ttrain-rmse:846.666\n",
            "[5]\teval-rmse:1140.69\ttrain-rmse:783.953\n",
            "[6]\teval-rmse:1130.96\ttrain-rmse:748.987\n",
            "[7]\teval-rmse:1124.33\ttrain-rmse:704.769\n",
            "[8]\teval-rmse:1110.91\ttrain-rmse:649.108\n",
            "[9]\teval-rmse:1110.11\ttrain-rmse:619.634\n",
            "[10]\teval-rmse:1106.81\ttrain-rmse:591.443\n",
            "[11]\teval-rmse:1107.56\ttrain-rmse:578.922\n",
            "[12]\teval-rmse:1109.54\ttrain-rmse:558.348\n",
            "[13]\teval-rmse:1112.39\ttrain-rmse:543.411\n",
            "[14]\teval-rmse:1107.89\ttrain-rmse:513.365\n",
            "[15]\teval-rmse:1108.3\ttrain-rmse:491.456\n",
            "[16]\teval-rmse:1111.45\ttrain-rmse:467.432\n",
            "[17]\teval-rmse:1119.49\ttrain-rmse:444.935\n",
            "[18]\teval-rmse:1118.99\ttrain-rmse:427.441\n",
            "[19]\teval-rmse:1120.57\ttrain-rmse:402.541\n",
            "[20]\teval-rmse:1123.23\ttrain-rmse:385.132\n",
            "[21]\teval-rmse:1123.21\ttrain-rmse:363.861\n",
            "[22]\teval-rmse:1125.28\ttrain-rmse:344.283\n",
            "[23]\teval-rmse:1124.28\ttrain-rmse:316.841\n",
            "[24]\teval-rmse:1125.94\ttrain-rmse:301.111\n",
            "[25]\teval-rmse:1126.25\ttrain-rmse:285.117\n",
            "[26]\teval-rmse:1125.66\ttrain-rmse:273.601\n",
            "[27]\teval-rmse:1125.55\ttrain-rmse:259.872\n",
            "[28]\teval-rmse:1127.73\ttrain-rmse:246.395\n",
            "[29]\teval-rmse:1126.86\ttrain-rmse:241.432\n",
            "[30]\teval-rmse:1126.36\ttrain-rmse:223.991\n",
            "[31]\teval-rmse:1126.26\ttrain-rmse:217.393\n",
            "[32]\teval-rmse:1125.18\ttrain-rmse:210.809\n",
            "[33]\teval-rmse:1128.01\ttrain-rmse:198.663\n",
            "[34]\teval-rmse:1129.66\ttrain-rmse:193.444\n",
            "[35]\teval-rmse:1131.4\ttrain-rmse:185.997\n",
            "[36]\teval-rmse:1131.42\ttrain-rmse:173.978\n",
            "[37]\teval-rmse:1131.38\ttrain-rmse:164.559\n",
            "[38]\teval-rmse:1132.76\ttrain-rmse:155.524\n",
            "[39]\teval-rmse:1133.66\ttrain-rmse:146.966\n",
            "[40]\teval-rmse:1134.02\ttrain-rmse:140.91\n",
            "[41]\teval-rmse:1133.83\ttrain-rmse:131.661\n",
            "[42]\teval-rmse:1133.81\ttrain-rmse:125.84\n",
            "[43]\teval-rmse:1133.02\ttrain-rmse:117.546\n",
            "[44]\teval-rmse:1132.68\ttrain-rmse:112.977\n",
            "[45]\teval-rmse:1133.36\ttrain-rmse:107.711\n",
            "[46]\teval-rmse:1134\ttrain-rmse:103.585\n",
            "[47]\teval-rmse:1134.53\ttrain-rmse:97.9322\n",
            "[48]\teval-rmse:1133.65\ttrain-rmse:94.2118\n",
            "[49]\teval-rmse:1133.57\ttrain-rmse:91.4838\n",
            "[50]\teval-rmse:1133.35\ttrain-rmse:88.0427\n",
            "[51]\teval-rmse:1133.85\ttrain-rmse:81.7719\n",
            "[52]\teval-rmse:1133.9\ttrain-rmse:75.5764\n",
            "[53]\teval-rmse:1134.42\ttrain-rmse:69.971\n",
            "[54]\teval-rmse:1134.32\ttrain-rmse:65.6405\n",
            "[55]\teval-rmse:1133.79\ttrain-rmse:62.535\n",
            "[56]\teval-rmse:1133.64\ttrain-rmse:58.2023\n",
            "[57]\teval-rmse:1133.62\ttrain-rmse:55.5368\n",
            "[58]\teval-rmse:1133.79\ttrain-rmse:52.7822\n",
            "[59]\teval-rmse:1133.61\ttrain-rmse:49.3932\n",
            "[60]\teval-rmse:1133.78\ttrain-rmse:46.5255\n",
            "[61]\teval-rmse:1133.66\ttrain-rmse:44.6667\n",
            "[62]\teval-rmse:1133.79\ttrain-rmse:41.9807\n",
            "[63]\teval-rmse:1134.05\ttrain-rmse:40.4804\n",
            "[64]\teval-rmse:1133.83\ttrain-rmse:38.3741\n",
            "[65]\teval-rmse:1133.79\ttrain-rmse:35.5059\n",
            "[66]\teval-rmse:1133.58\ttrain-rmse:34.104\n",
            "[67]\teval-rmse:1133.72\ttrain-rmse:31.6585\n",
            "[68]\teval-rmse:1133.74\ttrain-rmse:29.6735\n",
            "[69]\teval-rmse:1133.9\ttrain-rmse:28.104\n"
          ],
          "name": "stdout"
        }
      ]
    },
    {
      "cell_type": "code",
      "metadata": {
        "id": "pMhJIOpmu2Za"
      },
      "source": [
        "# Make prediction.\n",
        "ypred = bst.predict(dtest).round()"
      ],
      "execution_count": null,
      "outputs": []
    },
    {
      "cell_type": "code",
      "metadata": {
        "id": "XPCitHYau2Za",
        "colab": {
          "base_uri": "https://localhost:8080/"
        },
        "outputId": "9ec7fe59-bd3d-487c-8688-8ada62f7915e"
      },
      "source": [
        "# Compute RMSE on test set.\n",
        "mse_xgboost = mean_squared_error(y_test, ypred)\n",
        "rmse_xgboost = math.sqrt(mse_xgboost)\n",
        "\n",
        "print('RMSE with XGBoost', rmse_xgboost)"
      ],
      "execution_count": null,
      "outputs": [
        {
          "output_type": "stream",
          "text": [
            "RMSE with XGBoost 1133.909102177066\n"
          ],
          "name": "stdout"
        }
      ]
    },
    {
      "cell_type": "code",
      "metadata": {
        "id": "qVXqWYq2u2Za"
      },
      "source": [
        "# Make preictions on public data. - XGBoost\n",
        "d_public = xgb.DMatrix(p_final_df.loc[:, p_final_df.columns != 'comp_id'][bst.feature_names])\n",
        "solution = bst.predict(d_public).round()\n",
        "solution_df = pd.concat([p_final_df[['comp_id']], pd.DataFrame(solution, columns = ['views'])], axis=1)\n",
        "solution_df.to_csv('xgb_3.csv', index=False)"
      ],
      "execution_count": null,
      "outputs": []
    },
    {
      "cell_type": "code",
      "metadata": {
        "id": "MO9rRvOAu2Za",
        "colab": {
          "base_uri": "https://localhost:8080/"
        },
        "outputId": "71d8f0b4-7d38-491d-d38e-34af1c65c8f1"
      },
      "source": [
        "np.exp(-rmse_xgboost/max(y_test)).round(8)"
      ],
      "execution_count": null,
      "outputs": [
        {
          "output_type": "execute_result",
          "data": {
            "text/plain": [
              "0.8848065"
            ]
          },
          "metadata": {
            "tags": []
          },
          "execution_count": 87
        }
      ]
    },
    {
      "cell_type": "code",
      "metadata": {
        "colab": {
          "base_uri": "https://localhost:8080/",
          "height": 204
        },
        "id": "_vIkpztxmRWQ",
        "outputId": "afc4a0d5-ac23-4959-f89f-2dbd36f1f48f"
      },
      "source": [
        "solution = pd.read_csv('xgb_3.csv')\n",
        "solution.head()"
      ],
      "execution_count": null,
      "outputs": [
        {
          "output_type": "execute_result",
          "data": {
            "text/html": [
              "<div>\n",
              "<style scoped>\n",
              "    .dataframe tbody tr th:only-of-type {\n",
              "        vertical-align: middle;\n",
              "    }\n",
              "\n",
              "    .dataframe tbody tr th {\n",
              "        vertical-align: top;\n",
              "    }\n",
              "\n",
              "    .dataframe thead th {\n",
              "        text-align: right;\n",
              "    }\n",
              "</style>\n",
              "<table border=\"1\" class=\"dataframe\">\n",
              "  <thead>\n",
              "    <tr style=\"text-align: right;\">\n",
              "      <th></th>\n",
              "      <th>comp_id</th>\n",
              "      <th>views</th>\n",
              "    </tr>\n",
              "  </thead>\n",
              "  <tbody>\n",
              "    <tr>\n",
              "      <th>0</th>\n",
              "      <td>3001</td>\n",
              "      <td>266.0</td>\n",
              "    </tr>\n",
              "    <tr>\n",
              "      <th>1</th>\n",
              "      <td>3002</td>\n",
              "      <td>1108.0</td>\n",
              "    </tr>\n",
              "    <tr>\n",
              "      <th>2</th>\n",
              "      <td>3003</td>\n",
              "      <td>267.0</td>\n",
              "    </tr>\n",
              "    <tr>\n",
              "      <th>3</th>\n",
              "      <td>3004</td>\n",
              "      <td>3183.0</td>\n",
              "    </tr>\n",
              "    <tr>\n",
              "      <th>4</th>\n",
              "      <td>3005</td>\n",
              "      <td>294.0</td>\n",
              "    </tr>\n",
              "  </tbody>\n",
              "</table>\n",
              "</div>"
            ],
            "text/plain": [
              "   comp_id   views\n",
              "0     3001   266.0\n",
              "1     3002  1108.0\n",
              "2     3003   267.0\n",
              "3     3004  3183.0\n",
              "4     3005   294.0"
            ]
          },
          "metadata": {
            "tags": []
          },
          "execution_count": 96
        }
      ]
    },
    {
      "cell_type": "code",
      "metadata": {
        "id": "cLtk2JtqpiMw"
      },
      "source": [
        ""
      ],
      "execution_count": null,
      "outputs": []
    }
  ]
}