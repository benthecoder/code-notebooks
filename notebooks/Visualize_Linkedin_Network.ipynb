{
  "nbformat": 4,
  "nbformat_minor": 0,
  "metadata": {
    "colab": {
      "name": "Visualize Linkedin Network.ipynb",
      "provenance": [],
      "collapsed_sections": []
    },
    "kernelspec": {
      "name": "python3",
      "display_name": "Python 3"
    },
    "language_info": {
      "name": "python"
    }
  },
  "cells": [
    {
      "cell_type": "code",
      "metadata": {
        "id": "gN3Fjp6KObV5",
        "colab": {
          "base_uri": "https://localhost:8080/"
        },
        "outputId": "bfb5d65e-0a8b-4eb2-e6d3-f215bce64d31"
      },
      "source": [
        "!pip install pyjanitor pyvis --quiet"
      ],
      "execution_count": null,
      "outputs": [
        {
          "output_type": "stream",
          "name": "stdout",
          "text": [
            "\u001b[?25l\r\u001b[K     |███                             | 10 kB 22.8 MB/s eta 0:00:01\r\u001b[K     |██████                          | 20 kB 29.1 MB/s eta 0:00:01\r\u001b[K     |█████████▏                      | 30 kB 15.1 MB/s eta 0:00:01\r\u001b[K     |████████████▏                   | 40 kB 10.7 MB/s eta 0:00:01\r\u001b[K     |███████████████▏                | 51 kB 5.6 MB/s eta 0:00:01\r\u001b[K     |██████████████████▎             | 61 kB 6.2 MB/s eta 0:00:01\r\u001b[K     |█████████████████████▎          | 71 kB 5.9 MB/s eta 0:00:01\r\u001b[K     |████████████████████████▍       | 81 kB 6.6 MB/s eta 0:00:01\r\u001b[K     |███████████████████████████▍    | 92 kB 5.0 MB/s eta 0:00:01\r\u001b[K     |██████████████████████████████▍ | 102 kB 5.4 MB/s eta 0:00:01\r\u001b[K     |████████████████████████████████| 107 kB 5.4 MB/s \n",
            "\u001b[?25h"
          ]
        }
      ]
    },
    {
      "cell_type": "code",
      "metadata": {
        "id": "lH5IecBqDOph"
      },
      "source": [
        "import pandas as pd\n",
        "import janitor\n",
        "import datetime\n",
        "\n",
        "from IPython.core.display import display, HTML\n",
        "from pyvis import network as net\n",
        "import networkx as nx"
      ],
      "execution_count": null,
      "outputs": []
    },
    {
      "cell_type": "code",
      "metadata": {
        "id": "33lkTwstLzko"
      },
      "source": [
        "df_ori = pd.read_csv(\"/content/drive/MyDrive/linkedin_network/Connections.csv\", skiprows=2)"
      ],
      "execution_count": null,
      "outputs": []
    },
    {
      "cell_type": "code",
      "metadata": {
        "colab": {
          "base_uri": "https://localhost:8080/"
        },
        "id": "SpND_DCtMoA1",
        "outputId": "4ec85c58-8c9a-4c08-a9df-c15e88532006"
      },
      "source": [
        "df_ori.info()"
      ],
      "execution_count": null,
      "outputs": [
        {
          "output_type": "stream",
          "name": "stdout",
          "text": [
            "<class 'pandas.core.frame.DataFrame'>\n",
            "RangeIndex: 2757 entries, 0 to 2756\n",
            "Data columns (total 6 columns):\n",
            " #   Column         Non-Null Count  Dtype \n",
            "---  ------         --------------  ----- \n",
            " 0   First Name     2747 non-null   object\n",
            " 1   Last Name      2747 non-null   object\n",
            " 2   Email Address  71 non-null     object\n",
            " 3   Company        2668 non-null   object\n",
            " 4   Position       2668 non-null   object\n",
            " 5   Connected On   2757 non-null   object\n",
            "dtypes: object(6)\n",
            "memory usage: 129.4+ KB\n"
          ]
        }
      ]
    },
    {
      "cell_type": "markdown",
      "metadata": {
        "id": "voEgd2d3Trfv"
      },
      "source": [
        "## Data Cleaning"
      ]
    },
    {
      "cell_type": "code",
      "metadata": {
        "colab": {
          "base_uri": "https://localhost:8080/",
          "height": 204
        },
        "id": "MVkni_nRMv-R",
        "outputId": "36ffea4a-6932-4d20-d1d0-1691c9ee7080"
      },
      "source": [
        "df = (\n",
        "    df_ori\n",
        "    .clean_names() # remove spacing and capitalization\n",
        "    .drop(columns=['first_name', 'last_name', 'email_address']) # drop for privacy\n",
        "    .dropna(subset=['company', 'position']) # drop missing values in company and position\n",
        "    .to_datetime('connected_on', format='%d %b %Y')\n",
        "  )\n",
        "df.head()"
      ],
      "execution_count": null,
      "outputs": [
        {
          "output_type": "execute_result",
          "data": {
            "text/html": [
              "<div>\n",
              "<style scoped>\n",
              "    .dataframe tbody tr th:only-of-type {\n",
              "        vertical-align: middle;\n",
              "    }\n",
              "\n",
              "    .dataframe tbody tr th {\n",
              "        vertical-align: top;\n",
              "    }\n",
              "\n",
              "    .dataframe thead th {\n",
              "        text-align: right;\n",
              "    }\n",
              "</style>\n",
              "<table border=\"1\" class=\"dataframe\">\n",
              "  <thead>\n",
              "    <tr style=\"text-align: right;\">\n",
              "      <th></th>\n",
              "      <th>company</th>\n",
              "      <th>position</th>\n",
              "      <th>connected_on</th>\n",
              "    </tr>\n",
              "  </thead>\n",
              "  <tbody>\n",
              "    <tr>\n",
              "      <th>0</th>\n",
              "      <td>ClosedLoop.ai</td>\n",
              "      <td>Data Scientist</td>\n",
              "      <td>2021-10-25</td>\n",
              "    </tr>\n",
              "    <tr>\n",
              "      <th>1</th>\n",
              "      <td>Freelance</td>\n",
              "      <td>IT Support</td>\n",
              "      <td>2021-10-19</td>\n",
              "    </tr>\n",
              "    <tr>\n",
              "      <th>2</th>\n",
              "      <td>Erupture Angel Network</td>\n",
              "      <td>Data Partner</td>\n",
              "      <td>2021-10-18</td>\n",
              "    </tr>\n",
              "    <tr>\n",
              "      <th>3</th>\n",
              "      <td>Digital Marketing Networks Sdn Bhd</td>\n",
              "      <td>Digital Marketing Trainer &amp; Consultant</td>\n",
              "      <td>2021-10-17</td>\n",
              "    </tr>\n",
              "    <tr>\n",
              "      <th>4</th>\n",
              "      <td>SECURITI.ai</td>\n",
              "      <td>Marketing Team Lead</td>\n",
              "      <td>2021-10-16</td>\n",
              "    </tr>\n",
              "  </tbody>\n",
              "</table>\n",
              "</div>"
            ],
            "text/plain": [
              "                              company  ... connected_on\n",
              "0                       ClosedLoop.ai  ...   2021-10-25\n",
              "1                           Freelance  ...   2021-10-19\n",
              "2              Erupture Angel Network  ...   2021-10-18\n",
              "3  Digital Marketing Networks Sdn Bhd  ...   2021-10-17\n",
              "4                         SECURITI.ai  ...   2021-10-16\n",
              "\n",
              "[5 rows x 3 columns]"
            ]
          },
          "metadata": {},
          "execution_count": 81
        }
      ]
    },
    {
      "cell_type": "markdown",
      "metadata": {
        "id": "CMQaXatyTtPt"
      },
      "source": [
        "## Simple EDA"
      ]
    },
    {
      "cell_type": "code",
      "metadata": {
        "colab": {
          "base_uri": "https://localhost:8080/",
          "height": 265
        },
        "id": "PlU3kryoOz45",
        "outputId": "dceb3c5e-6559-4feb-8ec2-79f0a391c2d1"
      },
      "source": [
        "df['company'].value_counts().head(10).plot(kind=\"barh\").invert_yaxis();"
      ],
      "execution_count": null,
      "outputs": [
        {
          "output_type": "display_data",
          "data": {
            "image/png": "[encoded data removed]",
            "text/plain": [
              "<Figure size 432x288 with 1 Axes>"
            ]
          },
          "metadata": {
            "needs_background": "light"
          }
        }
      ]
    },
    {
      "cell_type": "code",
      "metadata": {
        "colab": {
          "base_uri": "https://localhost:8080/",
          "height": 265
        },
        "id": "Fx28C8GRTw9b",
        "outputId": "c5cf6593-967c-474a-d764-95a3b76be504"
      },
      "source": [
        "df['position'].value_counts().head(10).plot(kind=\"barh\").invert_yaxis();"
      ],
      "execution_count": null,
      "outputs": [
        {
          "output_type": "display_data",
          "data": {
            "image/png": "[encoded data removed]",
            "text/plain": [
              "<Figure size 432x288 with 1 Axes>"
            ]
          },
          "metadata": {
            "needs_background": "light"
          }
        }
      ]
    },
    {
      "cell_type": "code",
      "metadata": {
        "colab": {
          "base_uri": "https://localhost:8080/",
          "height": 287
        },
        "id": "VI8kbxToH93o",
        "outputId": "5b39e8f6-afb4-4e1b-ed67-4679a6aa30bb"
      },
      "source": [
        "df['connected_on'].hist(xrot=35, bins=15);"
      ],
      "execution_count": null,
      "outputs": [
        {
          "output_type": "display_data",
          "data": {
            "image/png": "[encoded data removed]",
            "text/plain": [
              "<Figure size 432x288 with 1 Axes>"
            ]
          },
          "metadata": {
            "needs_background": "light"
          }
        }
      ]
    },
    {
      "cell_type": "markdown",
      "metadata": {
        "id": "pn1BvxBLNg_7"
      },
      "source": [
        "### Remove freelance and self-employed titles"
      ]
    },
    {
      "cell_type": "code",
      "metadata": {
        "id": "PsbXoM2FNjvY"
      },
      "source": [
        "pattern = \"freelance|self-employed\"\n",
        "df = df[~df['company'].str.contains(pattern, case=False)]"
      ],
      "execution_count": null,
      "outputs": []
    },
    {
      "cell_type": "markdown",
      "metadata": {
        "id": "_WucGhMNmEHt"
      },
      "source": [
        "## Aggregate sum of connections for companies"
      ]
    },
    {
      "cell_type": "code",
      "metadata": {
        "colab": {
          "base_uri": "https://localhost:8080/",
          "height": 359
        },
        "id": "-6fXxpGW8xO8",
        "outputId": "580e7126-292b-450b-9c25-fa571cd9fd26"
      },
      "source": [
        "df_company = df['company'].value_counts().reset_index()\n",
        "df_company.columns = ['company', 'count']\n",
        "df_company = df_company.sort_values(by=\"count\", ascending=False)\n",
        "df_company.head(10)"
      ],
      "execution_count": null,
      "outputs": [
        {
          "output_type": "execute_result",
          "data": {
            "text/html": [
              "<div>\n",
              "<style scoped>\n",
              "    .dataframe tbody tr th:only-of-type {\n",
              "        vertical-align: middle;\n",
              "    }\n",
              "\n",
              "    .dataframe tbody tr th {\n",
              "        vertical-align: top;\n",
              "    }\n",
              "\n",
              "    .dataframe thead th {\n",
              "        text-align: right;\n",
              "    }\n",
              "</style>\n",
              "<table border=\"1\" class=\"dataframe\">\n",
              "  <thead>\n",
              "    <tr style=\"text-align: right;\">\n",
              "      <th></th>\n",
              "      <th>company</th>\n",
              "      <th>count</th>\n",
              "    </tr>\n",
              "  </thead>\n",
              "  <tbody>\n",
              "    <tr>\n",
              "      <th>0</th>\n",
              "      <td>Amazon</td>\n",
              "      <td>38</td>\n",
              "    </tr>\n",
              "    <tr>\n",
              "      <th>1</th>\n",
              "      <td>IBM</td>\n",
              "      <td>36</td>\n",
              "    </tr>\n",
              "    <tr>\n",
              "      <th>2</th>\n",
              "      <td>MoneyLion</td>\n",
              "      <td>28</td>\n",
              "    </tr>\n",
              "    <tr>\n",
              "      <th>3</th>\n",
              "      <td>Facebook</td>\n",
              "      <td>22</td>\n",
              "    </tr>\n",
              "    <tr>\n",
              "      <th>4</th>\n",
              "      <td>Google</td>\n",
              "      <td>20</td>\n",
              "    </tr>\n",
              "    <tr>\n",
              "      <th>5</th>\n",
              "      <td>PETRONAS</td>\n",
              "      <td>17</td>\n",
              "    </tr>\n",
              "    <tr>\n",
              "      <th>6</th>\n",
              "      <td>Grab</td>\n",
              "      <td>13</td>\n",
              "    </tr>\n",
              "    <tr>\n",
              "      <th>7</th>\n",
              "      <td>Microsoft</td>\n",
              "      <td>13</td>\n",
              "    </tr>\n",
              "    <tr>\n",
              "      <th>8</th>\n",
              "      <td>Accenture</td>\n",
              "      <td>12</td>\n",
              "    </tr>\n",
              "    <tr>\n",
              "      <th>9</th>\n",
              "      <td>Medium</td>\n",
              "      <td>12</td>\n",
              "    </tr>\n",
              "  </tbody>\n",
              "</table>\n",
              "</div>"
            ],
            "text/plain": [
              "     company  count\n",
              "0     Amazon     38\n",
              "1        IBM     36\n",
              "2  MoneyLion     28\n",
              "3   Facebook     22\n",
              "4     Google     20\n",
              "5   PETRONAS     17\n",
              "6       Grab     13\n",
              "7  Microsoft     13\n",
              "8  Accenture     12\n",
              "9     Medium     12"
            ]
          },
          "metadata": {},
          "execution_count": 86
        }
      ]
    },
    {
      "cell_type": "markdown",
      "metadata": {
        "id": "vqGvIq2smGwM"
      },
      "source": [
        "## Aggregate sum of connections for positions"
      ]
    },
    {
      "cell_type": "code",
      "metadata": {
        "colab": {
          "base_uri": "https://localhost:8080/",
          "height": 359
        },
        "id": "50py-HYK9rZF",
        "outputId": "b5b3dfc6-e546-458c-e3eb-bff527bf5fbf"
      },
      "source": [
        "df_position = df['position'].value_counts().reset_index()\n",
        "df_position.columns = ['position', 'count']\n",
        "df_position = df_position.sort_values(by=\"count\", ascending=False)\n",
        "df_position.head(10)"
      ],
      "execution_count": null,
      "outputs": [
        {
          "output_type": "execute_result",
          "data": {
            "text/html": [
              "<div>\n",
              "<style scoped>\n",
              "    .dataframe tbody tr th:only-of-type {\n",
              "        vertical-align: middle;\n",
              "    }\n",
              "\n",
              "    .dataframe tbody tr th {\n",
              "        vertical-align: top;\n",
              "    }\n",
              "\n",
              "    .dataframe thead th {\n",
              "        text-align: right;\n",
              "    }\n",
              "</style>\n",
              "<table border=\"1\" class=\"dataframe\">\n",
              "  <thead>\n",
              "    <tr style=\"text-align: right;\">\n",
              "      <th></th>\n",
              "      <th>position</th>\n",
              "      <th>count</th>\n",
              "    </tr>\n",
              "  </thead>\n",
              "  <tbody>\n",
              "    <tr>\n",
              "      <th>0</th>\n",
              "      <td>Data Scientist</td>\n",
              "      <td>293</td>\n",
              "    </tr>\n",
              "    <tr>\n",
              "      <th>1</th>\n",
              "      <td>Data Analyst</td>\n",
              "      <td>71</td>\n",
              "    </tr>\n",
              "    <tr>\n",
              "      <th>2</th>\n",
              "      <td>Senior Data Scientist</td>\n",
              "      <td>67</td>\n",
              "    </tr>\n",
              "    <tr>\n",
              "      <th>3</th>\n",
              "      <td>Data Engineer</td>\n",
              "      <td>55</td>\n",
              "    </tr>\n",
              "    <tr>\n",
              "      <th>4</th>\n",
              "      <td>Founder</td>\n",
              "      <td>49</td>\n",
              "    </tr>\n",
              "    <tr>\n",
              "      <th>5</th>\n",
              "      <td>Software Engineer</td>\n",
              "      <td>44</td>\n",
              "    </tr>\n",
              "    <tr>\n",
              "      <th>6</th>\n",
              "      <td>Machine Learning Engineer</td>\n",
              "      <td>41</td>\n",
              "    </tr>\n",
              "    <tr>\n",
              "      <th>7</th>\n",
              "      <td>Co-Founder</td>\n",
              "      <td>35</td>\n",
              "    </tr>\n",
              "    <tr>\n",
              "      <th>8</th>\n",
              "      <td>Lead Data Scientist</td>\n",
              "      <td>18</td>\n",
              "    </tr>\n",
              "    <tr>\n",
              "      <th>9</th>\n",
              "      <td>Research Assistant</td>\n",
              "      <td>16</td>\n",
              "    </tr>\n",
              "  </tbody>\n",
              "</table>\n",
              "</div>"
            ],
            "text/plain": [
              "                    position  count\n",
              "0             Data Scientist    293\n",
              "1               Data Analyst     71\n",
              "2      Senior Data Scientist     67\n",
              "3              Data Engineer     55\n",
              "4                    Founder     49\n",
              "5          Software Engineer     44\n",
              "6  Machine Learning Engineer     41\n",
              "7                 Co-Founder     35\n",
              "8        Lead Data Scientist     18\n",
              "9         Research Assistant     16"
            ]
          },
          "metadata": {},
          "execution_count": 87
        }
      ]
    },
    {
      "cell_type": "markdown",
      "metadata": {
        "id": "cEDZCSYQ_io0"
      },
      "source": [
        "## Creating the network"
      ]
    },
    {
      "cell_type": "markdown",
      "metadata": {
        "id": "HegQGiSyAOLz"
      },
      "source": [
        "### Example of simple network"
      ]
    },
    {
      "cell_type": "code",
      "metadata": {
        "colab": {
          "base_uri": "https://localhost:8080/",
          "height": 538
        },
        "id": "yobPAERdAJ0Y",
        "outputId": "59733514-30e1-4f03-9141-68ee728ea1e5"
      },
      "source": [
        "nt = net.Network(notebook=True)\n",
        "\n",
        "g = nx.Graph()\n",
        "g.add_node(0, label = \"root\") # intialize yourself as central node\n",
        "g.add_node(1, label = \"Company 1\", size=10, title=\"info1\")\n",
        "g.add_node(2, label = \"Company 2\", size=40, title=\"info2\")\n",
        "g.add_node(3, label = \"Company 3\", size=60, title=\"info3\")\n",
        "g.add_edge(0, 1)\n",
        "g.add_edge(0, 2)\n",
        "g.add_edge(0, 3)\n",
        "\n",
        "nt.from_nx(g)\n",
        "nt.show('nodes.html')\n",
        "display(HTML('nodes.html'))"
      ],
      "execution_count": null,
      "outputs": [
        {
          "output_type": "display_data",
          "data": {
            "text/html": [
              "<html>\n",
              "<head>\n",
              "<link rel=\"stylesheet\" href=\"https://cdnjs.cloudflare.com/ajax/libs/vis/4.16.1/vis.css\" type=\"text/css\" />\n",
              "<script type=\"text/javascript\" src=\"https://cdnjs.cloudflare.com/ajax/libs/vis/4.16.1/vis-network.min.js\"> </script>\n",
              "<center>\n",
              "<h1></h1>\n",
              "</center>\n",
              "\n",
              "<!-- <link rel=\"stylesheet\" href=\"../node_modules/vis/dist/vis.min.css\" type=\"text/css\" />\n",
              "<script type=\"text/javascript\" src=\"../node_modules/vis/dist/vis.js\"> </script>-->\n",
              "\n",
              "<style type=\"text/css\">\n",
              "\n",
              "        #mynetwork {\n",
              "            width: 500px;\n",
              "            height: 500px;\n",
              "            background-color: #ffffff;\n",
              "            border: 1px solid lightgray;\n",
              "            position: relative;\n",
              "            float: left;\n",
              "        }\n",
              "\n",
              "        \n",
              "\n",
              "        \n",
              "\n",
              "        \n",
              "</style>\n",
              "\n",
              "</head>\n",
              "\n",
              "<body>\n",
              "<div id = \"mynetwork\"></div>\n",
              "\n",
              "\n",
              "<script type=\"text/javascript\">\n",
              "\n",
              "    // initialize global variables.\n",
              "    var edges;\n",
              "    var nodes;\n",
              "    var network; \n",
              "    var container;\n",
              "    var options, data;\n",
              "\n",
              "    \n",
              "    // This method is responsible for drawing the graph, returns the drawn network\n",
              "    function drawGraph() {\n",
              "        var container = document.getElementById('mynetwork');\n",
              "        \n",
              "        \n",
              "\n",
              "        // parsing and collecting nodes and edges from the python\n",
              "        nodes = new vis.DataSet([{\"id\": 0, \"label\": \"root\", \"shape\": \"dot\", \"size\": 10}, {\"id\": 1, \"label\": \"Company 1\", \"shape\": \"dot\", \"size\": 10, \"title\": \"info1\"}, {\"id\": 2, \"label\": \"Company 2\", \"shape\": \"dot\", \"size\": 40, \"title\": \"info2\"}, {\"id\": 3, \"label\": \"Company 3\", \"shape\": \"dot\", \"size\": 60, \"title\": \"info3\"}]);\n",
              "        edges = new vis.DataSet([{\"from\": 0, \"to\": 1, \"weight\": 1}, {\"from\": 0, \"to\": 2, \"weight\": 1}, {\"from\": 0, \"to\": 3, \"weight\": 1}]);\n",
              "\n",
              "        // adding nodes and edges to the graph\n",
              "        data = {nodes: nodes, edges: edges};\n",
              "\n",
              "        var options = {\n",
              "    \"configure\": {\n",
              "        \"enabled\": false\n",
              "    },\n",
              "    \"edges\": {\n",
              "        \"color\": {\n",
              "            \"inherit\": true\n",
              "        },\n",
              "        \"smooth\": {\n",
              "            \"enabled\": false,\n",
              "            \"type\": \"continuous\"\n",
              "        }\n",
              "    },\n",
              "    \"interaction\": {\n",
              "        \"dragNodes\": true,\n",
              "        \"hideEdgesOnDrag\": false,\n",
              "        \"hideNodesOnDrag\": false\n",
              "    },\n",
              "    \"physics\": {\n",
              "        \"enabled\": true,\n",
              "        \"stabilization\": {\n",
              "            \"enabled\": true,\n",
              "            \"fit\": true,\n",
              "            \"iterations\": 1000,\n",
              "            \"onlyDynamicEdges\": false,\n",
              "            \"updateInterval\": 50\n",
              "        }\n",
              "    }\n",
              "};\n",
              "        \n",
              "        \n",
              "\n",
              "        \n",
              "\n",
              "        network = new vis.Network(container, data, options);\n",
              "\t \n",
              "        \n",
              "\n",
              "\n",
              "        \n",
              "\n",
              "        return network;\n",
              "\n",
              "    }\n",
              "\n",
              "    drawGraph();\n",
              "\n",
              "</script>\n",
              "</body>\n",
              "</html>"
            ],
            "text/plain": [
              "<IPython.core.display.HTML object>"
            ]
          },
          "metadata": {}
        }
      ]
    },
    {
      "cell_type": "code",
      "metadata": {
        "colab": {
          "base_uri": "https://localhost:8080/"
        },
        "id": "E4yoeKnnE1zA",
        "outputId": "7db4de25-7c7e-4609-ce3e-35f53f1812ad"
      },
      "source": [
        "print(f\"number of nodes: {g.number_of_nodes()}\")\n",
        "print(f\"number of edges: {g.number_of_edges()}\")"
      ],
      "execution_count": null,
      "outputs": [
        {
          "output_type": "stream",
          "name": "stdout",
          "text": [
            "number of nodes: 4\n",
            "number of edges: 3\n"
          ]
        }
      ]
    },
    {
      "cell_type": "code",
      "metadata": {
        "colab": {
          "base_uri": "https://localhost:8080/"
        },
        "id": "UH4nj-TlHDNG",
        "outputId": "9af20203-f7a0-4af5-b747-e549eba53cf1"
      },
      "source": [
        "for _, row in df_company.head(5).iterrows():\n",
        "  print(row['company'] + \"-\" + str(row['count']))"
      ],
      "execution_count": null,
      "outputs": [
        {
          "output_type": "stream",
          "name": "stdout",
          "text": [
            "Amazon-38\n",
            "IBM-36\n",
            "MoneyLion-28\n",
            "Facebook-22\n",
            "Google-20\n"
          ]
        }
      ]
    },
    {
      "cell_type": "code",
      "metadata": {
        "colab": {
          "base_uri": "https://localhost:8080/"
        },
        "id": "YgZU7rbSKvI2",
        "outputId": "7c19dd2c-b295-4194-fe61-d7eb9495df25"
      },
      "source": [
        "print(df_company.shape)\n",
        "df_company_reduced = df_company.loc[df_company['count']>=5]\n",
        "print(df_company_reduced.shape)"
      ],
      "execution_count": null,
      "outputs": [
        {
          "output_type": "stream",
          "name": "stdout",
          "text": [
            "(1956, 2)\n",
            "(45, 2)\n"
          ]
        }
      ]
    },
    {
      "cell_type": "code",
      "metadata": {
        "colab": {
          "base_uri": "https://localhost:8080/"
        },
        "id": "BE5s2LKQQ_rv",
        "outputId": "09b4fcde-1c28-40dc-e632-c7505dda7e35"
      },
      "source": [
        "print(df_position.shape)\n",
        "df_position_reduced = df_position.loc[df_position['count']>=5]\n",
        "print(df_position_reduced.shape)"
      ],
      "execution_count": null,
      "outputs": [
        {
          "output_type": "stream",
          "name": "stdout",
          "text": [
            "(1535, 2)\n",
            "(47, 2)\n"
          ]
        }
      ]
    },
    {
      "cell_type": "code",
      "metadata": {
        "colab": {
          "base_uri": "https://localhost:8080/",
          "height": 738
        },
        "id": "hlh6V25599xI",
        "outputId": "0642cc0b-9ac8-4463-99d4-6984d6d27ce2"
      },
      "source": [
        "# initialize graph\n",
        "g = nx.Graph()\n",
        "g.add_node('root') # intialize yourself as central\n",
        "\n",
        "# use iterrows tp iterate through the data frame\n",
        "for _, row in df_company_reduced.iterrows():\n",
        "\n",
        "  # store company name and count\n",
        "  company = row['company']\n",
        "  count = row['count']\n",
        "\n",
        "  title = f\"<b>{company}</b> – {count}\"\n",
        "  positions = set([x for x in df[company == df['company']]['position']])\n",
        "  positions = ''.join('<li>{}</li>'.format(x) for x in positions)\n",
        "\n",
        "  position_list = f\"<ul>{positions}</ul>\"\n",
        "  hover_info = title + position_list\n",
        "\n",
        "  g.add_node(company, size=count*2, title=hover_info, color='#3449eb')\n",
        "  g.add_edge('root', company, color='grey')\n",
        "\n",
        "# generate the graph\n",
        "nt = net.Network(height='700px', width='700px', bgcolor=\"black\", font_color='white')\n",
        "nt.from_nx(g)\n",
        "nt.hrepulsion()\n",
        "# more customization https://tinyurl.com/yf5lvvdm\n",
        "nt.show('company_graph.html')\n",
        "display(HTML('company_graph.html'))"
      ],
      "execution_count": null,
      "outputs": [
        {
          "output_type": "display_data",
          "data": {
            "text/html": [
              "<html>\n",
              "<head>\n",
              "<link rel=\"stylesheet\" href=\"https://cdnjs.cloudflare.com/ajax/libs/vis/4.16.1/vis.css\" type=\"text/css\" />\n",
              "<script type=\"text/javascript\" src=\"https://cdnjs.cloudflare.com/ajax/libs/vis/4.16.1/vis-network.min.js\"> </script>\n",
              "<center>\n",
              "<h1></h1>\n",
              "</center>\n",
              "\n",
              "<!-- <link rel=\"stylesheet\" href=\"../node_modules/vis/dist/vis.min.css\" type=\"text/css\" />\n",
              "<script type=\"text/javascript\" src=\"../node_modules/vis/dist/vis.js\"> </script>-->\n",
              "\n",
              "<style type=\"text/css\">\n",
              "\n",
              "        #mynetwork {\n",
              "            width: 700px;\n",
              "            height: 700px;\n",
              "            background-color: black;\n",
              "            border: 1px solid lightgray;\n",
              "            position: relative;\n",
              "            float: left;\n",
              "        }\n",
              "\n",
              "        \n",
              "\n",
              "        \n",
              "\n",
              "        \n",
              "</style>\n",
              "\n",
              "</head>\n",
              "\n",
              "<body>\n",
              "<div id = \"mynetwork\"></div>\n",
              "\n",
              "\n",
              "<script type=\"text/javascript\">\n",
              "\n",
              "    // initialize global variables.\n",
              "    var edges;\n",
              "    var nodes;\n",
              "    var network; \n",
              "    var container;\n",
              "    var options, data;\n",
              "\n",
              "    \n",
              "    // This method is responsible for drawing the graph, returns the drawn network\n",
              "    function drawGraph() {\n",
              "        var container = document.getElementById('mynetwork');\n",
              "        \n",
              "        \n",
              "\n",
              "        // parsing and collecting nodes and edges from the python\n",
              "        nodes = new vis.DataSet([{\"font\": {\"color\": \"white\"}, \"id\": \"root\", \"label\": \"root\", \"shape\": \"dot\", \"size\": 10}, {\"color\": \"#3449eb\", \"font\": {\"color\": \"white\"}, \"id\": \"Amazon\", \"label\": \"Amazon\", \"shape\": \"dot\", \"size\": 76, \"title\": \"\\u003cb\\u003eAmazon\\u003c/b\\u003e \\u2013 38\\u003cul\\u003e\\u003cli\\u003eSenior Data Scientist\\u003c/li\\u003e\\u003cli\\u003eApplied Scientist II\\u003c/li\\u003e\\u003cli\\u003eBusiness Analyst\\u003c/li\\u003e\\u003cli\\u003eBusiness Intelligence Engineer\\u003c/li\\u003e\\u003cli\\u003eFulfillment Center Associate I\\u003c/li\\u003e\\u003cli\\u003eApplied Scientist\\u003c/li\\u003e\\u003cli\\u003eResearch Scientist\\u003c/li\\u003e\\u003cli\\u003e(Data Science) Product Manager II\\u003c/li\\u003e\\u003cli\\u003eSr. Data Scientist - Sustainable Packaging (DS III)\\u003c/li\\u003e\\u003cli\\u003eSoftware Development Engineer\\u003c/li\\u003e\\u003cli\\u003eResearch Science Manager\\u003c/li\\u003e\\u003cli\\u003eData Scientist II\\u003c/li\\u003e\\u003cli\\u003eArea Manager\\u003c/li\\u003e\\u003cli\\u003eApplied Science Manager\\u003c/li\\u003e\\u003cli\\u003ePrincipal Product Manager - Tech\\u003c/li\\u003e\\u003cli\\u003eData Engineer\\u003c/li\\u003e\\u003cli\\u003eData Science Intern -  UK S\\u0026OP Team\\u003c/li\\u003e\\u003cli\\u003eApplied Scientist - Advertising\\u003c/li\\u003e\\u003cli\\u003eData Scientist\\u003c/li\\u003e\\u003cli\\u003eSoftware Developer Engineer Intern\\u003c/li\\u003e\\u003cli\\u003eSenior Product Manager\\u003c/li\\u003e\\u003cli\\u003eSr. Data Scientist\\u003c/li\\u003e\\u003cli\\u003eApplied Scientist, AWS AI\\u003c/li\\u003e\\u003cli\\u003eSoftware Development Intern\\u003c/li\\u003e\\u003cli\\u003eSenior Business Intelligence Engineer\\u003c/li\\u003e\\u003c/ul\\u003e\"}, {\"color\": \"#3449eb\", \"font\": {\"color\": \"white\"}, \"id\": \"IBM\", \"label\": \"IBM\", \"shape\": \"dot\", \"size\": 72, \"title\": \"\\u003cb\\u003eIBM\\u003c/b\\u003e \\u2013 36\\u003cul\\u003e\\u003cli\\u003eSenior Data Scientist\\u003c/li\\u003e\\u003cli\\u003eBusiness Analyst\\u003c/li\\u003e\\u003cli\\u003eApplication Developer\\u003c/li\\u003e\\u003cli\\u003eGlobal VP, Expert Labs Development Services, Cloud and Cognitive Software\\u003c/li\\u003e\\u003cli\\u003eData Science Specialist\\u003c/li\\u003e\\u003cli\\u003eChief Data Scientist\\u003c/li\\u003e\\u003cli\\u003eManager Data Science \\u0026 AI Elite Team\\u003c/li\\u003e\\u003cli\\u003eData Engineer\\u003c/li\\u003e\\u003cli\\u003eBlockchain Developer\\u003c/li\\u003e\\u003cli\\u003eChief Data Scientist, Machine Learning and AI Program Director\\u003c/li\\u003e\\u003cli\\u003eAI Strategist\\u003c/li\\u003e\\u003cli\\u003eResearch Intern\\u003c/li\\u003e\\u003cli\\u003eLead Data Scientist, Payer Innovation Lab\\u003c/li\\u003e\\u003cli\\u003eManager \\u0026 Sr Architect, Data Science and Machine Learning, IBM Analytics\\u003c/li\\u003e\\u003cli\\u003eData Scientist\\u003c/li\\u003e\\u003cli\\u003eIndustry Consultant Quantum Computing - Banking and Financial Markets\\u003c/li\\u003e\\u003cli\\u003eData analyst\\u003c/li\\u003e\\u003cli\\u003eSenior Data Scientist, IBM Data Science \\u0026 AI Elite\\u003c/li\\u003e\\u003cli\\u003eSr. Data Scientist\\u003c/li\\u003e\\u003cli\\u003eEngineering Manager\\u003c/li\\u003e\\u003cli\\u003eSenior Data Scientist | Project Lead - IBM Data Science \\u0026 AI Elite Team\\u003c/li\\u003e\\u003cli\\u003eAdvisory Data Scientist\\u003c/li\\u003e\\u003cli\\u003eSenior Data Scientist, IBM Technology, Middle East \\u0026 Africa\\u003c/li\\u003e\\u003cli\\u003eIndustry CTO, Financial Services\\u003c/li\\u003e\\u003cli\\u003eCloud Architect\\u003c/li\\u003e\\u003cli\\u003ePeoplesoft Functional Consultant\\u003c/li\\u003e\\u003cli\\u003eSenior Data Scientist, IBM Data Science and AI Elite Team\\u003c/li\\u003e\\u003cli\\u003eData Scientist : Microsoft Practice, D\\u0026TT, IBM Consulting\\u003c/li\\u003e\\u003cli\\u003eSData Scientist\\u003c/li\\u003e\\u003cli\\u003eWatson AI, Data Science, Analytics \\u0026 Hybrid Cloud Platform Technical Specialist\\u003c/li\\u003e\\u003cli\\u003eData Scientist - Lab Services\\u003c/li\\u003e\\u003cli\\u003eManager, Data Science and Machine Learning Engineering - Data Science Elite Team\\u003c/li\\u003e\\u003cli\\u003eManager - Data Science and AI Elite Team\\u003c/li\\u003e\\u003c/ul\\u003e\"}, {\"color\": \"#3449eb\", \"font\": {\"color\": \"white\"}, \"id\": \"MoneyLion\", \"label\": \"MoneyLion\", \"shape\": \"dot\", \"size\": 56, \"title\": \"\\u003cb\\u003eMoneyLion\\u003c/b\\u003e \\u2013 28\\u003cul\\u003e\\u003cli\\u003eSenior Data Scientist\\u003c/li\\u003e\\u003cli\\u003eDirector of Data Science and Analytics\\u003c/li\\u003e\\u003cli\\u003eAI Product Manager\\u003c/li\\u003e\\u003cli\\u003eData Scientist\\u003c/li\\u003e\\u003cli\\u003eSenior Data Scientist Team Lead\\u003c/li\\u003e\\u003cli\\u003eResearch Intern\\u003c/li\\u003e\\u003cli\\u003eData Engineering Lead\\u003c/li\\u003e\\u003cli\\u003eData Engineer\\u003c/li\\u003e\\u003cli\\u003eData Analyst | Data Science\\u003c/li\\u003e\\u003cli\\u003eAI Engineer\\u003c/li\\u003e\\u003cli\\u003eData Analyst\\u003c/li\\u003e\\u003c/ul\\u003e\"}, {\"color\": \"#3449eb\", \"font\": {\"color\": \"white\"}, \"id\": \"Facebook\", \"label\": \"Facebook\", \"shape\": \"dot\", \"size\": 44, \"title\": \"\\u003cb\\u003eFacebook\\u003c/b\\u003e \\u2013 22\\u003cul\\u003e\\u003cli\\u003eResearch Data Scientist\\u003c/li\\u003e\\u003cli\\u003eData Scientist\\u003c/li\\u003e\\u003cli\\u003eFacebook \\\"Above and Beyond Computer Science\\\" Participant\\u003c/li\\u003e\\u003cli\\u003eData Scientist, Analytics\\u003c/li\\u003e\\u003cli\\u003eData Scientist \\u003c/li\\u003e\\u003cli\\u003eData Engineer\\u003c/li\\u003e\\u003cli\\u003eData Science Manager\\u003c/li\\u003e\\u003cli\\u003eResearch Scientist\\u003c/li\\u003e\\u003cli\\u003eSoftware Engineer\\u003c/li\\u003e\\u003cli\\u003eGlobal Marketing Manager, Content Development\\u003c/li\\u003e\\u003cli\\u003eSoftware Engineer (Machine Learning Generalist)\\u003c/li\\u003e\\u003cli\\u003eAI Research\\u003c/li\\u003e\\u003cli\\u003eCoach - Facebook Community Accelerator APAC\\u003c/li\\u003e\\u003cli\\u003eMachine Learning Lead\\u003c/li\\u003e\\u003c/ul\\u003e\"}, {\"color\": \"#3449eb\", \"font\": {\"color\": \"white\"}, \"id\": \"Google\", \"label\": \"Google\", \"shape\": \"dot\", \"size\": 40, \"title\": \"\\u003cb\\u003eGoogle\\u003c/b\\u003e \\u2013 20\\u003cul\\u003e\\u003cli\\u003eMachine Learning Engineer \\u0026 Developer Advocate \\u003c/li\\u003e\\u003cli\\u003eBusiness Analyst\\u003c/li\\u003e\\u003cli\\u003eExplore ML with Crowdsource Facilitator\\u003c/li\\u003e\\u003cli\\u003eDirector, Data Science\\u003c/li\\u003e\\u003cli\\u003eData Scientist\\u003c/li\\u003e\\u003cli\\u003eData Analytics \\u0026 AI Specialist\\u003c/li\\u003e\\u003cli\\u003eSenior Data Scientist, Software engener,machine learnnig\\u003c/li\\u003e\\u003cli\\u003eSr. Staff, Data Science \\u0026 Engineering, Search \\u0026 Assistant\\u003c/li\\u003e\\u003cli\\u003eSenior Data Scientist and Tech Lead\\u003c/li\\u003e\\u003cli\\u003eRecruitment Coordinator\\u003c/li\\u003e\\u003cli\\u003eSoftware Engineer\\u003c/li\\u003e\\u003cli\\u003eData Scientist \\u0026 Developer Advocate\\u003c/li\\u003e\\u003cli\\u003eData Analyst\\u003c/li\\u003e\\u003cli\\u003eGoogle DSC Lead\\u003c/li\\u003e\\u003c/ul\\u003e\"}, {\"color\": \"#3449eb\", \"font\": {\"color\": \"white\"}, \"id\": \"PETRONAS\", \"label\": \"PETRONAS\", \"shape\": \"dot\", \"size\": 34, \"title\": \"\\u003cb\\u003ePETRONAS\\u003c/b\\u003e \\u2013 17\\u003cul\\u003e\\u003cli\\u003eData/Drone Scientist - Project Lead\\u003c/li\\u003e\\u003cli\\u003eExecutive, Data Science\\u003c/li\\u003e\\u003cli\\u003eExecutive (Data Science)\\u003c/li\\u003e\\u003cli\\u003eSenior Data Scientist\\u003c/li\\u003e\\u003cli\\u003eData Scientist\\u003c/li\\u003e\\u003cli\\u003eDeepwater Senior Wells Engineer (Suriname)\\u003c/li\\u003e\\u003cli\\u003eData Scientist/ Simulation \\u0026 Optimization Engineer\\u003c/li\\u003e\\u003cli\\u003eData Engineer\\u003c/li\\u003e\\u003cli\\u003eInformation Technology Trainee\\u003c/li\\u003e\\u003cli\\u003eDigital Accelerator\\u003c/li\\u003e\\u003cli\\u003eData Science Executive\\u003c/li\\u003e\\u003cli\\u003eExecutive Data Scientist\\u003c/li\\u003e\\u003cli\\u003eInnovation Coach | Data Science Lead | Scrum Master (PSM)\\u003c/li\\u003e\\u003cli\\u003eData Science (Executive)\\u003c/li\\u003e\\u003c/ul\\u003e\"}, {\"color\": \"#3449eb\", \"font\": {\"color\": \"white\"}, \"id\": \"Grab\", \"label\": \"Grab\", \"shape\": \"dot\", \"size\": 26, \"title\": \"\\u003cb\\u003eGrab\\u003c/b\\u003e \\u2013 13\\u003cul\\u003e\\u003cli\\u003eSenior Data Scientist\\u003c/li\\u003e\\u003cli\\u003eData Analytics Manager\\u003c/li\\u003e\\u003cli\\u003eData Scientist\\u003c/li\\u003e\\u003cli\\u003eContent Management Specialist\\u003c/li\\u003e\\u003cli\\u003eData Engineer\\u003c/li\\u003e\\u003cli\\u003eSenior Data Analyst\\u003c/li\\u003e\\u003cli\\u003eSenior Digital \\u0026 CRM Data Science Manager\\u003c/li\\u003e\\u003cli\\u003eSenior Data Scientist (Analytics)\\u003c/li\\u003e\\u003cli\\u003eSenior Software Engineer\\u003c/li\\u003e\\u003cli\\u003eAssistant Manager, Marketing Analytics\\u003c/li\\u003e\\u003c/ul\\u003e\"}, {\"color\": \"#3449eb\", \"font\": {\"color\": \"white\"}, \"id\": \"Microsoft\", \"label\": \"Microsoft\", \"shape\": \"dot\", \"size\": 26, \"title\": \"\\u003cb\\u003eMicrosoft\\u003c/b\\u003e \\u2013 13\\u003cul\\u003e\\u003cli\\u003eMachine Learning Engineer\\u003c/li\\u003e\\u003cli\\u003eSr. Cloud Solution Architect : Apps \\u0026 Infra\\u003c/li\\u003e\\u003cli\\u003eData Scientist\\u003c/li\\u003e\\u003cli\\u003eCloud Solutions Architect -  Data and AI \\u003c/li\\u003e\\u003cli\\u003eSenior Cloud Solution Architect(Data \\u0026 AI)\\u003c/li\\u003e\\u003cli\\u003eApplied Scientist\\u003c/li\\u003e\\u003cli\\u003eSoftware Engineer\\u003c/li\\u003e\\u003cli\\u003eData \\u0026 Applied Scientist\\u003c/li\\u003e\\u003cli\\u003eData Scientist Intern\\u003c/li\\u003e\\u003cli\\u003eSenior AI Specialist\\u003c/li\\u003e\\u003cli\\u003eData \\u0026 Applied Scientist II\\u003c/li\\u003e\\u003c/ul\\u003e\"}, {\"color\": \"#3449eb\", \"font\": {\"color\": \"white\"}, \"id\": \"Accenture\", \"label\": \"Accenture\", \"shape\": \"dot\", \"size\": 24, \"title\": \"\\u003cb\\u003eAccenture\\u003c/b\\u003e \\u2013 12\\u003cul\\u003e\\u003cli\\u003eStrategy Analyst\\u003c/li\\u003e\\u003cli\\u003eData Engineering Manager @ Accenture Strategy \\u0026 Consulting\\u003c/li\\u003e\\u003cli\\u003eData Scientist\\u003c/li\\u003e\\u003cli\\u003eLead Machine Learning Engineer (ML/NLP)\\u003c/li\\u003e\\u003cli\\u003eSpecialist\\u003c/li\\u003e\\u003cli\\u003eChief Data Scientist | SAP Technical Lead\\u003c/li\\u003e\\u003cli\\u003eBusiness \\u0026 Integration Arch Analyst\\u003c/li\\u003e\\u003cli\\u003eSenior Recruiter - Technology Strategy \\u0026 Advisory\\u003c/li\\u003e\\u003cli\\u003eData Science Analyst\\u003c/li\\u003e\\u003cli\\u003eTechnology Senior Analyst\\u003c/li\\u003e\\u003cli\\u003eData Scientist - Artificial Intelligence Team\\u003c/li\\u003e\\u003cli\\u003eData Analyst\\u003c/li\\u003e\\u003c/ul\\u003e\"}, {\"color\": \"#3449eb\", \"font\": {\"color\": \"white\"}, \"id\": \"Medium\", \"label\": \"Medium\", \"shape\": \"dot\", \"size\": 24, \"title\": \"\\u003cb\\u003eMedium\\u003c/b\\u003e \\u2013 12\\u003cul\\u003e\\u003cli\\u003eContent Writer\\u003c/li\\u003e\\u003cli\\u003eTechnical Writer\\u003c/li\\u003e\\u003cli\\u003eSenior Data Scientist\\u003c/li\\u003e\\u003cli\\u003eWriter\\u003c/li\\u003e\\u003cli\\u003eData Science Writer\\u003c/li\\u003e\\u003cli\\u003eColumnist\\u003c/li\\u003e\\u003cli\\u003eContributing Writer\\u003c/li\\u003e\\u003cli\\u003eFreelance Contributor \\u003c/li\\u003e\\u003c/ul\\u003e\"}, {\"color\": \"#3449eb\", \"font\": {\"color\": \"white\"}, \"id\": \"Maybank\", \"label\": \"Maybank\", \"shape\": \"dot\", \"size\": 24, \"title\": \"\\u003cb\\u003eMaybank\\u003c/b\\u003e \\u2013 12\\u003cul\\u003e\\u003cli\\u003eData Scientist\\u003c/li\\u003e\\u003cli\\u003eSpecialist, Group Model Development\\u003c/li\\u003e\\u003cli\\u003eFinancial and Data Analyst\\u003c/li\\u003e\\u003cli\\u003eMaybank Intern, Private Wealth Management\\u003c/li\\u003e\\u003cli\\u003eAVP, Data Scientist, Group Risk, Non-Financial Risk\\u003c/li\\u003e\\u003cli\\u003eUnit Head, Advanced Analytics\\u003c/li\\u003e\\u003cli\\u003eGroup Data Scientist, EVP\\u003c/li\\u003e\\u003cli\\u003eNext Expert in Technology (NeXT), Executive\\u003c/li\\u003e\\u003cli\\u003eChief Data Officer\\u003c/li\\u003e\\u003cli\\u003eSenior Data Engineer - Advance Data Analytics\\u003c/li\\u003e\\u003cli\\u003eSenior Technical Management\\u003c/li\\u003e\\u003cli\\u003eData Analyst\\u003c/li\\u003e\\u003c/ul\\u003e\"}, {\"color\": \"#3449eb\", \"font\": {\"color\": \"white\"}, \"id\": \"H2O.ai\", \"label\": \"H2O.ai\", \"shape\": \"dot\", \"size\": 22, \"title\": \"\\u003cb\\u003eH2O.ai\\u003c/b\\u003e \\u2013 11\\u003cul\\u003e\\u003cli\\u003eSr. Solutions Engineer\\u003c/li\\u003e\\u003cli\\u003eSenior Data Scientist\\u003c/li\\u003e\\u003cli\\u003eLead Data Scientist, Responsible AI Lead\\u003c/li\\u003e\\u003cli\\u003eData Scientist\\u003c/li\\u003e\\u003cli\\u003eCompetitive Data Scientist, Fellow\\u003c/li\\u003e\\u003cli\\u003eData scientist - Healthcare AI product manager\\u003c/li\\u003e\\u003cli\\u003eCEO \\u0026 Co-founder\\u003c/li\\u003e\\u003cli\\u003eVice President Data Science\\u003c/li\\u003e\\u003c/ul\\u003e\"}, {\"color\": \"#3449eb\", \"font\": {\"color\": \"white\"}, \"id\": \"Shopee\", \"label\": \"Shopee\", \"shape\": \"dot\", \"size\": 22, \"title\": \"\\u003cb\\u003eShopee\\u003c/b\\u003e \\u2013 11\\u003cul\\u003e\\u003cli\\u003eSenior Data Scientist\\u003c/li\\u003e\\u003cli\\u003eAlgorithm Engineer\\u003c/li\\u003e\\u003cli\\u003eSenior Business Analyst\\u003c/li\\u003e\\u003cli\\u003eSenior Associate, Business Intelligence\\u003c/li\\u003e\\u003cli\\u003eSenior Algorithm Enginner \\u003c/li\\u003e\\u003cli\\u003eBusiness Intelligence Data Analyst\\u003c/li\\u003e\\u003cli\\u003eSoftware Engineer\\u003c/li\\u003e\\u003cli\\u003eBudgeting \\u0026 Planning Analytics - ShopeeFood\\u003c/li\\u003e\\u003cli\\u003eProduct Manager, Associate\\u003c/li\\u003e\\u003c/ul\\u003e\"}, {\"color\": \"#3449eb\", \"font\": {\"color\": \"white\"}, \"id\": \"Intel Corporation\", \"label\": \"Intel Corporation\", \"shape\": \"dot\", \"size\": 22, \"title\": \"\\u003cb\\u003eIntel Corporation\\u003c/b\\u003e \\u2013 11\\u003cul\\u003e\\u003cli\\u003eUndergrad Tech Intern\\u003c/li\\u003e\\u003cli\\u003eSenior Data Scientist\\u003c/li\\u003e\\u003cli\\u003eMachine Learning Engineer\\u003c/li\\u003e\\u003cli\\u003eComputer Vision Enginner\\u003c/li\\u003e\\u003cli\\u003eData Scientist\\u003c/li\\u003e\\u003cli\\u003eGraduate Trainee\\u003c/li\\u003e\\u003cli\\u003eSoftware Engineer\\u003c/li\\u003e\\u003cli\\u003eProduct Enablement Solution Software Graduate Engineer (PESG AMS CKT)\\u003c/li\\u003e\\u003cli\\u003eSystem Validation Graduate Trainee\\u003c/li\\u003e\\u003cli\\u003ePre-Si Valid/Verif Engineer\\u003c/li\\u003e\\u003c/ul\\u003e\"}, {\"color\": \"#3449eb\", \"font\": {\"color\": \"white\"}, \"id\": \"AirAsia\", \"label\": \"AirAsia\", \"shape\": \"dot\", \"size\": 20, \"title\": \"\\u003cb\\u003eAirAsia\\u003c/b\\u003e \\u2013 10\\u003cul\\u003e\\u003cli\\u003eManager, Data Science | Data Analytics | Data Engineering\\u003c/li\\u003e\\u003cli\\u003eData Analyst\\u003c/li\\u003e\\u003cli\\u003eSenior Data Scientist\\u003c/li\\u003e\\u003cli\\u003eData Scientist\\u003c/li\\u003e\\u003cli\\u003eProduct Manager\\u003c/li\\u003e\\u003cli\\u003eData Engineer \\u003c/li\\u003e\\u003cli\\u003eData Engineer\\u003c/li\\u003e\\u003cli\\u003eSenior Data Engineer\\u003c/li\\u003e\\u003cli\\u003eSoftware Engineer Intern\\u003c/li\\u003e\\u003cli\\u003eSenior Manager - Data Science\\u003c/li\\u003e\\u003c/ul\\u003e\"}, {\"color\": \"#3449eb\", \"font\": {\"color\": \"white\"}, \"id\": \"Iowa State University\", \"label\": \"Iowa State University\", \"shape\": \"dot\", \"size\": 20, \"title\": \"\\u003cb\\u003eIowa State University\\u003c/b\\u003e \\u2013 10\\u003cul\\u003e\\u003cli\\u003eStudent Supervisor\\u003c/li\\u003e\\u003cli\\u003eResearch Associate/Data Scientist\\u003c/li\\u003e\\u003cli\\u003eResearch Affiliate (Data analysis, Deep learning, Machine learning)\\u003c/li\\u003e\\u003cli\\u003eComputer Science Peer Mentor\\u003c/li\\u003e\\u003cli\\u003eAssistant Teaching Professor, Leadership Studies\\u003c/li\\u003e\\u003cli\\u003eUndergraduate Teaching Assistant\\u003c/li\\u003e\\u003cli\\u003eGraduate Teaching Assistant\\u003c/li\\u003e\\u003cli\\u003eStatistician Graduate Student\\u003c/li\\u003e\\u003cli\\u003eResearch Assistant\\u003c/li\\u003e\\u003cli\\u003eGraduate Research Assistant\\u003c/li\\u003e\\u003c/ul\\u003e\"}, {\"color\": \"#3449eb\", \"font\": {\"color\": \"white\"}, \"id\": \"Skymind\", \"label\": \"Skymind\", \"shape\": \"dot\", \"size\": 18, \"title\": \"\\u003cb\\u003eSkymind\\u003c/b\\u003e \\u2013 9\\u003cul\\u003e\\u003cli\\u003eJunior AI Software Engineer\\u003c/li\\u003e\\u003cli\\u003eVP of Product Data Science\\u003c/li\\u003e\\u003cli\\u003eJunior AI Engineer\\u003c/li\\u003e\\u003cli\\u003eDeep Learning Engineer\\u003c/li\\u003e\\u003cli\\u003eJunior Deep Learning Engineer\\u003c/li\\u003e\\u003c/ul\\u003e\"}, {\"color\": \"#3449eb\", \"font\": {\"color\": \"white\"}, \"id\": \"Apple\", \"label\": \"Apple\", \"shape\": \"dot\", \"size\": 18, \"title\": \"\\u003cb\\u003eApple\\u003c/b\\u003e \\u2013 9\\u003cul\\u003e\\u003cli\\u003ePrincipal Engineer\\u003c/li\\u003e\\u003cli\\u003eMachine Learning Engineer\\u003c/li\\u003e\\u003cli\\u003eSenior Staff Data Engineer\\u003c/li\\u003e\\u003cli\\u003eData Science Manager\\u003c/li\\u003e\\u003cli\\u003eComputer Vision Algorithm Engineer, Data Scientist\\u003c/li\\u003e\\u003cli\\u003eSenior Video Engineering Incubation Manager / Data Scientist / Computer Vision\\u003c/li\\u003e\\u003cli\\u003eSenior Machine Learning Engineer\\u003c/li\\u003e\\u003c/ul\\u003e\"}, {\"color\": \"#3449eb\", \"font\": {\"color\": \"white\"}, \"id\": \"CIMB\", \"label\": \"CIMB\", \"shape\": \"dot\", \"size\": 18, \"title\": \"\\u003cb\\u003eCIMB\\u003c/b\\u003e \\u2013 9\\u003cul\\u003e\\u003cli\\u003eExecutive Officer, Regional Data Science CoE\\u003c/li\\u003e\\u003cli\\u003eExecutive\\u003c/li\\u003e\\u003cli\\u003eTCB Associate\\u003c/li\\u003e\\u003cli\\u003eManager, Risk - Retail Modelling\\u003c/li\\u003e\\u003cli\\u003eData Engineer\\u003c/li\\u003e\\u003cli\\u003ePrincipal Data Scientist, Group Risk\\u003c/li\\u003e\\u003cli\\u003eRegional Data Science, Decision Management (VP)\\u003c/li\\u003e\\u003cli\\u003eData Analyst\\u003c/li\\u003e\\u003c/ul\\u003e\"}, {\"color\": \"#3449eb\", \"font\": {\"color\": \"white\"}, \"id\": \"Upwork\", \"label\": \"Upwork\", \"shape\": \"dot\", \"size\": 16, \"title\": \"\\u003cb\\u003eUpwork\\u003c/b\\u003e \\u2013 8\\u003cul\\u003e\\u003cli\\u003eFreelance, Data Scientist\\u003c/li\\u003e\\u003cli\\u003eFull-stack Developer\\u003c/li\\u003e\\u003cli\\u003eData Scientist\\u003c/li\\u003e\\u003cli\\u003eB.I. Analyst\\u003c/li\\u003e\\u003cli\\u003eWeb Developer\\u003c/li\\u003e\\u003cli\\u003eProfessional Freelancer\\u003c/li\\u003e\\u003cli\\u003eFreelance Data Scientist\\u003c/li\\u003e\\u003c/ul\\u003e\"}, {\"color\": \"#3449eb\", \"font\": {\"color\": \"white\"}, \"id\": \"Omnilytics\", \"label\": \"Omnilytics\", \"shape\": \"dot\", \"size\": 16, \"title\": \"\\u003cb\\u003eOmnilytics\\u003c/b\\u003e \\u2013 8\\u003cul\\u003e\\u003cli\\u003eData Miner\\u003c/li\\u003e\\u003cli\\u003eData Science Intern\\u003c/li\\u003e\\u003cli\\u003eSenior Data Scientist\\u003c/li\\u003e\\u003cli\\u003eHead of Data Science\\u003c/li\\u003e\\u003cli\\u003eDataops Engineer\\u003c/li\\u003e\\u003cli\\u003eData Scientist\\u003c/li\\u003e\\u003cli\\u003eCo-Founder, Director of Design\\u003c/li\\u003e\\u003c/ul\\u003e\"}, {\"color\": \"#3449eb\", \"font\": {\"color\": \"white\"}, \"id\": \"Infosys\", \"label\": \"Infosys\", \"shape\": \"dot\", \"size\": 16, \"title\": \"\\u003cb\\u003eInfosys\\u003c/b\\u003e \\u2013 8\\u003cul\\u003e\\u003cli\\u003eTechnology Lead\\u003c/li\\u003e\\u003cli\\u003eSystems Engineer\\u003c/li\\u003e\\u003cli\\u003eTechnology Lead | Functional Analyst | BI Data Engineer\\u003c/li\\u003e\\u003cli\\u003eSystem Engineer\\u003c/li\\u003e\\u003cli\\u003eSenior System Engineer\\u003c/li\\u003e\\u003cli\\u003eAssociate\\u003c/li\\u003e\\u003cli\\u003eSystems Engineer Trainee\\u003c/li\\u003e\\u003c/ul\\u003e\"}, {\"color\": \"#3449eb\", \"font\": {\"color\": \"white\"}, \"id\": \"Tata Consultancy Services\", \"label\": \"Tata Consultancy Services\", \"shape\": \"dot\", \"size\": 16, \"title\": \"\\u003cb\\u003eTata Consultancy Services\\u003c/b\\u003e \\u2013 8\\u003cul\\u003e\\u003cli\\u003eSystems Analyst\\u003c/li\\u003e\\u003cli\\u003eData Scientist\\u003c/li\\u003e\\u003cli\\u003eManager\\u003c/li\\u003e\\u003cli\\u003eSystem Engineer\\u003c/li\\u003e\\u003cli\\u003ePython Developer\\u003c/li\\u003e\\u003cli\\u003eAssistant System Engineer-Trainee\\u003c/li\\u003e\\u003cli\\u003eSenior Data Engineer\\u003c/li\\u003e\\u003cli\\u003eAssistant Consultant\\u003c/li\\u003e\\u003c/ul\\u003e\"}, {\"color\": \"#3449eb\", \"font\": {\"color\": \"white\"}, \"id\": \"EY\", \"label\": \"EY\", \"shape\": \"dot\", \"size\": 16, \"title\": \"\\u003cb\\u003eEY\\u003c/b\\u003e \\u2013 8\\u003cul\\u003e\\u003cli\\u003eDigital Advertising Analyst - Tech Consulting Senior\\u003c/li\\u003e\\u003cli\\u003eSenior Consultant\\u003c/li\\u003e\\u003cli\\u003eData Engineer\\u003c/li\\u003e\\u003cli\\u003eSenior Associate, Consultant, Business Consulting\\u003c/li\\u003e\\u003cli\\u003eLead Data Scientist\\u003c/li\\u003e\\u003cli\\u003eSenior Associate Data \\u0026 Analytics\\u003c/li\\u003e\\u003cli\\u003eSecurity Analyst\\u003c/li\\u003e\\u003cli\\u003eConsultant\\u003c/li\\u003e\\u003c/ul\\u003e\"}, {\"color\": \"#3449eb\", \"font\": {\"color\": \"white\"}, \"id\": \"Maxis\", \"label\": \"Maxis\", \"shape\": \"dot\", \"size\": 16, \"title\": \"\\u003cb\\u003eMaxis\\u003c/b\\u003e \\u2013 8\\u003cul\\u003e\\u003cli\\u003eData Scientist\\u003c/li\\u003e\\u003cli\\u003eHead of AI \\u0026 Advanced Analytics\\u003c/li\\u003e\\u003cli\\u003eSales CRM and CPQ Development specialist\\u003c/li\\u003e\\u003cli\\u003eLead Data Insight Specialist | Procurement\\u003c/li\\u003e\\u003cli\\u003eMLOps Team Lead | ML Engineer\\u003c/li\\u003e\\u003c/ul\\u003e\"}, {\"color\": \"#3449eb\", \"font\": {\"color\": \"white\"}, \"id\": \"Amazon Web Services (AWS)\", \"label\": \"Amazon Web Services (AWS)\", \"shape\": \"dot\", \"size\": 14, \"title\": \"\\u003cb\\u003eAmazon Web Services (AWS)\\u003c/b\\u003e \\u2013 7\\u003cul\\u003e\\u003cli\\u003ePrototyping Lead ASEAN\\u003c/li\\u003e\\u003cli\\u003eApplied Scientist II\\u003c/li\\u003e\\u003cli\\u003eSenior Applied Scientist\\u003c/li\\u003e\\u003cli\\u003eEMEA Senior AI \\u0026 ML Strategist \\u003c/li\\u003e\\u003cli\\u003eRecruiter, Talent Acquisition, Hiring Program Managers, Sales Operations Managers, Cloud Sales\\u003c/li\\u003e\\u003cli\\u003eAWS Cloud Practitioner Re/Start Trainee\\u003c/li\\u003e\\u003cli\\u003eAutomation Test Lead - Cloud and Applications\\u003c/li\\u003e\\u003c/ul\\u003e\"}, {\"color\": \"#3449eb\", \"font\": {\"color\": \"white\"}, \"id\": \"Springboard\", \"label\": \"Springboard\", \"shape\": \"dot\", \"size\": 14, \"title\": \"\\u003cb\\u003eSpringboard\\u003c/b\\u003e \\u2013 7\\u003cul\\u003e\\u003cli\\u003eData Science Fellow\\u003c/li\\u003e\\u003cli\\u003eData Analytics Fellow\\u003c/li\\u003e\\u003cli\\u003eData Science Career Track\\u003c/li\\u003e\\u003cli\\u003eData Engineer Fellow\\u003c/li\\u003e\\u003cli\\u003eDataScience Career Track - Student\\u003c/li\\u003e\\u003cli\\u003eCo-founder \\u0026 President\\u003c/li\\u003e\\u003cli\\u003e Springboard Data Science Career Track\\u003c/li\\u003e\\u003c/ul\\u003e\"}, {\"color\": \"#3449eb\", \"font\": {\"color\": \"white\"}, \"id\": \"Top Glove\", \"label\": \"Top Glove\", \"shape\": \"dot\", \"size\": 14, \"title\": \"\\u003cb\\u003eTop Glove\\u003c/b\\u003e \\u2013 7\\u003cul\\u003e\\u003cli\\u003eData Scientist\\u003c/li\\u003e\\u003cli\\u003eEngineer, Big Data Analytics\\u003c/li\\u003e\\u003cli\\u003eEngineer, Compounding\\u003c/li\\u003e\\u003cli\\u003eProduction Trainee\\u003c/li\\u003e\\u003cli\\u003eData Analyst\\u003c/li\\u003e\\u003c/ul\\u003e\"}, {\"color\": \"#3449eb\", \"font\": {\"color\": \"white\"}, \"id\": \"TikTok\", \"label\": \"TikTok\", \"shape\": \"dot\", \"size\": 14, \"title\": \"\\u003cb\\u003eTikTok\\u003c/b\\u003e \\u2013 7\\u003cul\\u003e\\u003cli\\u003eData Scientist\\u003c/li\\u003e\\u003cli\\u003eSenior Data Scientist\\u003c/li\\u003e\\u003cli\\u003eMachine Learning Engineer\\u003c/li\\u003e\\u003cli\\u003eData Scientist, TikTok Ads\\u003c/li\\u003e\\u003c/ul\\u003e\"}, {\"color\": \"#3449eb\", \"font\": {\"color\": \"white\"}, \"id\": \"JPMorgan Chase \\u0026 Co.\", \"label\": \"JPMorgan Chase \\u0026 Co.\", \"shape\": \"dot\", \"size\": 14, \"title\": \"\\u003cb\\u003eJPMorgan Chase \\u0026 Co.\\u003c/b\\u003e \\u2013 7\\u003cul\\u003e\\u003cli\\u003ePython Software Engineer\\u003c/li\\u003e\\u003cli\\u003eSenior Data Scientist\\u003c/li\\u003e\\u003cli\\u003eProduction Support Analyst\\u003c/li\\u003e\\u003cli\\u003eQuantitative modeling Associate\\u003c/li\\u003e\\u003cli\\u003eVice President, Strategic Analytics - Auto Risk\\u003c/li\\u003e\\u003cli\\u003ePrivate Client Banker\\u003c/li\\u003e\\u003cli\\u003eAssociate\\u003c/li\\u003e\\u003c/ul\\u003e\"}, {\"color\": \"#3449eb\", \"font\": {\"color\": \"white\"}, \"id\": \"ADA\", \"label\": \"ADA\", \"shape\": \"dot\", \"size\": 14, \"title\": \"\\u003cb\\u003eADA\\u003c/b\\u003e \\u2013 7\\u003cul\\u003e\\u003cli\\u003eProduct Analyst\\u003c/li\\u003e\\u003cli\\u003eSenior Consultant\\u003c/li\\u003e\\u003cli\\u003ePerformance Marketing Analytics Lead \\u003c/li\\u003e\\u003cli\\u003eSenior Data Engineer\\u003c/li\\u003e\\u003cli\\u003eBusiness Analyst (Data \\u0026 Engineering)\\u003c/li\\u003e\\u003cli\\u003eJunior Data Scientist\\u003c/li\\u003e\\u003cli\\u003eSenior Architect\\u003c/li\\u003e\\u003c/ul\\u003e\"}, {\"color\": \"#3449eb\", \"font\": {\"color\": \"white\"}, \"id\": \"Bank Negara Malaysia\", \"label\": \"Bank Negara Malaysia\", \"shape\": \"dot\", \"size\": 12, \"title\": \"\\u003cb\\u003eBank Negara Malaysia\\u003c/b\\u003e \\u2013 6\\u003cul\\u003e\\u003cli\\u003eSenior Data Scientist\\u003c/li\\u003e\\u003cli\\u003eManager\\u003c/li\\u003e\\u003cli\\u003eAssociate Analyst | Human Capital\\u0027s People Analytics\\u003c/li\\u003e\\u003cli\\u003eData Engineer\\u003c/li\\u003e\\u003cli\\u003eAssociate Economist\\u003c/li\\u003e\\u003cli\\u003eAssociate Data Scientist\\u003c/li\\u003e\\u003c/ul\\u003e\"}, {\"color\": \"#3449eb\", \"font\": {\"color\": \"white\"}, \"id\": \"General Assembly\", \"label\": \"General Assembly\", \"shape\": \"dot\", \"size\": 12, \"title\": \"\\u003cb\\u003eGeneral Assembly\\u003c/b\\u003e \\u2013 6\\u003cul\\u003e\\u003cli\\u003eInstructional Associate - Enterprise Clients\\u003c/li\\u003e\\u003cli\\u003eData Science Student\\u003c/li\\u003e\\u003cli\\u003eLead Data Science Instructor\\u003c/li\\u003e\\u003cli\\u003eData Science Immersive Graduate\\u003c/li\\u003e\\u003cli\\u003eData Science Immersive Fellow\\u003c/li\\u003e\\u003cli\\u003eLead Instructor, Data Science\\u003c/li\\u003e\\u003c/ul\\u003e\"}, {\"color\": \"#3449eb\", \"font\": {\"color\": \"white\"}, \"id\": \"Hugging Face\", \"label\": \"Hugging Face\", \"shape\": \"dot\", \"size\": 12, \"title\": \"\\u003cb\\u003eHugging Face\\u003c/b\\u003e \\u2013 6\\u003cul\\u003e\\u003cli\\u003eMachine Learning Engineer\\u003c/li\\u003e\\u003cli\\u003eChief Evangelist\\u003c/li\\u003e\\u003cli\\u003eIng\\u00e9nieur Machine Learning\\u003c/li\\u003e\\u003c/ul\\u003e\"}, {\"color\": \"#3449eb\", \"font\": {\"color\": \"white\"}, \"id\": \"Spotify\", \"label\": \"Spotify\", \"shape\": \"dot\", \"size\": 12, \"title\": \"\\u003cb\\u003eSpotify\\u003c/b\\u003e \\u2013 6\\u003cul\\u003e\\u003cli\\u003eData Scientist\\u003c/li\\u003e\\u003cli\\u003eSenior Data Scientist\\u003c/li\\u003e\\u003cli\\u003eML Engineer - NLP\\u003c/li\\u003e\\u003c/ul\\u003e\"}, {\"color\": \"#3449eb\", \"font\": {\"color\": \"white\"}, \"id\": \"Airbnb\", \"label\": \"Airbnb\", \"shape\": \"dot\", \"size\": 12, \"title\": \"\\u003cb\\u003eAirbnb\\u003c/b\\u003e \\u2013 6\\u003cul\\u003e\\u003cli\\u003eData Scientist\\u003c/li\\u003e\\u003cli\\u003eTech Lead (Commercial Products)\\u003c/li\\u003e\\u003cli\\u003eSenior Data Scientist\\u003c/li\\u003e\\u003c/ul\\u003e\"}, {\"color\": \"#3449eb\", \"font\": {\"color\": \"white\"}, \"id\": \"Setel\", \"label\": \"Setel\", \"shape\": \"dot\", \"size\": 12, \"title\": \"\\u003cb\\u003eSetel\\u003c/b\\u003e \\u2013 6\\u003cul\\u003e\\u003cli\\u003eData Scientist\\u003c/li\\u003e\\u003cli\\u003eAssociate Product Manager\\u003c/li\\u003e\\u003cli\\u003eCTO / Head Of Engineering\\u003c/li\\u003e\\u003cli\\u003eBackend Engineer\\u003c/li\\u003e\\u003cli\\u003eData Analyst\\u003c/li\\u003e\\u003c/ul\\u003e\"}, {\"color\": \"#3449eb\", \"font\": {\"color\": \"white\"}, \"id\": \"LinkedIn\", \"label\": \"LinkedIn\", \"shape\": \"dot\", \"size\": 10, \"title\": \"\\u003cb\\u003eLinkedIn\\u003c/b\\u003e \\u2013 5\\u003cul\\u003e\\u003cli\\u003eInsights Analyst Intern\\u003c/li\\u003e\\u003cli\\u003eDirector of Engineering, AI\\u003c/li\\u003e\\u003cli\\u003eSenior Data Scientist\\u003c/li\\u003e\\u003cli\\u003eSenior Applied Scientist, Machine Learning\\u003c/li\\u003e\\u003c/ul\\u003e\"}, {\"color\": \"#3449eb\", \"font\": {\"color\": \"white\"}, \"id\": \"Databricks\", \"label\": \"Databricks\", \"shape\": \"dot\", \"size\": 10, \"title\": \"\\u003cb\\u003eDatabricks\\u003c/b\\u003e \\u2013 5\\u003cul\\u003e\\u003cli\\u003eSenior Engineering Manager - We are hiring!!!\\u003c/li\\u003e\\u003cli\\u003eSolutions Architect\\u003c/li\\u003e\\u003cli\\u003eData Engineer\\u003c/li\\u003e\\u003cli\\u003eSenior Solutions Architect\\u003c/li\\u003e\\u003cli\\u003eSenior Software Engineer\\u003c/li\\u003e\\u003c/ul\\u003e\"}, {\"color\": \"#3449eb\", \"font\": {\"color\": \"white\"}, \"id\": \"Clarusway\", \"label\": \"Clarusway\", \"shape\": \"dot\", \"size\": 10, \"title\": \"\\u003cb\\u003eClarusway\\u003c/b\\u003e \\u2013 5\\u003cul\\u003e\\u003cli\\u003eBusiness Development Specialist\\u003c/li\\u003e\\u003cli\\u003eData Scientist\\u003c/li\\u003e\\u003cli\\u003eClarusway\\u003c/li\\u003e\\u003cli\\u003eMentor\\u003c/li\\u003e\\u003cli\\u003eFrontend Developer\\u003c/li\\u003e\\u003c/ul\\u003e\"}, {\"color\": \"#3449eb\", \"font\": {\"color\": \"white\"}, \"id\": \"Fave\", \"label\": \"Fave\", \"shape\": \"dot\", \"size\": 10, \"title\": \"\\u003cb\\u003eFave\\u003c/b\\u003e \\u2013 5\\u003cul\\u003e\\u003cli\\u003eData Analyst\\u003c/li\\u003e\\u003cli\\u003eData Engineer\\u003c/li\\u003e\\u003cli\\u003eCo-Founder\\u003c/li\\u003e\\u003cli\\u003eSenior, Data Science \\u0026 Analytics Expert (Regional) \\u003c/li\\u003e\\u003cli\\u003eTeam Lead, Data Science \\u0026 Analytics (Regional)\\u003c/li\\u003e\\u003c/ul\\u003e\"}, {\"color\": \"#3449eb\", \"font\": {\"color\": \"white\"}, \"id\": \"Carsome\", \"label\": \"Carsome\", \"shape\": \"dot\", \"size\": 10, \"title\": \"\\u003cb\\u003eCarsome\\u003c/b\\u003e \\u2013 5\\u003cul\\u003e\\u003cli\\u003eBusiness Analyst\\u003c/li\\u003e\\u003cli\\u003eData Scientist\\u003c/li\\u003e\\u003cli\\u003eFull Stack Engineer\\u003c/li\\u003e\\u003cli\\u003eVice President Of Engineering\\u003c/li\\u003e\\u003cli\\u003eCountry General Manager, Carsome Certified\\u003c/li\\u003e\\u003c/ul\\u003e\"}, {\"color\": \"#3449eb\", \"font\": {\"color\": \"white\"}, \"id\": \"GBG Plc\", \"label\": \"GBG Plc\", \"shape\": \"dot\", \"size\": 10, \"title\": \"\\u003cb\\u003eGBG Plc\\u003c/b\\u003e \\u2013 5\\u003cul\\u003e\\u003cli\\u003eData Engineer\\u003c/li\\u003e\\u003cli\\u003eSenior Data Engineer\\u003c/li\\u003e\\u003cli\\u003eData Scientist , APAC\\u003c/li\\u003e\\u003c/ul\\u003e\"}, {\"color\": \"#3449eb\", \"font\": {\"color\": \"white\"}, \"id\": \"Deloitte\", \"label\": \"Deloitte\", \"shape\": \"dot\", \"size\": 10, \"title\": \"\\u003cb\\u003eDeloitte\\u003c/b\\u003e \\u2013 5\\u003cul\\u003e\\u003cli\\u003eSenior Advisor I Global Investment and Innovation Incentives\\u003c/li\\u003e\\u003cli\\u003eSenior Consultant\\u003c/li\\u003e\\u003cli\\u003eData Science Consultant\\u003c/li\\u003e\\u003cli\\u003eSenior Consultant | Senior Data Scientist\\u003c/li\\u003e\\u003cli\\u003eSenior Manager\\u003c/li\\u003e\\u003c/ul\\u003e\"}, {\"color\": \"#3449eb\", \"font\": {\"color\": \"white\"}, \"id\": \"Bayezian\", \"label\": \"Bayezian\", \"shape\": \"dot\", \"size\": 10, \"title\": \"\\u003cb\\u003eBayezian\\u003c/b\\u003e \\u2013 5\\u003cul\\u003e\\u003cli\\u003eData Scientist\\u003c/li\\u003e\\u003cli\\u003eHead of Growth\\u003c/li\\u003e\\u003cli\\u003eData Scientist and Machine Learning Engineer\\u003c/li\\u003e\\u003c/ul\\u003e\"}]);\n",
              "        edges = new vis.DataSet([{\"color\": \"grey\", \"from\": \"root\", \"to\": \"Amazon\", \"weight\": 1}, {\"color\": \"grey\", \"from\": \"root\", \"to\": \"IBM\", \"weight\": 1}, {\"color\": \"grey\", \"from\": \"root\", \"to\": \"MoneyLion\", \"weight\": 1}, {\"color\": \"grey\", \"from\": \"root\", \"to\": \"Facebook\", \"weight\": 1}, {\"color\": \"grey\", \"from\": \"root\", \"to\": \"Google\", \"weight\": 1}, {\"color\": \"grey\", \"from\": \"root\", \"to\": \"PETRONAS\", \"weight\": 1}, {\"color\": \"grey\", \"from\": \"root\", \"to\": \"Grab\", \"weight\": 1}, {\"color\": \"grey\", \"from\": \"root\", \"to\": \"Microsoft\", \"weight\": 1}, {\"color\": \"grey\", \"from\": \"root\", \"to\": \"Accenture\", \"weight\": 1}, {\"color\": \"grey\", \"from\": \"root\", \"to\": \"Medium\", \"weight\": 1}, {\"color\": \"grey\", \"from\": \"root\", \"to\": \"Maybank\", \"weight\": 1}, {\"color\": \"grey\", \"from\": \"root\", \"to\": \"H2O.ai\", \"weight\": 1}, {\"color\": \"grey\", \"from\": \"root\", \"to\": \"Shopee\", \"weight\": 1}, {\"color\": \"grey\", \"from\": \"root\", \"to\": \"Intel Corporation\", \"weight\": 1}, {\"color\": \"grey\", \"from\": \"root\", \"to\": \"AirAsia\", \"weight\": 1}, {\"color\": \"grey\", \"from\": \"root\", \"to\": \"Iowa State University\", \"weight\": 1}, {\"color\": \"grey\", \"from\": \"root\", \"to\": \"Skymind\", \"weight\": 1}, {\"color\": \"grey\", \"from\": \"root\", \"to\": \"Apple\", \"weight\": 1}, {\"color\": \"grey\", \"from\": \"root\", \"to\": \"CIMB\", \"weight\": 1}, {\"color\": \"grey\", \"from\": \"root\", \"to\": \"Upwork\", \"weight\": 1}, {\"color\": \"grey\", \"from\": \"root\", \"to\": \"Omnilytics\", \"weight\": 1}, {\"color\": \"grey\", \"from\": \"root\", \"to\": \"Infosys\", \"weight\": 1}, {\"color\": \"grey\", \"from\": \"root\", \"to\": \"Tata Consultancy Services\", \"weight\": 1}, {\"color\": \"grey\", \"from\": \"root\", \"to\": \"EY\", \"weight\": 1}, {\"color\": \"grey\", \"from\": \"root\", \"to\": \"Maxis\", \"weight\": 1}, {\"color\": \"grey\", \"from\": \"root\", \"to\": \"Amazon Web Services (AWS)\", \"weight\": 1}, {\"color\": \"grey\", \"from\": \"root\", \"to\": \"Springboard\", \"weight\": 1}, {\"color\": \"grey\", \"from\": \"root\", \"to\": \"Top Glove\", \"weight\": 1}, {\"color\": \"grey\", \"from\": \"root\", \"to\": \"TikTok\", \"weight\": 1}, {\"color\": \"grey\", \"from\": \"root\", \"to\": \"JPMorgan Chase \\u0026 Co.\", \"weight\": 1}, {\"color\": \"grey\", \"from\": \"root\", \"to\": \"ADA\", \"weight\": 1}, {\"color\": \"grey\", \"from\": \"root\", \"to\": \"Bank Negara Malaysia\", \"weight\": 1}, {\"color\": \"grey\", \"from\": \"root\", \"to\": \"General Assembly\", \"weight\": 1}, {\"color\": \"grey\", \"from\": \"root\", \"to\": \"Hugging Face\", \"weight\": 1}, {\"color\": \"grey\", \"from\": \"root\", \"to\": \"Spotify\", \"weight\": 1}, {\"color\": \"grey\", \"from\": \"root\", \"to\": \"Airbnb\", \"weight\": 1}, {\"color\": \"grey\", \"from\": \"root\", \"to\": \"Setel\", \"weight\": 1}, {\"color\": \"grey\", \"from\": \"root\", \"to\": \"LinkedIn\", \"weight\": 1}, {\"color\": \"grey\", \"from\": \"root\", \"to\": \"Databricks\", \"weight\": 1}, {\"color\": \"grey\", \"from\": \"root\", \"to\": \"Clarusway\", \"weight\": 1}, {\"color\": \"grey\", \"from\": \"root\", \"to\": \"Fave\", \"weight\": 1}, {\"color\": \"grey\", \"from\": \"root\", \"to\": \"Carsome\", \"weight\": 1}, {\"color\": \"grey\", \"from\": \"root\", \"to\": \"GBG Plc\", \"weight\": 1}, {\"color\": \"grey\", \"from\": \"root\", \"to\": \"Deloitte\", \"weight\": 1}, {\"color\": \"grey\", \"from\": \"root\", \"to\": \"Bayezian\", \"weight\": 1}]);\n",
              "\n",
              "        // adding nodes and edges to the graph\n",
              "        data = {nodes: nodes, edges: edges};\n",
              "\n",
              "        var options = {\n",
              "    \"configure\": {\n",
              "        \"enabled\": false\n",
              "    },\n",
              "    \"edges\": {\n",
              "        \"color\": {\n",
              "            \"inherit\": true\n",
              "        },\n",
              "        \"smooth\": {\n",
              "            \"enabled\": false,\n",
              "            \"type\": \"continuous\"\n",
              "        }\n",
              "    },\n",
              "    \"interaction\": {\n",
              "        \"dragNodes\": true,\n",
              "        \"hideEdgesOnDrag\": false,\n",
              "        \"hideNodesOnDrag\": false\n",
              "    },\n",
              "    \"physics\": {\n",
              "        \"enabled\": true,\n",
              "        \"hierarchicalRepulsion\": {\n",
              "            \"centralGravity\": 0.0,\n",
              "            \"damping\": 0.09,\n",
              "            \"nodeDistance\": 120,\n",
              "            \"springConstant\": 0.01,\n",
              "            \"springLength\": 100\n",
              "        },\n",
              "        \"solver\": \"hierarchicalRepulsion\",\n",
              "        \"stabilization\": {\n",
              "            \"enabled\": true,\n",
              "            \"fit\": true,\n",
              "            \"iterations\": 1000,\n",
              "            \"onlyDynamicEdges\": false,\n",
              "            \"updateInterval\": 50\n",
              "        }\n",
              "    }\n",
              "};\n",
              "        \n",
              "        \n",
              "\n",
              "        \n",
              "\n",
              "        network = new vis.Network(container, data, options);\n",
              "\t \n",
              "        \n",
              "\n",
              "\n",
              "        \n",
              "\n",
              "        return network;\n",
              "\n",
              "    }\n",
              "\n",
              "    drawGraph();\n",
              "\n",
              "</script>\n",
              "</body>\n",
              "</html>"
            ],
            "text/plain": [
              "<IPython.core.display.HTML object>"
            ]
          },
          "metadata": {}
        }
      ]
    },
    {
      "cell_type": "code",
      "metadata": {
        "colab": {
          "base_uri": "https://localhost:8080/",
          "height": 738
        },
        "id": "L_ilNMem_lXz",
        "outputId": "2a48c24f-85b0-41bb-89be-7af57e1fd8be"
      },
      "source": [
        "# initialize graph\n",
        "g = nx.Graph()\n",
        "g.add_node('root') # intialize yourself as central\n",
        "\n",
        "# use iterrows tp iterate through the data frame\n",
        "for _, row in df_position_reduced.iterrows():\n",
        "\n",
        "  count = f\"{row['count']}\"\n",
        "  position= row['position']\n",
        "  \n",
        "  g.add_node(position, size=count, color='#3449eb', title=count)\n",
        "  g.add_edge('root', position, color='grey')\n",
        "\n",
        "# generate the graph\n",
        "nt = net.Network(height='700px', width='700px', bgcolor=\"black\", font_color='white')\n",
        "nt.from_nx(g)\n",
        "nt.hrepulsion()\n",
        "# more customization https://tinyurl.com/yf5lvvdm\n",
        "nt.show('position_graph.html')\n",
        "display(HTML('position_graph.html'))"
      ],
      "execution_count": null,
      "outputs": [
        {
          "output_type": "display_data",
          "data": {
            "text/html": [
              "<html>\n",
              "<head>\n",
              "<link rel=\"stylesheet\" href=\"https://cdnjs.cloudflare.com/ajax/libs/vis/4.16.1/vis.css\" type=\"text/css\" />\n",
              "<script type=\"text/javascript\" src=\"https://cdnjs.cloudflare.com/ajax/libs/vis/4.16.1/vis-network.min.js\"> </script>\n",
              "<center>\n",
              "<h1></h1>\n",
              "</center>\n",
              "\n",
              "<!-- <link rel=\"stylesheet\" href=\"../node_modules/vis/dist/vis.min.css\" type=\"text/css\" />\n",
              "<script type=\"text/javascript\" src=\"../node_modules/vis/dist/vis.js\"> </script>-->\n",
              "\n",
              "<style type=\"text/css\">\n",
              "\n",
              "        #mynetwork {\n",
              "            width: 700px;\n",
              "            height: 700px;\n",
              "            background-color: black;\n",
              "            border: 1px solid lightgray;\n",
              "            position: relative;\n",
              "            float: left;\n",
              "        }\n",
              "\n",
              "        \n",
              "\n",
              "        \n",
              "\n",
              "        \n",
              "</style>\n",
              "\n",
              "</head>\n",
              "\n",
              "<body>\n",
              "<div id = \"mynetwork\"></div>\n",
              "\n",
              "\n",
              "<script type=\"text/javascript\">\n",
              "\n",
              "    // initialize global variables.\n",
              "    var edges;\n",
              "    var nodes;\n",
              "    var network; \n",
              "    var container;\n",
              "    var options, data;\n",
              "\n",
              "    \n",
              "    // This method is responsible for drawing the graph, returns the drawn network\n",
              "    function drawGraph() {\n",
              "        var container = document.getElementById('mynetwork');\n",
              "        \n",
              "        \n",
              "\n",
              "        // parsing and collecting nodes and edges from the python\n",
              "        nodes = new vis.DataSet([{\"font\": {\"color\": \"white\"}, \"id\": \"root\", \"label\": \"root\", \"shape\": \"dot\", \"size\": 10}, {\"color\": \"#3449eb\", \"font\": {\"color\": \"white\"}, \"id\": \"Data Scientist\", \"label\": \"Data Scientist\", \"shape\": \"dot\", \"size\": 293, \"title\": \"293\"}, {\"color\": \"#3449eb\", \"font\": {\"color\": \"white\"}, \"id\": \"Data Analyst\", \"label\": \"Data Analyst\", \"shape\": \"dot\", \"size\": 71, \"title\": \"71\"}, {\"color\": \"#3449eb\", \"font\": {\"color\": \"white\"}, \"id\": \"Senior Data Scientist\", \"label\": \"Senior Data Scientist\", \"shape\": \"dot\", \"size\": 67, \"title\": \"67\"}, {\"color\": \"#3449eb\", \"font\": {\"color\": \"white\"}, \"id\": \"Data Engineer\", \"label\": \"Data Engineer\", \"shape\": \"dot\", \"size\": 55, \"title\": \"55\"}, {\"color\": \"#3449eb\", \"font\": {\"color\": \"white\"}, \"id\": \"Founder\", \"label\": \"Founder\", \"shape\": \"dot\", \"size\": 49, \"title\": \"49\"}, {\"color\": \"#3449eb\", \"font\": {\"color\": \"white\"}, \"id\": \"Software Engineer\", \"label\": \"Software Engineer\", \"shape\": \"dot\", \"size\": 44, \"title\": \"44\"}, {\"color\": \"#3449eb\", \"font\": {\"color\": \"white\"}, \"id\": \"Machine Learning Engineer\", \"label\": \"Machine Learning Engineer\", \"shape\": \"dot\", \"size\": 41, \"title\": \"41\"}, {\"color\": \"#3449eb\", \"font\": {\"color\": \"white\"}, \"id\": \"Co-Founder\", \"label\": \"Co-Founder\", \"shape\": \"dot\", \"size\": 35, \"title\": \"35\"}, {\"color\": \"#3449eb\", \"font\": {\"color\": \"white\"}, \"id\": \"Lead Data Scientist\", \"label\": \"Lead Data Scientist\", \"shape\": \"dot\", \"size\": 18, \"title\": \"18\"}, {\"color\": \"#3449eb\", \"font\": {\"color\": \"white\"}, \"id\": \"Research Assistant\", \"label\": \"Research Assistant\", \"shape\": \"dot\", \"size\": 16, \"title\": \"16\"}, {\"color\": \"#3449eb\", \"font\": {\"color\": \"white\"}, \"id\": \"Business Analyst\", \"label\": \"Business Analyst\", \"shape\": \"dot\", \"size\": 15, \"title\": \"15\"}, {\"color\": \"#3449eb\", \"font\": {\"color\": \"white\"}, \"id\": \"Data Science Intern\", \"label\": \"Data Science Intern\", \"shape\": \"dot\", \"size\": 14, \"title\": \"14\"}, {\"color\": \"#3449eb\", \"font\": {\"color\": \"white\"}, \"id\": \"Senior Machine Learning Engineer\", \"label\": \"Senior Machine Learning Engineer\", \"shape\": \"dot\", \"size\": 12, \"title\": \"12\"}, {\"color\": \"#3449eb\", \"font\": {\"color\": \"white\"}, \"id\": \"Senior Data Engineer\", \"label\": \"Senior Data Engineer\", \"shape\": \"dot\", \"size\": 10, \"title\": \"10\"}, {\"color\": \"#3449eb\", \"font\": {\"color\": \"white\"}, \"id\": \"Senior Software Engineer\", \"label\": \"Senior Software Engineer\", \"shape\": \"dot\", \"size\": 10, \"title\": \"10\"}, {\"color\": \"#3449eb\", \"font\": {\"color\": \"white\"}, \"id\": \"Junior Data Scientist\", \"label\": \"Junior Data Scientist\", \"shape\": \"dot\", \"size\": 10, \"title\": \"10\"}, {\"color\": \"#3449eb\", \"font\": {\"color\": \"white\"}, \"id\": \"AI Engineer\", \"label\": \"AI Engineer\", \"shape\": \"dot\", \"size\": 8, \"title\": \"8\"}, {\"color\": \"#3449eb\", \"font\": {\"color\": \"white\"}, \"id\": \"Business Intelligence Analyst\", \"label\": \"Business Intelligence Analyst\", \"shape\": \"dot\", \"size\": 8, \"title\": \"8\"}, {\"color\": \"#3449eb\", \"font\": {\"color\": \"white\"}, \"id\": \"Chief Data Scientist\", \"label\": \"Chief Data Scientist\", \"shape\": \"dot\", \"size\": 8, \"title\": \"8\"}, {\"color\": \"#3449eb\", \"font\": {\"color\": \"white\"}, \"id\": \"Analyst\", \"label\": \"Analyst\", \"shape\": \"dot\", \"size\": 8, \"title\": \"8\"}, {\"color\": \"#3449eb\", \"font\": {\"color\": \"white\"}, \"id\": \"Software Developer\", \"label\": \"Software Developer\", \"shape\": \"dot\", \"size\": 8, \"title\": \"8\"}, {\"color\": \"#3449eb\", \"font\": {\"color\": \"white\"}, \"id\": \"Sr. Data Scientist\", \"label\": \"Sr. Data Scientist\", \"shape\": \"dot\", \"size\": 7, \"title\": \"7\"}, {\"color\": \"#3449eb\", \"font\": {\"color\": \"white\"}, \"id\": \"Founder \\u0026 CEO\", \"label\": \"Founder \\u0026 CEO\", \"shape\": \"dot\", \"size\": 7, \"title\": \"7\"}, {\"color\": \"#3449eb\", \"font\": {\"color\": \"white\"}, \"id\": \"Senior Data Analyst\", \"label\": \"Senior Data Analyst\", \"shape\": \"dot\", \"size\": 7, \"title\": \"7\"}, {\"color\": \"#3449eb\", \"font\": {\"color\": \"white\"}, \"id\": \"Principal Data Scientist\", \"label\": \"Principal Data Scientist\", \"shape\": \"dot\", \"size\": 7, \"title\": \"7\"}, {\"color\": \"#3449eb\", \"font\": {\"color\": \"white\"}, \"id\": \"Head of Data Science\", \"label\": \"Head of Data Science\", \"shape\": \"dot\", \"size\": 7, \"title\": \"7\"}, {\"color\": \"#3449eb\", \"font\": {\"color\": \"white\"}, \"id\": \"Big Data Engineer\", \"label\": \"Big Data Engineer\", \"shape\": \"dot\", \"size\": 7, \"title\": \"7\"}, {\"color\": \"#3449eb\", \"font\": {\"color\": \"white\"}, \"id\": \"CEO\", \"label\": \"CEO\", \"shape\": \"dot\", \"size\": 7, \"title\": \"7\"}, {\"color\": \"#3449eb\", \"font\": {\"color\": \"white\"}, \"id\": \"Deep Learning Engineer\", \"label\": \"Deep Learning Engineer\", \"shape\": \"dot\", \"size\": 6, \"title\": \"6\"}, {\"color\": \"#3449eb\", \"font\": {\"color\": \"white\"}, \"id\": \"Associate\", \"label\": \"Associate\", \"shape\": \"dot\", \"size\": 6, \"title\": \"6\"}, {\"color\": \"#3449eb\", \"font\": {\"color\": \"white\"}, \"id\": \"Intern\", \"label\": \"Intern\", \"shape\": \"dot\", \"size\": 6, \"title\": \"6\"}, {\"color\": \"#3449eb\", \"font\": {\"color\": \"white\"}, \"id\": \"Student\", \"label\": \"Student\", \"shape\": \"dot\", \"size\": 6, \"title\": \"6\"}, {\"color\": \"#3449eb\", \"font\": {\"color\": \"white\"}, \"id\": \"Consultant\", \"label\": \"Consultant\", \"shape\": \"dot\", \"size\": 6, \"title\": \"6\"}, {\"color\": \"#3449eb\", \"font\": {\"color\": \"white\"}, \"id\": \"Co-Founder \\u0026 CEO\", \"label\": \"Co-Founder \\u0026 CEO\", \"shape\": \"dot\", \"size\": 6, \"title\": \"6\"}, {\"color\": \"#3449eb\", \"font\": {\"color\": \"white\"}, \"id\": \"Research Scientist\", \"label\": \"Research Scientist\", \"shape\": \"dot\", \"size\": 6, \"title\": \"6\"}, {\"color\": \"#3449eb\", \"font\": {\"color\": \"white\"}, \"id\": \"Graduate Teaching Assistant\", \"label\": \"Graduate Teaching Assistant\", \"shape\": \"dot\", \"size\": 6, \"title\": \"6\"}, {\"color\": \"#3449eb\", \"font\": {\"color\": \"white\"}, \"id\": \"Data Analyst Intern\", \"label\": \"Data Analyst Intern\", \"shape\": \"dot\", \"size\": 6, \"title\": \"6\"}, {\"color\": \"#3449eb\", \"font\": {\"color\": \"white\"}, \"id\": \"Product Manager\", \"label\": \"Product Manager\", \"shape\": \"dot\", \"size\": 6, \"title\": \"6\"}, {\"color\": \"#3449eb\", \"font\": {\"color\": \"white\"}, \"id\": \"Chief Executive Officer\", \"label\": \"Chief Executive Officer\", \"shape\": \"dot\", \"size\": 6, \"title\": \"6\"}, {\"color\": \"#3449eb\", \"font\": {\"color\": \"white\"}, \"id\": \"Technical Writer\", \"label\": \"Technical Writer\", \"shape\": \"dot\", \"size\": 5, \"title\": \"5\"}, {\"color\": \"#3449eb\", \"font\": {\"color\": \"white\"}, \"id\": \"Software Engineer Intern\", \"label\": \"Software Engineer Intern\", \"shape\": \"dot\", \"size\": 5, \"title\": \"5\"}, {\"color\": \"#3449eb\", \"font\": {\"color\": \"white\"}, \"id\": \"Graduate Research Assistant\", \"label\": \"Graduate Research Assistant\", \"shape\": \"dot\", \"size\": 5, \"title\": \"5\"}, {\"color\": \"#3449eb\", \"font\": {\"color\": \"white\"}, \"id\": \"Contributing Writer\", \"label\": \"Contributing Writer\", \"shape\": \"dot\", \"size\": 5, \"title\": \"5\"}, {\"color\": \"#3449eb\", \"font\": {\"color\": \"white\"}, \"id\": \"Data Science Manager\", \"label\": \"Data Science Manager\", \"shape\": \"dot\", \"size\": 5, \"title\": \"5\"}, {\"color\": \"#3449eb\", \"font\": {\"color\": \"white\"}, \"id\": \"Lead Data Engineer\", \"label\": \"Lead Data Engineer\", \"shape\": \"dot\", \"size\": 5, \"title\": \"5\"}, {\"color\": \"#3449eb\", \"font\": {\"color\": \"white\"}, \"id\": \"Machine Learning Intern\", \"label\": \"Machine Learning Intern\", \"shape\": \"dot\", \"size\": 5, \"title\": \"5\"}, {\"color\": \"#3449eb\", \"font\": {\"color\": \"white\"}, \"id\": \"Founder and CEO\", \"label\": \"Founder and CEO\", \"shape\": \"dot\", \"size\": 5, \"title\": \"5\"}]);\n",
              "        edges = new vis.DataSet([{\"color\": \"grey\", \"from\": \"root\", \"to\": \"Data Scientist\", \"weight\": 1}, {\"color\": \"grey\", \"from\": \"root\", \"to\": \"Data Analyst\", \"weight\": 1}, {\"color\": \"grey\", \"from\": \"root\", \"to\": \"Senior Data Scientist\", \"weight\": 1}, {\"color\": \"grey\", \"from\": \"root\", \"to\": \"Data Engineer\", \"weight\": 1}, {\"color\": \"grey\", \"from\": \"root\", \"to\": \"Founder\", \"weight\": 1}, {\"color\": \"grey\", \"from\": \"root\", \"to\": \"Software Engineer\", \"weight\": 1}, {\"color\": \"grey\", \"from\": \"root\", \"to\": \"Machine Learning Engineer\", \"weight\": 1}, {\"color\": \"grey\", \"from\": \"root\", \"to\": \"Co-Founder\", \"weight\": 1}, {\"color\": \"grey\", \"from\": \"root\", \"to\": \"Lead Data Scientist\", \"weight\": 1}, {\"color\": \"grey\", \"from\": \"root\", \"to\": \"Research Assistant\", \"weight\": 1}, {\"color\": \"grey\", \"from\": \"root\", \"to\": \"Business Analyst\", \"weight\": 1}, {\"color\": \"grey\", \"from\": \"root\", \"to\": \"Data Science Intern\", \"weight\": 1}, {\"color\": \"grey\", \"from\": \"root\", \"to\": \"Senior Machine Learning Engineer\", \"weight\": 1}, {\"color\": \"grey\", \"from\": \"root\", \"to\": \"Senior Data Engineer\", \"weight\": 1}, {\"color\": \"grey\", \"from\": \"root\", \"to\": \"Senior Software Engineer\", \"weight\": 1}, {\"color\": \"grey\", \"from\": \"root\", \"to\": \"Junior Data Scientist\", \"weight\": 1}, {\"color\": \"grey\", \"from\": \"root\", \"to\": \"AI Engineer\", \"weight\": 1}, {\"color\": \"grey\", \"from\": \"root\", \"to\": \"Business Intelligence Analyst\", \"weight\": 1}, {\"color\": \"grey\", \"from\": \"root\", \"to\": \"Chief Data Scientist\", \"weight\": 1}, {\"color\": \"grey\", \"from\": \"root\", \"to\": \"Analyst\", \"weight\": 1}, {\"color\": \"grey\", \"from\": \"root\", \"to\": \"Software Developer\", \"weight\": 1}, {\"color\": \"grey\", \"from\": \"root\", \"to\": \"Sr. Data Scientist\", \"weight\": 1}, {\"color\": \"grey\", \"from\": \"root\", \"to\": \"Founder \\u0026 CEO\", \"weight\": 1}, {\"color\": \"grey\", \"from\": \"root\", \"to\": \"Senior Data Analyst\", \"weight\": 1}, {\"color\": \"grey\", \"from\": \"root\", \"to\": \"Principal Data Scientist\", \"weight\": 1}, {\"color\": \"grey\", \"from\": \"root\", \"to\": \"Head of Data Science\", \"weight\": 1}, {\"color\": \"grey\", \"from\": \"root\", \"to\": \"Big Data Engineer\", \"weight\": 1}, {\"color\": \"grey\", \"from\": \"root\", \"to\": \"CEO\", \"weight\": 1}, {\"color\": \"grey\", \"from\": \"root\", \"to\": \"Deep Learning Engineer\", \"weight\": 1}, {\"color\": \"grey\", \"from\": \"root\", \"to\": \"Associate\", \"weight\": 1}, {\"color\": \"grey\", \"from\": \"root\", \"to\": \"Intern\", \"weight\": 1}, {\"color\": \"grey\", \"from\": \"root\", \"to\": \"Student\", \"weight\": 1}, {\"color\": \"grey\", \"from\": \"root\", \"to\": \"Consultant\", \"weight\": 1}, {\"color\": \"grey\", \"from\": \"root\", \"to\": \"Co-Founder \\u0026 CEO\", \"weight\": 1}, {\"color\": \"grey\", \"from\": \"root\", \"to\": \"Research Scientist\", \"weight\": 1}, {\"color\": \"grey\", \"from\": \"root\", \"to\": \"Graduate Teaching Assistant\", \"weight\": 1}, {\"color\": \"grey\", \"from\": \"root\", \"to\": \"Data Analyst Intern\", \"weight\": 1}, {\"color\": \"grey\", \"from\": \"root\", \"to\": \"Product Manager\", \"weight\": 1}, {\"color\": \"grey\", \"from\": \"root\", \"to\": \"Chief Executive Officer\", \"weight\": 1}, {\"color\": \"grey\", \"from\": \"root\", \"to\": \"Technical Writer\", \"weight\": 1}, {\"color\": \"grey\", \"from\": \"root\", \"to\": \"Software Engineer Intern\", \"weight\": 1}, {\"color\": \"grey\", \"from\": \"root\", \"to\": \"Graduate Research Assistant\", \"weight\": 1}, {\"color\": \"grey\", \"from\": \"root\", \"to\": \"Contributing Writer\", \"weight\": 1}, {\"color\": \"grey\", \"from\": \"root\", \"to\": \"Data Science Manager\", \"weight\": 1}, {\"color\": \"grey\", \"from\": \"root\", \"to\": \"Lead Data Engineer\", \"weight\": 1}, {\"color\": \"grey\", \"from\": \"root\", \"to\": \"Machine Learning Intern\", \"weight\": 1}, {\"color\": \"grey\", \"from\": \"root\", \"to\": \"Founder and CEO\", \"weight\": 1}]);\n",
              "\n",
              "        // adding nodes and edges to the graph\n",
              "        data = {nodes: nodes, edges: edges};\n",
              "\n",
              "        var options = {\n",
              "    \"configure\": {\n",
              "        \"enabled\": false\n",
              "    },\n",
              "    \"edges\": {\n",
              "        \"color\": {\n",
              "            \"inherit\": true\n",
              "        },\n",
              "        \"smooth\": {\n",
              "            \"enabled\": false,\n",
              "            \"type\": \"continuous\"\n",
              "        }\n",
              "    },\n",
              "    \"interaction\": {\n",
              "        \"dragNodes\": true,\n",
              "        \"hideEdgesOnDrag\": false,\n",
              "        \"hideNodesOnDrag\": false\n",
              "    },\n",
              "    \"physics\": {\n",
              "        \"enabled\": true,\n",
              "        \"hierarchicalRepulsion\": {\n",
              "            \"centralGravity\": 0.0,\n",
              "            \"damping\": 0.09,\n",
              "            \"nodeDistance\": 120,\n",
              "            \"springConstant\": 0.01,\n",
              "            \"springLength\": 100\n",
              "        },\n",
              "        \"solver\": \"hierarchicalRepulsion\",\n",
              "        \"stabilization\": {\n",
              "            \"enabled\": true,\n",
              "            \"fit\": true,\n",
              "            \"iterations\": 1000,\n",
              "            \"onlyDynamicEdges\": false,\n",
              "            \"updateInterval\": 50\n",
              "        }\n",
              "    }\n",
              "};\n",
              "        \n",
              "        \n",
              "\n",
              "        \n",
              "\n",
              "        network = new vis.Network(container, data, options);\n",
              "\t \n",
              "        \n",
              "\n",
              "\n",
              "        \n",
              "\n",
              "        return network;\n",
              "\n",
              "    }\n",
              "\n",
              "    drawGraph();\n",
              "\n",
              "</script>\n",
              "</body>\n",
              "</html>"
            ],
            "text/plain": [
              "<IPython.core.display.HTML object>"
            ]
          },
          "metadata": {}
        }
      ]
    }
  ]
}